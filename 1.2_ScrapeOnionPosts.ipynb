{
 "cells": [
  {
   "cell_type": "code",
   "execution_count": 1,
   "metadata": {},
   "outputs": [],
   "source": [
    "import pandas as pd\n",
    "import numpy as np"
   ]
  },
  {
   "cell_type": "code",
   "execution_count": 2,
   "metadata": {},
   "outputs": [],
   "source": [
    "from ipynb.fs.full.ScrapeFunction import has_deleted, remove_deleted_posts, scrape_reddit"
   ]
  },
  {
   "cell_type": "code",
   "execution_count": 3,
   "metadata": {},
   "outputs": [
    {
     "name": "stdout",
     "output_type": "stream",
     "text": [
      "Status Code 200\n",
      "No. of posts scraped =85\n",
      "Total No. of posts scraped = 85\n",
      "----------------\n",
      "Status Code 200\n",
      "No. of posts scraped =79\n",
      "Total No. of posts scraped = 164\n",
      "----------------\n",
      "Status Code 200\n",
      "No. of posts scraped =87\n",
      "Total No. of posts scraped = 251\n",
      "----------------\n",
      "Status Code 200\n",
      "No. of posts scraped =85\n",
      "Total No. of posts scraped = 336\n",
      "----------------\n",
      "Status Code 200\n",
      "No. of posts scraped =86\n",
      "Total No. of posts scraped = 422\n",
      "----------------\n",
      "Status Code 200\n",
      "No. of posts scraped =90\n",
      "Total No. of posts scraped = 512\n",
      "----------------\n",
      "Status Code 200\n",
      "No. of posts scraped =86\n",
      "Total No. of posts scraped = 598\n",
      "----------------\n",
      "Status Code 200\n",
      "No. of posts scraped =92\n",
      "Total No. of posts scraped = 690\n",
      "----------------\n",
      "Status Code 200\n",
      "No. of posts scraped =93\n",
      "Total No. of posts scraped = 783\n",
      "----------------\n",
      "Status Code 200\n",
      "No. of posts scraped =88\n",
      "Total No. of posts scraped = 871\n",
      "----------------\n",
      "Status Code 200\n",
      "No. of posts scraped =88\n",
      "Total No. of posts scraped = 959\n",
      "----------------\n",
      "Status Code 200\n",
      "No. of posts scraped =84\n",
      "Total No. of posts scraped = 1043\n",
      "----------------\n",
      "Status Code 200\n",
      "No. of posts scraped =89\n",
      "Total No. of posts scraped = 1132\n",
      "----------------\n",
      "Status Code 200\n",
      "No. of posts scraped =89\n",
      "Total No. of posts scraped = 1221\n",
      "----------------\n",
      "Status Code 200\n",
      "No. of posts scraped =72\n",
      "Total No. of posts scraped = 1293\n",
      "----------------\n",
      "Status Code 200\n",
      "No. of posts scraped =89\n",
      "Total No. of posts scraped = 1382\n",
      "----------------\n",
      "Status Code 200\n",
      "No. of posts scraped =84\n",
      "Total No. of posts scraped = 1466\n",
      "----------------\n",
      "Status Code 200\n",
      "No. of posts scraped =86\n",
      "Total No. of posts scraped = 1552\n",
      "----------------\n",
      "Status Code 200\n",
      "No. of posts scraped =88\n",
      "Total No. of posts scraped = 1640\n",
      "----------------\n",
      "Status Code 200\n",
      "No. of posts scraped =92\n",
      "Total No. of posts scraped = 1732\n",
      "----------------\n",
      "Status Code 200\n",
      "No. of posts scraped =89\n",
      "Total No. of posts scraped = 1821\n",
      "----------------\n",
      "Status Code 200\n",
      "No. of posts scraped =96\n",
      "Total No. of posts scraped = 1917\n",
      "----------------\n",
      "Status Code 200\n",
      "No. of posts scraped =93\n",
      "Total No. of posts scraped = 2010\n",
      "----------------\n",
      "Status Code 200\n",
      "No. of posts scraped =92\n",
      "Total No. of posts scraped = 2102\n",
      "----------------\n",
      "Status Code 200\n",
      "No. of posts scraped =83\n",
      "Total No. of posts scraped = 2185\n",
      "----------------\n",
      "Status Code 200\n",
      "No. of posts scraped =98\n",
      "Total No. of posts scraped = 2283\n",
      "----------------\n",
      "Status Code 200\n",
      "No. of posts scraped =100\n",
      "Total No. of posts scraped = 2383\n",
      "----------------\n",
      "Status Code 200\n",
      "No. of posts scraped =100\n",
      "Total No. of posts scraped = 2483\n",
      "----------------\n",
      "Status Code 200\n",
      "No. of posts scraped =100\n",
      "Total No. of posts scraped = 2583\n",
      "----------------\n"
     ]
    }
   ],
   "source": [
    "#Scrape posts from TheOnion Subreddit into list\n",
    "onion_posts = scrape_reddit('TheOnion',2500)"
   ]
  },
  {
   "cell_type": "code",
   "execution_count": 4,
   "metadata": {},
   "outputs": [],
   "source": [
    "#read list of onion_posts into Dataframe\n",
    "onion_df = pd.DataFrame(onion_posts)"
   ]
  },
  {
   "cell_type": "code",
   "execution_count": 5,
   "metadata": {
    "scrolled": false
   },
   "outputs": [
    {
     "name": "stdout",
     "output_type": "stream",
     "text": [
      "<class 'pandas.core.frame.DataFrame'>\n",
      "RangeIndex: 2583 entries, 0 to 2582\n",
      "Data columns (total 80 columns):\n",
      " #   Column                         Non-Null Count  Dtype  \n",
      "---  ------                         --------------  -----  \n",
      " 0   all_awardings                  2583 non-null   object \n",
      " 1   allow_live_comments            2583 non-null   bool   \n",
      " 2   author                         2583 non-null   object \n",
      " 3   author_flair_css_class         0 non-null      object \n",
      " 4   author_flair_richtext          2581 non-null   object \n",
      " 5   author_flair_text              0 non-null      object \n",
      " 6   author_flair_type              2581 non-null   object \n",
      " 7   author_fullname                2581 non-null   object \n",
      " 8   author_patreon_flair           2581 non-null   object \n",
      " 9   author_premium                 2284 non-null   object \n",
      " 10  awarders                       2583 non-null   object \n",
      " 11  can_mod_post                   2583 non-null   bool   \n",
      " 12  contest_mode                   2583 non-null   bool   \n",
      " 13  created_utc                    2583 non-null   int64  \n",
      " 14  domain                         2583 non-null   object \n",
      " 15  full_link                      2583 non-null   object \n",
      " 16  gildings                       2583 non-null   object \n",
      " 17  id                             2583 non-null   object \n",
      " 18  is_crosspostable               2583 non-null   bool   \n",
      " 19  is_meta                        2583 non-null   bool   \n",
      " 20  is_original_content            2583 non-null   bool   \n",
      " 21  is_reddit_media_domain         2583 non-null   bool   \n",
      " 22  is_robot_indexable             2583 non-null   bool   \n",
      " 23  is_self                        2583 non-null   bool   \n",
      " 24  is_video                       2583 non-null   bool   \n",
      " 25  link_flair_background_color    2583 non-null   object \n",
      " 26  link_flair_richtext            2583 non-null   object \n",
      " 27  link_flair_text_color          2583 non-null   object \n",
      " 28  link_flair_type                2583 non-null   object \n",
      " 29  locked                         2583 non-null   bool   \n",
      " 30  media_only                     2583 non-null   bool   \n",
      " 31  no_follow                      2583 non-null   bool   \n",
      " 32  num_comments                   2583 non-null   int64  \n",
      " 33  num_crossposts                 2583 non-null   int64  \n",
      " 34  over_18                        2583 non-null   bool   \n",
      " 35  parent_whitelist_status        2583 non-null   object \n",
      " 36  permalink                      2583 non-null   object \n",
      " 37  pinned                         2583 non-null   bool   \n",
      " 38  post_hint                      1877 non-null   object \n",
      " 39  preview                        1877 non-null   object \n",
      " 40  pwls                           2583 non-null   int64  \n",
      " 41  retrieved_on                   2583 non-null   int64  \n",
      " 42  score                          2583 non-null   int64  \n",
      " 43  selftext                       2583 non-null   object \n",
      " 44  send_replies                   2583 non-null   bool   \n",
      " 45  spoiler                        2583 non-null   bool   \n",
      " 46  stickied                       2583 non-null   bool   \n",
      " 47  subreddit                      2583 non-null   object \n",
      " 48  subreddit_id                   2583 non-null   object \n",
      " 49  subreddit_subscribers          2583 non-null   int64  \n",
      " 50  subreddit_type                 2583 non-null   object \n",
      " 51  thumbnail                      2583 non-null   object \n",
      " 52  thumbnail_height               1880 non-null   float64\n",
      " 53  thumbnail_width                1880 non-null   float64\n",
      " 54  title                          2583 non-null   object \n",
      " 55  total_awards_received          2583 non-null   int64  \n",
      " 56  treatment_tags                 1491 non-null   object \n",
      " 57  upvote_ratio                   1377 non-null   float64\n",
      " 58  url                            2583 non-null   object \n",
      " 59  url_overridden_by_dest         1106 non-null   object \n",
      " 60  whitelist_status               2583 non-null   object \n",
      " 61  wls                            2583 non-null   int64  \n",
      " 62  media                          333 non-null    object \n",
      " 63  media_embed                    333 non-null    object \n",
      " 64  secure_media                   333 non-null    object \n",
      " 65  secure_media_embed             333 non-null    object \n",
      " 66  removed_by_category            3 non-null      object \n",
      " 67  author_flair_background_color  2 non-null      object \n",
      " 68  author_flair_text_color        2 non-null      object \n",
      " 69  gallery_data                   1 non-null      object \n",
      " 70  is_gallery                     1 non-null      object \n",
      " 71  media_metadata                 1 non-null      object \n",
      " 72  author_cakeday                 5 non-null      object \n",
      " 73  crosspost_parent               6 non-null      object \n",
      " 74  crosspost_parent_list          6 non-null      object \n",
      " 75  steward_reports                573 non-null    object \n",
      " 76  removed_by                     12 non-null     object \n",
      " 77  updated_utc                    168 non-null    float64\n",
      " 78  og_description                 31 non-null     object \n",
      " 79  og_title                       31 non-null     object \n",
      "dtypes: bool(18), float64(4), int64(9), object(49)\n",
      "memory usage: 1.3+ MB\n"
     ]
    }
   ],
   "source": [
    "onion_df.info()"
   ]
  },
  {
   "cell_type": "code",
   "execution_count": 6,
   "metadata": {},
   "outputs": [
    {
     "data": {
      "text/plain": [
       "array([nan, 'moderator', 'deleted'], dtype=object)"
      ]
     },
     "execution_count": 6,
     "metadata": {},
     "output_type": "execute_result"
    }
   ],
   "source": [
    "#check for unique values in removed_by_category\n",
    "onion_df['removed_by_category'].unique()"
   ]
  },
  {
   "cell_type": "code",
   "execution_count": 7,
   "metadata": {},
   "outputs": [],
   "source": [
    "#drop rows where removed_by_category is not nan\n",
    "onion_df = onion_df[onion_df['removed_by_category'] != 'moderator']"
   ]
  },
  {
   "cell_type": "code",
   "execution_count": 8,
   "metadata": {},
   "outputs": [
    {
     "name": "stdout",
     "output_type": "stream",
     "text": [
      "<class 'pandas.core.frame.DataFrame'>\n",
      "Int64Index: 2581 entries, 0 to 2582\n",
      "Data columns (total 80 columns):\n",
      " #   Column                         Non-Null Count  Dtype  \n",
      "---  ------                         --------------  -----  \n",
      " 0   all_awardings                  2581 non-null   object \n",
      " 1   allow_live_comments            2581 non-null   bool   \n",
      " 2   author                         2581 non-null   object \n",
      " 3   author_flair_css_class         0 non-null      object \n",
      " 4   author_flair_richtext          2579 non-null   object \n",
      " 5   author_flair_text              0 non-null      object \n",
      " 6   author_flair_type              2579 non-null   object \n",
      " 7   author_fullname                2579 non-null   object \n",
      " 8   author_patreon_flair           2579 non-null   object \n",
      " 9   author_premium                 2282 non-null   object \n",
      " 10  awarders                       2581 non-null   object \n",
      " 11  can_mod_post                   2581 non-null   bool   \n",
      " 12  contest_mode                   2581 non-null   bool   \n",
      " 13  created_utc                    2581 non-null   int64  \n",
      " 14  domain                         2581 non-null   object \n",
      " 15  full_link                      2581 non-null   object \n",
      " 16  gildings                       2581 non-null   object \n",
      " 17  id                             2581 non-null   object \n",
      " 18  is_crosspostable               2581 non-null   bool   \n",
      " 19  is_meta                        2581 non-null   bool   \n",
      " 20  is_original_content            2581 non-null   bool   \n",
      " 21  is_reddit_media_domain         2581 non-null   bool   \n",
      " 22  is_robot_indexable             2581 non-null   bool   \n",
      " 23  is_self                        2581 non-null   bool   \n",
      " 24  is_video                       2581 non-null   bool   \n",
      " 25  link_flair_background_color    2581 non-null   object \n",
      " 26  link_flair_richtext            2581 non-null   object \n",
      " 27  link_flair_text_color          2581 non-null   object \n",
      " 28  link_flair_type                2581 non-null   object \n",
      " 29  locked                         2581 non-null   bool   \n",
      " 30  media_only                     2581 non-null   bool   \n",
      " 31  no_follow                      2581 non-null   bool   \n",
      " 32  num_comments                   2581 non-null   int64  \n",
      " 33  num_crossposts                 2581 non-null   int64  \n",
      " 34  over_18                        2581 non-null   bool   \n",
      " 35  parent_whitelist_status        2581 non-null   object \n",
      " 36  permalink                      2581 non-null   object \n",
      " 37  pinned                         2581 non-null   bool   \n",
      " 38  post_hint                      1875 non-null   object \n",
      " 39  preview                        1875 non-null   object \n",
      " 40  pwls                           2581 non-null   int64  \n",
      " 41  retrieved_on                   2581 non-null   int64  \n",
      " 42  score                          2581 non-null   int64  \n",
      " 43  selftext                       2581 non-null   object \n",
      " 44  send_replies                   2581 non-null   bool   \n",
      " 45  spoiler                        2581 non-null   bool   \n",
      " 46  stickied                       2581 non-null   bool   \n",
      " 47  subreddit                      2581 non-null   object \n",
      " 48  subreddit_id                   2581 non-null   object \n",
      " 49  subreddit_subscribers          2581 non-null   int64  \n",
      " 50  subreddit_type                 2581 non-null   object \n",
      " 51  thumbnail                      2581 non-null   object \n",
      " 52  thumbnail_height               1878 non-null   float64\n",
      " 53  thumbnail_width                1878 non-null   float64\n",
      " 54  title                          2581 non-null   object \n",
      " 55  total_awards_received          2581 non-null   int64  \n",
      " 56  treatment_tags                 1489 non-null   object \n",
      " 57  upvote_ratio                   1375 non-null   float64\n",
      " 58  url                            2581 non-null   object \n",
      " 59  url_overridden_by_dest         1105 non-null   object \n",
      " 60  whitelist_status               2581 non-null   object \n",
      " 61  wls                            2581 non-null   int64  \n",
      " 62  media                          333 non-null    object \n",
      " 63  media_embed                    333 non-null    object \n",
      " 64  secure_media                   333 non-null    object \n",
      " 65  secure_media_embed             333 non-null    object \n",
      " 66  removed_by_category            1 non-null      object \n",
      " 67  author_flair_background_color  2 non-null      object \n",
      " 68  author_flair_text_color        2 non-null      object \n",
      " 69  gallery_data                   1 non-null      object \n",
      " 70  is_gallery                     1 non-null      object \n",
      " 71  media_metadata                 1 non-null      object \n",
      " 72  author_cakeday                 5 non-null      object \n",
      " 73  crosspost_parent               6 non-null      object \n",
      " 74  crosspost_parent_list          6 non-null      object \n",
      " 75  steward_reports                573 non-null    object \n",
      " 76  removed_by                     12 non-null     object \n",
      " 77  updated_utc                    168 non-null    float64\n",
      " 78  og_description                 31 non-null     object \n",
      " 79  og_title                       31 non-null     object \n",
      "dtypes: bool(18), float64(4), int64(9), object(49)\n",
      "memory usage: 1.3+ MB\n"
     ]
    }
   ],
   "source": [
    "onion_df.info()"
   ]
  },
  {
   "cell_type": "code",
   "execution_count": 9,
   "metadata": {},
   "outputs": [],
   "source": [
    "onion_df = onion_df[['subreddit','title']]"
   ]
  },
  {
   "cell_type": "code",
   "execution_count": 10,
   "metadata": {},
   "outputs": [
    {
     "data": {
      "text/plain": [
       "232"
      ]
     },
     "execution_count": 10,
     "metadata": {},
     "output_type": "execute_result"
    }
   ],
   "source": [
    "#check for duplicates\n",
    "onion_df.duplicated(subset = 'title').sum()"
   ]
  },
  {
   "cell_type": "code",
   "execution_count": 11,
   "metadata": {},
   "outputs": [],
   "source": [
    "onion_df = onion_df.drop_duplicates(subset = 'title', keep = 'first')"
   ]
  },
  {
   "cell_type": "code",
   "execution_count": 12,
   "metadata": {},
   "outputs": [
    {
     "data": {
      "text/plain": [
       "0"
      ]
     },
     "execution_count": 12,
     "metadata": {},
     "output_type": "execute_result"
    }
   ],
   "source": [
    "#Check to confirm there are no more duplicates\n",
    "onion_df.duplicated(subset = 'title').sum()"
   ]
  },
  {
   "cell_type": "code",
   "execution_count": 13,
   "metadata": {},
   "outputs": [
    {
     "data": {
      "text/html": [
       "<div>\n",
       "<style scoped>\n",
       "    .dataframe tbody tr th:only-of-type {\n",
       "        vertical-align: middle;\n",
       "    }\n",
       "\n",
       "    .dataframe tbody tr th {\n",
       "        vertical-align: top;\n",
       "    }\n",
       "\n",
       "    .dataframe thead th {\n",
       "        text-align: right;\n",
       "    }\n",
       "</style>\n",
       "<table border=\"1\" class=\"dataframe\">\n",
       "  <thead>\n",
       "    <tr style=\"text-align: right;\">\n",
       "      <th></th>\n",
       "      <th>subreddit</th>\n",
       "      <th>title</th>\n",
       "    </tr>\n",
       "  </thead>\n",
       "  <tbody>\n",
       "    <tr>\n",
       "      <th>0</th>\n",
       "      <td>TheOnion</td>\n",
       "      <td>CDC Announces It Kind Of Embarrassing To Get C...</td>\n",
       "    </tr>\n",
       "    <tr>\n",
       "      <th>1</th>\n",
       "      <td>TheOnion</td>\n",
       "      <td>Minnesota Activists Showered In Celebratory Te...</td>\n",
       "    </tr>\n",
       "    <tr>\n",
       "      <th>2</th>\n",
       "      <td>TheOnion</td>\n",
       "      <td>Depressed Police Officer Reminds Self That Cha...</td>\n",
       "    </tr>\n",
       "    <tr>\n",
       "      <th>3</th>\n",
       "      <td>TheOnion</td>\n",
       "      <td>‘This Is Strike One, Mr. Chauvin,’ Says Judge ...</td>\n",
       "    </tr>\n",
       "    <tr>\n",
       "      <th>4</th>\n",
       "      <td>TheOnion</td>\n",
       "      <td>Jimmy Carter Shaken To See Friend Walter Monda...</td>\n",
       "    </tr>\n",
       "  </tbody>\n",
       "</table>\n",
       "</div>"
      ],
      "text/plain": [
       "  subreddit                                              title\n",
       "0  TheOnion  CDC Announces It Kind Of Embarrassing To Get C...\n",
       "1  TheOnion  Minnesota Activists Showered In Celebratory Te...\n",
       "2  TheOnion  Depressed Police Officer Reminds Self That Cha...\n",
       "3  TheOnion  ‘This Is Strike One, Mr. Chauvin,’ Says Judge ...\n",
       "4  TheOnion  Jimmy Carter Shaken To See Friend Walter Monda..."
      ]
     },
     "execution_count": 13,
     "metadata": {},
     "output_type": "execute_result"
    }
   ],
   "source": [
    "onion_df.head()"
   ]
  },
  {
   "cell_type": "code",
   "execution_count": 14,
   "metadata": {},
   "outputs": [],
   "source": [
    "#Save news_df to json file\n",
    "onion_df.to_json(r'./data/onion_posts.json')"
   ]
  },
  {
   "cell_type": "code",
   "execution_count": null,
   "metadata": {},
   "outputs": [],
   "source": []
  }
 ],
 "metadata": {
  "kernelspec": {
   "display_name": "Python 3",
   "language": "python",
   "name": "python3"
  },
  "language_info": {
   "codemirror_mode": {
    "name": "ipython",
    "version": 3
   },
   "file_extension": ".py",
   "mimetype": "text/x-python",
   "name": "python",
   "nbconvert_exporter": "python",
   "pygments_lexer": "ipython3",
   "version": "3.8.5"
  }
 },
 "nbformat": 4,
 "nbformat_minor": 4
}
