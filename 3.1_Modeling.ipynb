{
 "cells": [
  {
   "cell_type": "code",
   "execution_count": 1,
   "metadata": {},
   "outputs": [],
   "source": [
    "import scipy.stats as stats\n",
    "import numpy as np\n",
    "import pandas as pd\n",
    "\n",
    "\n",
    "# Modeling\n",
    "from sklearn.linear_model import LinearRegression,LogisticRegression\n",
    "from sklearn import linear_model\n",
    "from sklearn.model_selection import train_test_split,cross_val_score,GridSearchCV\n",
    "from sklearn.preprocessing import StandardScaler,PolynomialFeatures\n",
    "from sklearn.linear_model import Ridge\n",
    "from sklearn.metrics import r2_score,mean_squared_error,confusion_matrix,accuracy_score, f1_score,roc_auc_score, plot_confusion_matrix\n",
    "from sklearn.pipeline import make_pipeline,Pipeline\n",
    "from sklearn.compose import ColumnTransformer\n",
    "from sklearn import set_config\n",
    "from sklearn.ensemble import RandomForestClassifier, ExtraTreesClassifier\n",
    "\n",
    "# nlp\n",
    "from sklearn.feature_extraction.text import CountVectorizer,HashingVectorizer,TfidfVectorizer\n",
    "from sklearn.naive_bayes import MultinomialNB\n",
    "from nltk.tokenize import sent_tokenize, word_tokenize\n",
    "from nltk.corpus import stopwords\n",
    "\n",
    "from nltk.sentiment.vader import SentimentIntensityAnalyzer"
   ]
  },
  {
   "cell_type": "markdown",
   "metadata": {},
   "source": [
    "Before we start the modeling process we will have to prep the data using a train/test split. We will keep the first test set for validation purposes later on and do second train/test split on the train data to use for modeling.\n",
    "\n",
    "Also, as explained earlier in the exploratory data analysis, we will have to add certain stop words to the stopwords list to reduce the bias of the models."
   ]
  },
  {
   "cell_type": "code",
   "execution_count": 2,
   "metadata": {},
   "outputs": [],
   "source": [
    "df = pd.read_json('./data/combined_posts.json')"
   ]
  },
  {
   "cell_type": "code",
   "execution_count": 3,
   "metadata": {},
   "outputs": [
    {
     "data": {
      "text/html": [
       "<div>\n",
       "<style scoped>\n",
       "    .dataframe tbody tr th:only-of-type {\n",
       "        vertical-align: middle;\n",
       "    }\n",
       "\n",
       "    .dataframe tbody tr th {\n",
       "        vertical-align: top;\n",
       "    }\n",
       "\n",
       "    .dataframe thead th {\n",
       "        text-align: right;\n",
       "    }\n",
       "</style>\n",
       "<table border=\"1\" class=\"dataframe\">\n",
       "  <thead>\n",
       "    <tr style=\"text-align: right;\">\n",
       "      <th></th>\n",
       "      <th>subreddit</th>\n",
       "      <th>title</th>\n",
       "      <th>news</th>\n",
       "      <th>wordcount</th>\n",
       "      <th>charcount</th>\n",
       "    </tr>\n",
       "  </thead>\n",
       "  <tbody>\n",
       "    <tr>\n",
       "      <th>0</th>\n",
       "      <td>worldnews</td>\n",
       "      <td>COVID-19: India sees record case numbers as mi...</td>\n",
       "      <td>1</td>\n",
       "      <td>14</td>\n",
       "      <td>88</td>\n",
       "    </tr>\n",
       "    <tr>\n",
       "      <th>1</th>\n",
       "      <td>TheOnion</td>\n",
       "      <td>Wow: You Can Actually Just Press ‘L3’ To Talk ...</td>\n",
       "      <td>0</td>\n",
       "      <td>22</td>\n",
       "      <td>117</td>\n",
       "    </tr>\n",
       "    <tr>\n",
       "      <th>2</th>\n",
       "      <td>TheOnion</td>\n",
       "      <td>Ginsburg Clerks Wheel Filing Cabinets Into Cap...</td>\n",
       "      <td>0</td>\n",
       "      <td>18</td>\n",
       "      <td>114</td>\n",
       "    </tr>\n",
       "    <tr>\n",
       "      <th>3</th>\n",
       "      <td>TheOnion</td>\n",
       "      <td>Mental Health Experts Advise On Best Ways To C...</td>\n",
       "      <td>0</td>\n",
       "      <td>15</td>\n",
       "      <td>91</td>\n",
       "    </tr>\n",
       "    <tr>\n",
       "      <th>4</th>\n",
       "      <td>worldnews</td>\n",
       "      <td>Iran produces first batch of 60% enriched uranium</td>\n",
       "      <td>1</td>\n",
       "      <td>8</td>\n",
       "      <td>49</td>\n",
       "    </tr>\n",
       "  </tbody>\n",
       "</table>\n",
       "</div>"
      ],
      "text/plain": [
       "   subreddit                                              title  news  \\\n",
       "0  worldnews  COVID-19: India sees record case numbers as mi...     1   \n",
       "1   TheOnion  Wow: You Can Actually Just Press ‘L3’ To Talk ...     0   \n",
       "2   TheOnion  Ginsburg Clerks Wheel Filing Cabinets Into Cap...     0   \n",
       "3   TheOnion  Mental Health Experts Advise On Best Ways To C...     0   \n",
       "4  worldnews  Iran produces first batch of 60% enriched uranium     1   \n",
       "\n",
       "   wordcount  charcount  \n",
       "0         14         88  \n",
       "1         22        117  \n",
       "2         18        114  \n",
       "3         15         91  \n",
       "4          8         49  "
      ]
     },
     "execution_count": 3,
     "metadata": {},
     "output_type": "execute_result"
    }
   ],
   "source": [
    "df.head()"
   ]
  },
  {
   "cell_type": "code",
   "execution_count": 4,
   "metadata": {},
   "outputs": [],
   "source": [
    "#create list \n",
    "new_stop_words = ['onion','topical','ep','ho']"
   ]
  },
  {
   "cell_type": "code",
   "execution_count": 5,
   "metadata": {},
   "outputs": [],
   "source": [
    "#create list from nltk stopword english\n",
    "stopwords = stopwords.words('english')"
   ]
  },
  {
   "cell_type": "code",
   "execution_count": 6,
   "metadata": {},
   "outputs": [],
   "source": [
    "#add new stop words to list\n",
    "stopwords.extend(new_stop_words)"
   ]
  },
  {
   "cell_type": "markdown",
   "metadata": {},
   "source": [
    "## Defining functions for scores"
   ]
  },
  {
   "cell_type": "code",
   "execution_count": 7,
   "metadata": {},
   "outputs": [],
   "source": [
    "def print_gs_scores(model, X_train,X_test,y_train,y_test):\n",
    "    model_scores = [model.best_score_,model.score(X_train,y_train),model.score(X_test,y_test)]\n",
    "    \n",
    "    print(f'Best Model Score: {round((model.best_score_),4)}')\n",
    "    print(f'Training Score: {round(model.score(X_train,y_train),4)}')\n",
    "    print(f'Testing Score: {round(model.score(X_test,y_test),4)}')\n",
    "    return model_scores"
   ]
  },
  {
   "cell_type": "code",
   "execution_count": 8,
   "metadata": {},
   "outputs": [],
   "source": [
    "def print_acc_scores(y_test,preds):\n",
    "    #create confusion matrix\n",
    "    tn, fp, fn, tp = confusion_matrix(y_test,preds).ravel()\n",
    "    #define confusion matrix metrics\n",
    "    accuracy = (tp+tn)/(tp+fp+fn+tn)\n",
    "    sensitivity = tp/(tp+fn)\n",
    "    specificity = tn/(tn+fp)\n",
    "    precision = tp/(tp+fp)\n",
    "    # f1score = 2 * (precision*sensitivity) / (precision + sensitivity)\n",
    "    f1score = f1_score(y_test, preds)\n",
    "    roc_auc = roc_auc_score(y_test, preds)\n",
    "    acc_scores =[tn,fp,fn,tp, accuracy,sensitivity,specificity,precision,f1score,roc_auc]\n",
    "    \n",
    "    #Print scores\n",
    "    print(\"True Negatives: %s\" % tn)\n",
    "    print(\"False Positives: %s\" % fp)\n",
    "    print(\"False Negatives: %s\" % fn)\n",
    "    print(\"True Positives: %s\" % tp)\n",
    "    print('-----------------------')\n",
    "    print('Accuracy:',round(accuracy,3))\n",
    "    print('Sensitivity:',round(sensitivity,3))\n",
    "    print('Specificity:',round(specificity,3))\n",
    "    print('Precision:',round(precision,3))\n",
    "    print('')\n",
    "    print(f'F1 score: {round(f1score, 4)}')\n",
    "    print(f'ROC AUC score: {round(roc_auc, 4)}')\n",
    "    \n",
    "    \n",
    "    return acc_scores"
   ]
  },
  {
   "cell_type": "code",
   "execution_count": 9,
   "metadata": {},
   "outputs": [],
   "source": [
    "scores_df = pd.DataFrame(index =['BestModelScore','TrainScore','TestScore','TrueNeg','FalsePos','FalseNeg',\n",
    "                                'TruePos','Accuracy','Sensitivity','Specificity','Precision','F1','ROCAUC'])"
   ]
  },
  {
   "cell_type": "markdown",
   "metadata": {},
   "source": [
    "I plan on using CountVectorizer and TfidfVectorizer to transform my data. Once that data is transformed I will be fitting it on a logistic regression model, a naive bayes model, and a random forest model. I will also be using gridsearch with a range of hyperparameters to find the best parameters needed to return favorable results.\n",
    "\n",
    "The best model will then be picked based on the best scores for specificity and sensitivity. By optimizing for both we are minimizing false positives and false negatives. However, minimizing false positives is favorable as we would want to minimize satire being mistaken as news over news being mistaken as satire."
   ]
  },
  {
   "cell_type": "markdown",
   "metadata": {},
   "source": [
    "### Data Set 1 :Create Feature Matrix and Target"
   ]
  },
  {
   "cell_type": "code",
   "execution_count": 10,
   "metadata": {},
   "outputs": [],
   "source": [
    "X = df[['title']]\n",
    "y = df['news']"
   ]
  },
  {
   "cell_type": "markdown",
   "metadata": {},
   "source": [
    "### Data Set 2: Create Feature Matrix and Target Including Word/Char count"
   ]
  },
  {
   "cell_type": "code",
   "execution_count": 11,
   "metadata": {},
   "outputs": [],
   "source": [
    "X2 = df[['title','wordcount','charcount']]\n",
    "y2 = df['news']"
   ]
  },
  {
   "cell_type": "markdown",
   "metadata": {},
   "source": [
    "### Preprocessors using ColumnTransformer "
   ]
  },
  {
   "cell_type": "markdown",
   "metadata": {},
   "source": [
    "Since we have a mix of categorical and numeric features that we want to transform we will use ColumnTransformer to do the preprocessing before inserting it into the pipeline to do the transformations"
   ]
  },
  {
   "cell_type": "code",
   "execution_count": 12,
   "metadata": {},
   "outputs": [],
   "source": [
    "cvec = CountVectorizer(stop_words = stopwords)\n",
    "tvec = TfidfVectorizer(stop_words = stopwords)\n",
    "log = LogisticRegression()\n",
    "ss = StandardScaler()"
   ]
  },
  {
   "cell_type": "code",
   "execution_count": 13,
   "metadata": {},
   "outputs": [],
   "source": [
    "#Set up preprocessor to transform data set 1 using Column Transformer/CountVectorizer\n",
    "preprocessor = ColumnTransformer(\n",
    "    transformers =[\n",
    "        ('cvec',cvec,'title')\n",
    "    ])"
   ]
  },
  {
   "cell_type": "code",
   "execution_count": 14,
   "metadata": {},
   "outputs": [],
   "source": [
    "tvec_preprocessor = ColumnTransformer(\n",
    "    transformers =[\n",
    "        ('tvec',tvec,'title')\n",
    "    ])"
   ]
  },
  {
   "cell_type": "code",
   "execution_count": 15,
   "metadata": {},
   "outputs": [],
   "source": [
    "#Set up preprocessor for dataset 2 using Column Transformer/CountVectorizer/StandardScaler\n",
    "preprocessor2 = ColumnTransformer(\n",
    "    transformers =[\n",
    "        ('ss',ss,['wordcount','charcount']),\n",
    "        ('cvec',cvec,'title')])"
   ]
  },
  {
   "cell_type": "code",
   "execution_count": 16,
   "metadata": {},
   "outputs": [],
   "source": [
    "#Set up preprocessor for dataset 2 using Column Transformer/CountVectorizer/StandardScaler\n",
    "tvec_preprocessor2 = ColumnTransformer(\n",
    "    transformers =[\n",
    "        ('ss',ss,['wordcount','charcount']),\n",
    "        ('tvec',tvec,'title')])"
   ]
  },
  {
   "cell_type": "code",
   "execution_count": 17,
   "metadata": {},
   "outputs": [],
   "source": [
    "#pipeline for dataset 1 grid search\n",
    "log_pipe = Pipeline(steps =[\n",
    "    ('preprocessor', preprocessor),\n",
    "    ('log', LogisticRegression())\n",
    "])"
   ]
  },
  {
   "cell_type": "code",
   "execution_count": 18,
   "metadata": {},
   "outputs": [],
   "source": [
    "#pipeline for dataset 1 grid search\n",
    "tvec_log_pipe = Pipeline(steps =[\n",
    "    ('preprocessor', tvec_preprocessor),\n",
    "    ('log', LogisticRegression())\n",
    "])"
   ]
  },
  {
   "cell_type": "code",
   "execution_count": 19,
   "metadata": {},
   "outputs": [],
   "source": [
    "#Set up Logistic Regression transformer pipeline for dataset2\n",
    "log_pipe2 = Pipeline(steps=[('preprocessor', preprocessor2),\n",
    "                      ('classifier', LogisticRegression())])"
   ]
  },
  {
   "cell_type": "code",
   "execution_count": 20,
   "metadata": {},
   "outputs": [],
   "source": [
    "#Set up Logistic Regression transformer pipeline for dataset2\n",
    "tvec_log_pipe2 = Pipeline(steps=[('preprocessor', tvec_preprocessor2),\n",
    "                      ('classifier', LogisticRegression())])"
   ]
  },
  {
   "cell_type": "markdown",
   "metadata": {},
   "source": [
    "### Split data into train/test data set"
   ]
  },
  {
   "cell_type": "code",
   "execution_count": 21,
   "metadata": {},
   "outputs": [],
   "source": [
    "#split data into train and test data set\n",
    "X_train,X_test,y_train,y_test = train_test_split(X,y,test_size = .2, random_state = 42,stratify = y)\n",
    "X2_train,X2_test,y2_train,y2_test = train_test_split(X2,y2,test_size = .2, random_state = 42,stratify = y2)"
   ]
  },
  {
   "cell_type": "markdown",
   "metadata": {},
   "source": [
    "### Define Baseline Score for Models"
   ]
  },
  {
   "cell_type": "code",
   "execution_count": 22,
   "metadata": {},
   "outputs": [
    {
     "name": "stdout",
     "output_type": "stream",
     "text": [
      "baseline score: 0.4868995633187773\n"
     ]
    }
   ],
   "source": [
    "print('baseline score:' ,y_test.mean())"
   ]
  },
  {
   "cell_type": "code",
   "execution_count": 23,
   "metadata": {},
   "outputs": [],
   "source": [
    "set_config(display='diagram')"
   ]
  },
  {
   "cell_type": "markdown",
   "metadata": {},
   "source": [
    "### Grid Parameters"
   ]
  },
  {
   "cell_type": "code",
   "execution_count": 24,
   "metadata": {},
   "outputs": [],
   "source": [
    "#set up grid parameters\n",
    "standard ={\n",
    "    'preprocessor__cvec__max_features':[800],\n",
    "    'preprocessor__cvec__ngram_range':[(1,1)],\n",
    "    'preprocessor__cvec__max_df':[.95],\n",
    "    'preprocessor__cvec__min_df':[2]\n",
    "    \n",
    "}\n",
    "tvec_standard ={\n",
    "    'preprocessor__tvec__max_features':[800],\n",
    "    'preprocessor__tvec__ngram_range':[(1,1)],\n",
    "    'preprocessor__tvec__max_df':[.95],\n",
    "    'preprocessor__tvec__min_df':[2]\n",
    "    \n",
    "}\n",
    "param_grid = {\n",
    "    'preprocessor__cvec__max_features':[600,800,1000,1200],\n",
    "    'preprocessor__cvec__ngram_range':[(1,1),(2,2)],\n",
    "    'preprocessor__cvec__max_df':[.9,.95],\n",
    "    'preprocessor__cvec__min_df':[2,3,4]\n",
    "    \n",
    "}\n",
    "tvec_param_grid = {\n",
    "    'preprocessor__tvec__max_features':[600,800,1000,1200],\n",
    "    'preprocessor__tvec__ngram_range':[(1,1),(2,2)],\n",
    "    'preprocessor__tvec__max_df':[.9,.95],\n",
    "    'preprocessor__tvec__min_df':[2,3,4]\n",
    "    \n",
    "}"
   ]
  },
  {
   "cell_type": "markdown",
   "metadata": {},
   "source": [
    "### 1.1 Data Set 1 Standard Logistic Regression CountVectorizer"
   ]
  },
  {
   "cell_type": "code",
   "execution_count": 25,
   "metadata": {},
   "outputs": [],
   "source": [
    "log = GridSearchCV(log_pipe, param_grid = standard, cv =10)"
   ]
  },
  {
   "cell_type": "code",
   "execution_count": 26,
   "metadata": {},
   "outputs": [
    {
     "data": {
      "text/html": [
       "<style>div.sk-top-container {color: black;background-color: white;}div.sk-toggleable {background-color: white;}label.sk-toggleable__label {cursor: pointer;display: block;width: 100%;margin-bottom: 0;padding: 0.2em 0.3em;box-sizing: border-box;text-align: center;}div.sk-toggleable__content {max-height: 0;max-width: 0;overflow: hidden;text-align: left;background-color: #f0f8ff;}div.sk-toggleable__content pre {margin: 0.2em;color: black;border-radius: 0.25em;background-color: #f0f8ff;}input.sk-toggleable__control:checked~div.sk-toggleable__content {max-height: 200px;max-width: 100%;overflow: auto;}div.sk-estimator input.sk-toggleable__control:checked~label.sk-toggleable__label {background-color: #d4ebff;}div.sk-label input.sk-toggleable__control:checked~label.sk-toggleable__label {background-color: #d4ebff;}input.sk-hidden--visually {border: 0;clip: rect(1px 1px 1px 1px);clip: rect(1px, 1px, 1px, 1px);height: 1px;margin: -1px;overflow: hidden;padding: 0;position: absolute;width: 1px;}div.sk-estimator {font-family: monospace;background-color: #f0f8ff;margin: 0.25em 0.25em;border: 1px dotted black;border-radius: 0.25em;box-sizing: border-box;}div.sk-estimator:hover {background-color: #d4ebff;}div.sk-parallel-item::after {content: \"\";width: 100%;border-bottom: 1px solid gray;flex-grow: 1;}div.sk-label:hover label.sk-toggleable__label {background-color: #d4ebff;}div.sk-serial::before {content: \"\";position: absolute;border-left: 1px solid gray;box-sizing: border-box;top: 2em;bottom: 0;left: 50%;}div.sk-serial {display: flex;flex-direction: column;align-items: center;background-color: white;}div.sk-item {z-index: 1;}div.sk-parallel {display: flex;align-items: stretch;justify-content: center;background-color: white;}div.sk-parallel-item {display: flex;flex-direction: column;position: relative;background-color: white;}div.sk-parallel-item:first-child::after {align-self: flex-end;width: 50%;}div.sk-parallel-item:last-child::after {align-self: flex-start;width: 50%;}div.sk-parallel-item:only-child::after {width: 0;}div.sk-dashed-wrapped {border: 1px dashed gray;margin: 0.2em;box-sizing: border-box;padding-bottom: 0.1em;background-color: white;position: relative;}div.sk-label label {font-family: monospace;font-weight: bold;background-color: white;display: inline-block;line-height: 1.2em;}div.sk-label-container {position: relative;z-index: 2;text-align: center;}div.sk-container {display: inline-block;position: relative;}</style><div class=\"sk-top-container\"><div class=\"sk-container\"><div class=\"sk-item sk-dashed-wrapped\"><div class=\"sk-label-container\"><div class=\"sk-label sk-toggleable\"><input class=\"sk-toggleable__control sk-hidden--visually\" id=\"49a78a1d-69d6-4b09-8fa7-73d81edf34e7\" type=\"checkbox\" ><label class=\"sk-toggleable__label\" for=\"49a78a1d-69d6-4b09-8fa7-73d81edf34e7\">GridSearchCV</label><div class=\"sk-toggleable__content\"><pre>GridSearchCV(cv=10,\n",
       "             estimator=Pipeline(steps=[('preprocessor',\n",
       "                                        ColumnTransformer(transformers=[('cvec',\n",
       "                                                                         CountVectorizer(stop_words=['i',\n",
       "                                                                                                     'me',\n",
       "                                                                                                     'my',\n",
       "                                                                                                     'myself',\n",
       "                                                                                                     'we',\n",
       "                                                                                                     'our',\n",
       "                                                                                                     'ours',\n",
       "                                                                                                     'ourselves',\n",
       "                                                                                                     'you',\n",
       "                                                                                                     \"you're\",\n",
       "                                                                                                     \"you've\",\n",
       "                                                                                                     \"you'll\",\n",
       "                                                                                                     \"you'd\",\n",
       "                                                                                                     'your',\n",
       "                                                                                                     'yours',\n",
       "                                                                                                     'yourself',\n",
       "                                                                                                     'yourselves',\n",
       "                                                                                                     'he',\n",
       "                                                                                                     'him',\n",
       "                                                                                                     'his',\n",
       "                                                                                                     'himself',\n",
       "                                                                                                     'she',\n",
       "                                                                                                     \"she's\",\n",
       "                                                                                                     'her',\n",
       "                                                                                                     'hers',\n",
       "                                                                                                     'herself',\n",
       "                                                                                                     'it',\n",
       "                                                                                                     \"it's\",\n",
       "                                                                                                     'its',\n",
       "                                                                                                     'itself', ...]),\n",
       "                                                                         'title')])),\n",
       "                                       ('log', LogisticRegression())]),\n",
       "             param_grid={'preprocessor__cvec__max_df': [0.95],\n",
       "                         'preprocessor__cvec__max_features': [800],\n",
       "                         'preprocessor__cvec__min_df': [2],\n",
       "                         'preprocessor__cvec__ngram_range': [(1, 1)]})</pre></div></div></div><div class=\"sk-parallel\"><div class=\"sk-parallel-item\"><div class=\"sk-item\"><div class=\"sk-serial\"><div class=\"sk-item\"><div class=\"sk-serial\"><div class=\"sk-item sk-dashed-wrapped\"><div class=\"sk-label-container\"><div class=\"sk-label sk-toggleable\"><input class=\"sk-toggleable__control sk-hidden--visually\" id=\"cebec9ea-f401-4a5d-aa83-368722079e13\" type=\"checkbox\" ><label class=\"sk-toggleable__label\" for=\"cebec9ea-f401-4a5d-aa83-368722079e13\">preprocessor: ColumnTransformer</label><div class=\"sk-toggleable__content\"><pre>ColumnTransformer(transformers=[('cvec',\n",
       "                                 CountVectorizer(stop_words=['i', 'me', 'my',\n",
       "                                                             'myself', 'we',\n",
       "                                                             'our', 'ours',\n",
       "                                                             'ourselves', 'you',\n",
       "                                                             \"you're\", \"you've\",\n",
       "                                                             \"you'll\", \"you'd\",\n",
       "                                                             'your', 'yours',\n",
       "                                                             'yourself',\n",
       "                                                             'yourselves', 'he',\n",
       "                                                             'him', 'his',\n",
       "                                                             'himself', 'she',\n",
       "                                                             \"she's\", 'her',\n",
       "                                                             'hers', 'herself',\n",
       "                                                             'it', \"it's\",\n",
       "                                                             'its', 'itself', ...]),\n",
       "                                 'title')])</pre></div></div></div><div class=\"sk-parallel\"><div class=\"sk-parallel-item\"><div class=\"sk-item\"><div class=\"sk-label-container\"><div class=\"sk-label sk-toggleable\"><input class=\"sk-toggleable__control sk-hidden--visually\" id=\"dc9e58bf-0ba1-41b2-a431-720cc341582d\" type=\"checkbox\" ><label class=\"sk-toggleable__label\" for=\"dc9e58bf-0ba1-41b2-a431-720cc341582d\">cvec</label><div class=\"sk-toggleable__content\"><pre>title</pre></div></div></div><div class=\"sk-serial\"><div class=\"sk-item\"><div class=\"sk-estimator sk-toggleable\"><input class=\"sk-toggleable__control sk-hidden--visually\" id=\"c65a6ebf-42ad-4159-ac0d-6773722cdcd9\" type=\"checkbox\" ><label class=\"sk-toggleable__label\" for=\"c65a6ebf-42ad-4159-ac0d-6773722cdcd9\">CountVectorizer</label><div class=\"sk-toggleable__content\"><pre>CountVectorizer(stop_words=['i', 'me', 'my', 'myself', 'we', 'our', 'ours',\n",
       "                            'ourselves', 'you', \"you're\", \"you've\", \"you'll\",\n",
       "                            \"you'd\", 'your', 'yours', 'yourself', 'yourselves',\n",
       "                            'he', 'him', 'his', 'himself', 'she', \"she's\",\n",
       "                            'her', 'hers', 'herself', 'it', \"it's\", 'its',\n",
       "                            'itself', ...])</pre></div></div></div></div></div></div></div></div><div class=\"sk-item\"><div class=\"sk-estimator sk-toggleable\"><input class=\"sk-toggleable__control sk-hidden--visually\" id=\"bc7e8f38-ff17-4f62-89e9-dd5f7d21ae1c\" type=\"checkbox\" ><label class=\"sk-toggleable__label\" for=\"bc7e8f38-ff17-4f62-89e9-dd5f7d21ae1c\">LogisticRegression</label><div class=\"sk-toggleable__content\"><pre>LogisticRegression()</pre></div></div></div></div></div></div></div></div></div></div></div></div>"
      ],
      "text/plain": [
       "GridSearchCV(cv=10,\n",
       "             estimator=Pipeline(steps=[('preprocessor',\n",
       "                                        ColumnTransformer(transformers=[('cvec',\n",
       "                                                                         CountVectorizer(stop_words=['i',\n",
       "                                                                                                     'me',\n",
       "                                                                                                     'my',\n",
       "                                                                                                     'myself',\n",
       "                                                                                                     'we',\n",
       "                                                                                                     'our',\n",
       "                                                                                                     'ours',\n",
       "                                                                                                     'ourselves',\n",
       "                                                                                                     'you',\n",
       "                                                                                                     \"you're\",\n",
       "                                                                                                     \"you've\",\n",
       "                                                                                                     \"you'll\",\n",
       "                                                                                                     \"you'd\",\n",
       "                                                                                                     'your',\n",
       "                                                                                                     'yours',\n",
       "                                                                                                     'yourself',\n",
       "                                                                                                     'yourselves',\n",
       "                                                                                                     'he',\n",
       "                                                                                                     'him',\n",
       "                                                                                                     'his',\n",
       "                                                                                                     'himself',\n",
       "                                                                                                     'she',\n",
       "                                                                                                     \"she's\",\n",
       "                                                                                                     'her',\n",
       "                                                                                                     'hers',\n",
       "                                                                                                     'herself',\n",
       "                                                                                                     'it',\n",
       "                                                                                                     \"it's\",\n",
       "                                                                                                     'its',\n",
       "                                                                                                     'itself', ...]),\n",
       "                                                                         'title')])),\n",
       "                                       ('log', LogisticRegression())]),\n",
       "             param_grid={'preprocessor__cvec__max_df': [0.95],\n",
       "                         'preprocessor__cvec__max_features': [800],\n",
       "                         'preprocessor__cvec__min_df': [2],\n",
       "                         'preprocessor__cvec__ngram_range': [(1, 1)]})"
      ]
     },
     "execution_count": 26,
     "metadata": {},
     "output_type": "execute_result"
    }
   ],
   "source": [
    "log.fit(X_train,y_train)"
   ]
  },
  {
   "cell_type": "code",
   "execution_count": 27,
   "metadata": {},
   "outputs": [
    {
     "name": "stdout",
     "output_type": "stream",
     "text": [
      "Cross Validation Score: 0.871930982041017\n"
     ]
    }
   ],
   "source": [
    "print(f'Cross Validation Score: {cross_val_score(log, X_train,y_train, cv =5).mean()}')"
   ]
  },
  {
   "cell_type": "markdown",
   "metadata": {},
   "source": [
    "### 1.1 Data Set 1 Standard Logistic Regression Model Score"
   ]
  },
  {
   "cell_type": "code",
   "execution_count": 28,
   "metadata": {},
   "outputs": [
    {
     "name": "stdout",
     "output_type": "stream",
     "text": [
      "Best Model Score: 0.8722\n",
      "Training Score: 0.9306\n",
      "Testing Score: 0.8493\n"
     ]
    }
   ],
   "source": [
    "log_score = print_gs_scores(log,X_train,X_test,y_train,y_test)"
   ]
  },
  {
   "cell_type": "code",
   "execution_count": 29,
   "metadata": {},
   "outputs": [],
   "source": [
    "log_preds = log.predict(X_test)"
   ]
  },
  {
   "cell_type": "markdown",
   "metadata": {},
   "source": [
    "### 1.1 Data Set 1 Standard Logistic Regression Model Accuracy Scores"
   ]
  },
  {
   "cell_type": "code",
   "execution_count": 30,
   "metadata": {},
   "outputs": [
    {
     "name": "stdout",
     "output_type": "stream",
     "text": [
      "True Negatives: 419\n",
      "False Positives: 51\n",
      "False Negatives: 87\n",
      "True Positives: 359\n",
      "-----------------------\n",
      "Accuracy: 0.849\n",
      "Sensitivity: 0.805\n",
      "Specificity: 0.891\n",
      "Precision: 0.876\n",
      "\n",
      "F1 score: 0.8388\n",
      "ROC AUC score: 0.8482\n"
     ]
    },
    {
     "data": {
      "text/plain": [
       "<sklearn.metrics._plot.confusion_matrix.ConfusionMatrixDisplay at 0x7fb19139acd0>"
      ]
     },
     "execution_count": 30,
     "metadata": {},
     "output_type": "execute_result"
    },
    {
     "data": {
      "image/png": "[encoded data removed]",
      "text/plain": [
       "<Figure size 432x288 with 2 Axes>"
      ]
     },
     "metadata": {
      "needs_background": "light"
     },
     "output_type": "display_data"
    }
   ],
   "source": [
    "log_acc_scores = print_acc_scores(y_test,log_preds)\n",
    "#visualize confusion matrix\n",
    "plot_confusion_matrix(log,X_test,y_test, cmap = 'Blues', values_format ='d')"
   ]
  },
  {
   "cell_type": "code",
   "execution_count": 31,
   "metadata": {},
   "outputs": [],
   "source": [
    "#add accuracy scores to model scores\n",
    "log_score.extend(log_acc_scores)\n",
    "#create column for log model scores\n",
    "scores_df['log'] = log_score"
   ]
  },
  {
   "cell_type": "markdown",
   "metadata": {},
   "source": [
    "### 1.2 Data Set 2 Standard Logistic Regresison Model CountVectorizer"
   ]
  },
  {
   "cell_type": "code",
   "execution_count": 32,
   "metadata": {},
   "outputs": [],
   "source": [
    "log2 = GridSearchCV(log_pipe2, param_grid = standard, cv =10)"
   ]
  },
  {
   "cell_type": "code",
   "execution_count": 33,
   "metadata": {},
   "outputs": [
    {
     "data": {
      "text/html": [
       "<style>div.sk-top-container {color: black;background-color: white;}div.sk-toggleable {background-color: white;}label.sk-toggleable__label {cursor: pointer;display: block;width: 100%;margin-bottom: 0;padding: 0.2em 0.3em;box-sizing: border-box;text-align: center;}div.sk-toggleable__content {max-height: 0;max-width: 0;overflow: hidden;text-align: left;background-color: #f0f8ff;}div.sk-toggleable__content pre {margin: 0.2em;color: black;border-radius: 0.25em;background-color: #f0f8ff;}input.sk-toggleable__control:checked~div.sk-toggleable__content {max-height: 200px;max-width: 100%;overflow: auto;}div.sk-estimator input.sk-toggleable__control:checked~label.sk-toggleable__label {background-color: #d4ebff;}div.sk-label input.sk-toggleable__control:checked~label.sk-toggleable__label {background-color: #d4ebff;}input.sk-hidden--visually {border: 0;clip: rect(1px 1px 1px 1px);clip: rect(1px, 1px, 1px, 1px);height: 1px;margin: -1px;overflow: hidden;padding: 0;position: absolute;width: 1px;}div.sk-estimator {font-family: monospace;background-color: #f0f8ff;margin: 0.25em 0.25em;border: 1px dotted black;border-radius: 0.25em;box-sizing: border-box;}div.sk-estimator:hover {background-color: #d4ebff;}div.sk-parallel-item::after {content: \"\";width: 100%;border-bottom: 1px solid gray;flex-grow: 1;}div.sk-label:hover label.sk-toggleable__label {background-color: #d4ebff;}div.sk-serial::before {content: \"\";position: absolute;border-left: 1px solid gray;box-sizing: border-box;top: 2em;bottom: 0;left: 50%;}div.sk-serial {display: flex;flex-direction: column;align-items: center;background-color: white;}div.sk-item {z-index: 1;}div.sk-parallel {display: flex;align-items: stretch;justify-content: center;background-color: white;}div.sk-parallel-item {display: flex;flex-direction: column;position: relative;background-color: white;}div.sk-parallel-item:first-child::after {align-self: flex-end;width: 50%;}div.sk-parallel-item:last-child::after {align-self: flex-start;width: 50%;}div.sk-parallel-item:only-child::after {width: 0;}div.sk-dashed-wrapped {border: 1px dashed gray;margin: 0.2em;box-sizing: border-box;padding-bottom: 0.1em;background-color: white;position: relative;}div.sk-label label {font-family: monospace;font-weight: bold;background-color: white;display: inline-block;line-height: 1.2em;}div.sk-label-container {position: relative;z-index: 2;text-align: center;}div.sk-container {display: inline-block;position: relative;}</style><div class=\"sk-top-container\"><div class=\"sk-container\"><div class=\"sk-item sk-dashed-wrapped\"><div class=\"sk-label-container\"><div class=\"sk-label sk-toggleable\"><input class=\"sk-toggleable__control sk-hidden--visually\" id=\"7b4d67c6-cbb4-476a-80f3-8d91e1b6626a\" type=\"checkbox\" ><label class=\"sk-toggleable__label\" for=\"7b4d67c6-cbb4-476a-80f3-8d91e1b6626a\">GridSearchCV</label><div class=\"sk-toggleable__content\"><pre>GridSearchCV(cv=10,\n",
       "             estimator=Pipeline(steps=[('preprocessor',\n",
       "                                        ColumnTransformer(transformers=[('ss',\n",
       "                                                                         StandardScaler(),\n",
       "                                                                         ['wordcount',\n",
       "                                                                          'charcount']),\n",
       "                                                                        ('cvec',\n",
       "                                                                         CountVectorizer(stop_words=['i',\n",
       "                                                                                                     'me',\n",
       "                                                                                                     'my',\n",
       "                                                                                                     'myself',\n",
       "                                                                                                     'we',\n",
       "                                                                                                     'our',\n",
       "                                                                                                     'ours',\n",
       "                                                                                                     'ourselves',\n",
       "                                                                                                     'you',\n",
       "                                                                                                     \"you're\",\n",
       "                                                                                                     \"you've\",\n",
       "                                                                                                     \"you'll\",\n",
       "                                                                                                     \"you'd\",\n",
       "                                                                                                     'your',\n",
       "                                                                                                     'yours',\n",
       "                                                                                                     'yourself',\n",
       "                                                                                                     'yourselves',\n",
       "                                                                                                     'he',\n",
       "                                                                                                     'him',\n",
       "                                                                                                     'his',\n",
       "                                                                                                     'himself',\n",
       "                                                                                                     'she',\n",
       "                                                                                                     \"she's\",\n",
       "                                                                                                     'her',\n",
       "                                                                                                     'hers',\n",
       "                                                                                                     'herself',\n",
       "                                                                                                     'it',\n",
       "                                                                                                     \"it's\",\n",
       "                                                                                                     'its',\n",
       "                                                                                                     'itself', ...]),\n",
       "                                                                         'title')])),\n",
       "                                       ('classifier', LogisticRegression())]),\n",
       "             param_grid={'preprocessor__cvec__max_df': [0.95],\n",
       "                         'preprocessor__cvec__max_features': [800],\n",
       "                         'preprocessor__cvec__min_df': [2],\n",
       "                         'preprocessor__cvec__ngram_range': [(1, 1)]})</pre></div></div></div><div class=\"sk-parallel\"><div class=\"sk-parallel-item\"><div class=\"sk-item\"><div class=\"sk-serial\"><div class=\"sk-item\"><div class=\"sk-serial\"><div class=\"sk-item sk-dashed-wrapped\"><div class=\"sk-label-container\"><div class=\"sk-label sk-toggleable\"><input class=\"sk-toggleable__control sk-hidden--visually\" id=\"fd287bc4-154f-438d-9f15-5bbef953c4bd\" type=\"checkbox\" ><label class=\"sk-toggleable__label\" for=\"fd287bc4-154f-438d-9f15-5bbef953c4bd\">preprocessor: ColumnTransformer</label><div class=\"sk-toggleable__content\"><pre>ColumnTransformer(transformers=[('ss', StandardScaler(),\n",
       "                                 ['wordcount', 'charcount']),\n",
       "                                ('cvec',\n",
       "                                 CountVectorizer(stop_words=['i', 'me', 'my',\n",
       "                                                             'myself', 'we',\n",
       "                                                             'our', 'ours',\n",
       "                                                             'ourselves', 'you',\n",
       "                                                             \"you're\", \"you've\",\n",
       "                                                             \"you'll\", \"you'd\",\n",
       "                                                             'your', 'yours',\n",
       "                                                             'yourself',\n",
       "                                                             'yourselves', 'he',\n",
       "                                                             'him', 'his',\n",
       "                                                             'himself', 'she',\n",
       "                                                             \"she's\", 'her',\n",
       "                                                             'hers', 'herself',\n",
       "                                                             'it', \"it's\",\n",
       "                                                             'its', 'itself', ...]),\n",
       "                                 'title')])</pre></div></div></div><div class=\"sk-parallel\"><div class=\"sk-parallel-item\"><div class=\"sk-item\"><div class=\"sk-label-container\"><div class=\"sk-label sk-toggleable\"><input class=\"sk-toggleable__control sk-hidden--visually\" id=\"fc6e630c-8b13-47ed-b0b2-e496534b40d4\" type=\"checkbox\" ><label class=\"sk-toggleable__label\" for=\"fc6e630c-8b13-47ed-b0b2-e496534b40d4\">ss</label><div class=\"sk-toggleable__content\"><pre>['wordcount', 'charcount']</pre></div></div></div><div class=\"sk-serial\"><div class=\"sk-item\"><div class=\"sk-estimator sk-toggleable\"><input class=\"sk-toggleable__control sk-hidden--visually\" id=\"1ad225e9-ecbc-4aea-b8f2-0bdb702e65d5\" type=\"checkbox\" ><label class=\"sk-toggleable__label\" for=\"1ad225e9-ecbc-4aea-b8f2-0bdb702e65d5\">StandardScaler</label><div class=\"sk-toggleable__content\"><pre>StandardScaler()</pre></div></div></div></div></div></div><div class=\"sk-parallel-item\"><div class=\"sk-item\"><div class=\"sk-label-container\"><div class=\"sk-label sk-toggleable\"><input class=\"sk-toggleable__control sk-hidden--visually\" id=\"4044bf36-f1c2-46af-96cc-78da145c4958\" type=\"checkbox\" ><label class=\"sk-toggleable__label\" for=\"4044bf36-f1c2-46af-96cc-78da145c4958\">cvec</label><div class=\"sk-toggleable__content\"><pre>title</pre></div></div></div><div class=\"sk-serial\"><div class=\"sk-item\"><div class=\"sk-estimator sk-toggleable\"><input class=\"sk-toggleable__control sk-hidden--visually\" id=\"643bb97d-7ee5-4f17-a8e1-fa994d60e71a\" type=\"checkbox\" ><label class=\"sk-toggleable__label\" for=\"643bb97d-7ee5-4f17-a8e1-fa994d60e71a\">CountVectorizer</label><div class=\"sk-toggleable__content\"><pre>CountVectorizer(stop_words=['i', 'me', 'my', 'myself', 'we', 'our', 'ours',\n",
       "                            'ourselves', 'you', \"you're\", \"you've\", \"you'll\",\n",
       "                            \"you'd\", 'your', 'yours', 'yourself', 'yourselves',\n",
       "                            'he', 'him', 'his', 'himself', 'she', \"she's\",\n",
       "                            'her', 'hers', 'herself', 'it', \"it's\", 'its',\n",
       "                            'itself', ...])</pre></div></div></div></div></div></div></div></div><div class=\"sk-item\"><div class=\"sk-estimator sk-toggleable\"><input class=\"sk-toggleable__control sk-hidden--visually\" id=\"6df4ae64-0aeb-4330-b846-2845cb1dd755\" type=\"checkbox\" ><label class=\"sk-toggleable__label\" for=\"6df4ae64-0aeb-4330-b846-2845cb1dd755\">LogisticRegression</label><div class=\"sk-toggleable__content\"><pre>LogisticRegression()</pre></div></div></div></div></div></div></div></div></div></div></div></div>"
      ],
      "text/plain": [
       "GridSearchCV(cv=10,\n",
       "             estimator=Pipeline(steps=[('preprocessor',\n",
       "                                        ColumnTransformer(transformers=[('ss',\n",
       "                                                                         StandardScaler(),\n",
       "                                                                         ['wordcount',\n",
       "                                                                          'charcount']),\n",
       "                                                                        ('cvec',\n",
       "                                                                         CountVectorizer(stop_words=['i',\n",
       "                                                                                                     'me',\n",
       "                                                                                                     'my',\n",
       "                                                                                                     'myself',\n",
       "                                                                                                     'we',\n",
       "                                                                                                     'our',\n",
       "                                                                                                     'ours',\n",
       "                                                                                                     'ourselves',\n",
       "                                                                                                     'you',\n",
       "                                                                                                     \"you're\",\n",
       "                                                                                                     \"you've\",\n",
       "                                                                                                     \"you'll\",\n",
       "                                                                                                     \"you'd\",\n",
       "                                                                                                     'your',\n",
       "                                                                                                     'yours',\n",
       "                                                                                                     'yourself',\n",
       "                                                                                                     'yourselves',\n",
       "                                                                                                     'he',\n",
       "                                                                                                     'him',\n",
       "                                                                                                     'his',\n",
       "                                                                                                     'himself',\n",
       "                                                                                                     'she',\n",
       "                                                                                                     \"she's\",\n",
       "                                                                                                     'her',\n",
       "                                                                                                     'hers',\n",
       "                                                                                                     'herself',\n",
       "                                                                                                     'it',\n",
       "                                                                                                     \"it's\",\n",
       "                                                                                                     'its',\n",
       "                                                                                                     'itself', ...]),\n",
       "                                                                         'title')])),\n",
       "                                       ('classifier', LogisticRegression())]),\n",
       "             param_grid={'preprocessor__cvec__max_df': [0.95],\n",
       "                         'preprocessor__cvec__max_features': [800],\n",
       "                         'preprocessor__cvec__min_df': [2],\n",
       "                         'preprocessor__cvec__ngram_range': [(1, 1)]})"
      ]
     },
     "execution_count": 33,
     "metadata": {},
     "output_type": "execute_result"
    }
   ],
   "source": [
    "log2.fit(X2_train,y2_train)"
   ]
  },
  {
   "cell_type": "code",
   "execution_count": 34,
   "metadata": {},
   "outputs": [
    {
     "name": "stdout",
     "output_type": "stream",
     "text": [
      "Cross Validation Score: 0.8708406950998591\n"
     ]
    }
   ],
   "source": [
    "print(f'Cross Validation Score: {cross_val_score(log2, X2_train,y2_train, cv =5).mean()}')"
   ]
  },
  {
   "cell_type": "markdown",
   "metadata": {},
   "source": [
    "### 1.2 Data Set 2 Standard Logistic Regression Model Score"
   ]
  },
  {
   "cell_type": "code",
   "execution_count": 35,
   "metadata": {},
   "outputs": [
    {
     "name": "stdout",
     "output_type": "stream",
     "text": [
      "Best Model Score: 0.8708\n",
      "Training Score: 0.9295\n",
      "Testing Score: 0.8559\n"
     ]
    }
   ],
   "source": [
    "log_score2 = print_gs_scores(log2,X2_train,X2_test,y2_train,y2_test)"
   ]
  },
  {
   "cell_type": "code",
   "execution_count": 36,
   "metadata": {},
   "outputs": [],
   "source": [
    "log_preds2 = log2.predict(X2_test)"
   ]
  },
  {
   "cell_type": "markdown",
   "metadata": {},
   "source": [
    "### 1.2 Data Set 2 Standard Logistic Regression Model Accuracy Scores"
   ]
  },
  {
   "cell_type": "code",
   "execution_count": 37,
   "metadata": {},
   "outputs": [
    {
     "name": "stdout",
     "output_type": "stream",
     "text": [
      "True Negatives: 420\n",
      "False Positives: 50\n",
      "False Negatives: 82\n",
      "True Positives: 364\n",
      "-----------------------\n",
      "Accuracy: 0.856\n",
      "Sensitivity: 0.816\n",
      "Specificity: 0.894\n",
      "Precision: 0.879\n",
      "\n",
      "F1 score: 0.8465\n",
      "ROC AUC score: 0.8549\n"
     ]
    },
    {
     "data": {
      "text/plain": [
       "<sklearn.metrics._plot.confusion_matrix.ConfusionMatrixDisplay at 0x7fb1975266a0>"
      ]
     },
     "execution_count": 37,
     "metadata": {},
     "output_type": "execute_result"
    },
    {
     "data": {
      "image/png": "[encoded data removed]",
      "text/plain": [
       "<Figure size 432x288 with 2 Axes>"
      ]
     },
     "metadata": {
      "needs_background": "light"
     },
     "output_type": "display_data"
    }
   ],
   "source": [
    "log_acc_score = print_acc_scores(y_test,log_preds2)\n",
    "#visualize confusion matrix\n",
    "plot_confusion_matrix(log2,X2_test,y2_test, cmap = 'Blues', values_format ='d')"
   ]
  },
  {
   "cell_type": "code",
   "execution_count": 38,
   "metadata": {},
   "outputs": [],
   "source": [
    "log_score2.extend(log_acc_score)"
   ]
  },
  {
   "cell_type": "code",
   "execution_count": 39,
   "metadata": {},
   "outputs": [],
   "source": [
    "scores_df['log2'] = log_score2"
   ]
  },
  {
   "cell_type": "markdown",
   "metadata": {},
   "source": [
    "The model scores do not differ much from each other. The Logistic Regression model from data set 1 has a a few more false positives than data set 2. Thus, between the two models model 1.2 is slightly better in terms of specificity, the difference between the train and test score is also smaller for model 1.2"
   ]
  },
  {
   "cell_type": "markdown",
   "metadata": {},
   "source": [
    "### 1.3 Data Set 1 Logistic Regression Model Grid Search CountVectorizer"
   ]
  },
  {
   "cell_type": "code",
   "execution_count": 40,
   "metadata": {},
   "outputs": [],
   "source": [
    "#instantiate log grid search\n",
    "log_gs = GridSearchCV(log_pipe, param_grid = param_grid, cv =10)"
   ]
  },
  {
   "cell_type": "code",
   "execution_count": 41,
   "metadata": {},
   "outputs": [
    {
     "data": {
      "text/html": [
       "<style>div.sk-top-container {color: black;background-color: white;}div.sk-toggleable {background-color: white;}label.sk-toggleable__label {cursor: pointer;display: block;width: 100%;margin-bottom: 0;padding: 0.2em 0.3em;box-sizing: border-box;text-align: center;}div.sk-toggleable__content {max-height: 0;max-width: 0;overflow: hidden;text-align: left;background-color: #f0f8ff;}div.sk-toggleable__content pre {margin: 0.2em;color: black;border-radius: 0.25em;background-color: #f0f8ff;}input.sk-toggleable__control:checked~div.sk-toggleable__content {max-height: 200px;max-width: 100%;overflow: auto;}div.sk-estimator input.sk-toggleable__control:checked~label.sk-toggleable__label {background-color: #d4ebff;}div.sk-label input.sk-toggleable__control:checked~label.sk-toggleable__label {background-color: #d4ebff;}input.sk-hidden--visually {border: 0;clip: rect(1px 1px 1px 1px);clip: rect(1px, 1px, 1px, 1px);height: 1px;margin: -1px;overflow: hidden;padding: 0;position: absolute;width: 1px;}div.sk-estimator {font-family: monospace;background-color: #f0f8ff;margin: 0.25em 0.25em;border: 1px dotted black;border-radius: 0.25em;box-sizing: border-box;}div.sk-estimator:hover {background-color: #d4ebff;}div.sk-parallel-item::after {content: \"\";width: 100%;border-bottom: 1px solid gray;flex-grow: 1;}div.sk-label:hover label.sk-toggleable__label {background-color: #d4ebff;}div.sk-serial::before {content: \"\";position: absolute;border-left: 1px solid gray;box-sizing: border-box;top: 2em;bottom: 0;left: 50%;}div.sk-serial {display: flex;flex-direction: column;align-items: center;background-color: white;}div.sk-item {z-index: 1;}div.sk-parallel {display: flex;align-items: stretch;justify-content: center;background-color: white;}div.sk-parallel-item {display: flex;flex-direction: column;position: relative;background-color: white;}div.sk-parallel-item:first-child::after {align-self: flex-end;width: 50%;}div.sk-parallel-item:last-child::after {align-self: flex-start;width: 50%;}div.sk-parallel-item:only-child::after {width: 0;}div.sk-dashed-wrapped {border: 1px dashed gray;margin: 0.2em;box-sizing: border-box;padding-bottom: 0.1em;background-color: white;position: relative;}div.sk-label label {font-family: monospace;font-weight: bold;background-color: white;display: inline-block;line-height: 1.2em;}div.sk-label-container {position: relative;z-index: 2;text-align: center;}div.sk-container {display: inline-block;position: relative;}</style><div class=\"sk-top-container\"><div class=\"sk-container\"><div class=\"sk-item sk-dashed-wrapped\"><div class=\"sk-label-container\"><div class=\"sk-label sk-toggleable\"><input class=\"sk-toggleable__control sk-hidden--visually\" id=\"cfd509a9-d63c-46c6-92d0-a48abd74a811\" type=\"checkbox\" ><label class=\"sk-toggleable__label\" for=\"cfd509a9-d63c-46c6-92d0-a48abd74a811\">GridSearchCV</label><div class=\"sk-toggleable__content\"><pre>GridSearchCV(cv=10,\n",
       "             estimator=Pipeline(steps=[('preprocessor',\n",
       "                                        ColumnTransformer(transformers=[('cvec',\n",
       "                                                                         CountVectorizer(stop_words=['i',\n",
       "                                                                                                     'me',\n",
       "                                                                                                     'my',\n",
       "                                                                                                     'myself',\n",
       "                                                                                                     'we',\n",
       "                                                                                                     'our',\n",
       "                                                                                                     'ours',\n",
       "                                                                                                     'ourselves',\n",
       "                                                                                                     'you',\n",
       "                                                                                                     \"you're\",\n",
       "                                                                                                     \"you've\",\n",
       "                                                                                                     \"you'll\",\n",
       "                                                                                                     \"you'd\",\n",
       "                                                                                                     'your',\n",
       "                                                                                                     'yours',\n",
       "                                                                                                     'yourself',\n",
       "                                                                                                     'yourselves',\n",
       "                                                                                                     'he',\n",
       "                                                                                                     'him',\n",
       "                                                                                                     'his',\n",
       "                                                                                                     'himself',\n",
       "                                                                                                     'she',\n",
       "                                                                                                     \"she's\",\n",
       "                                                                                                     'her',\n",
       "                                                                                                     'hers',\n",
       "                                                                                                     'herself',\n",
       "                                                                                                     'it',\n",
       "                                                                                                     \"it's\",\n",
       "                                                                                                     'its',\n",
       "                                                                                                     'itself', ...]),\n",
       "                                                                         'title')])),\n",
       "                                       ('log', LogisticRegression())]),\n",
       "             param_grid={'preprocessor__cvec__max_df': [0.9, 0.95],\n",
       "                         'preprocessor__cvec__max_features': [600, 800, 1000,\n",
       "                                                              1200],\n",
       "                         'preprocessor__cvec__min_df': [2, 3, 4],\n",
       "                         'preprocessor__cvec__ngram_range': [(1, 1), (2, 2)]})</pre></div></div></div><div class=\"sk-parallel\"><div class=\"sk-parallel-item\"><div class=\"sk-item\"><div class=\"sk-serial\"><div class=\"sk-item\"><div class=\"sk-serial\"><div class=\"sk-item sk-dashed-wrapped\"><div class=\"sk-label-container\"><div class=\"sk-label sk-toggleable\"><input class=\"sk-toggleable__control sk-hidden--visually\" id=\"c5e8eb0f-1c76-4160-8ada-46509c215832\" type=\"checkbox\" ><label class=\"sk-toggleable__label\" for=\"c5e8eb0f-1c76-4160-8ada-46509c215832\">preprocessor: ColumnTransformer</label><div class=\"sk-toggleable__content\"><pre>ColumnTransformer(transformers=[('cvec',\n",
       "                                 CountVectorizer(stop_words=['i', 'me', 'my',\n",
       "                                                             'myself', 'we',\n",
       "                                                             'our', 'ours',\n",
       "                                                             'ourselves', 'you',\n",
       "                                                             \"you're\", \"you've\",\n",
       "                                                             \"you'll\", \"you'd\",\n",
       "                                                             'your', 'yours',\n",
       "                                                             'yourself',\n",
       "                                                             'yourselves', 'he',\n",
       "                                                             'him', 'his',\n",
       "                                                             'himself', 'she',\n",
       "                                                             \"she's\", 'her',\n",
       "                                                             'hers', 'herself',\n",
       "                                                             'it', \"it's\",\n",
       "                                                             'its', 'itself', ...]),\n",
       "                                 'title')])</pre></div></div></div><div class=\"sk-parallel\"><div class=\"sk-parallel-item\"><div class=\"sk-item\"><div class=\"sk-label-container\"><div class=\"sk-label sk-toggleable\"><input class=\"sk-toggleable__control sk-hidden--visually\" id=\"90db9553-3d59-4f2b-ab87-92ce2013a31a\" type=\"checkbox\" ><label class=\"sk-toggleable__label\" for=\"90db9553-3d59-4f2b-ab87-92ce2013a31a\">cvec</label><div class=\"sk-toggleable__content\"><pre>title</pre></div></div></div><div class=\"sk-serial\"><div class=\"sk-item\"><div class=\"sk-estimator sk-toggleable\"><input class=\"sk-toggleable__control sk-hidden--visually\" id=\"c0dac86d-140f-4ebd-9b3e-a7d556433c97\" type=\"checkbox\" ><label class=\"sk-toggleable__label\" for=\"c0dac86d-140f-4ebd-9b3e-a7d556433c97\">CountVectorizer</label><div class=\"sk-toggleable__content\"><pre>CountVectorizer(stop_words=['i', 'me', 'my', 'myself', 'we', 'our', 'ours',\n",
       "                            'ourselves', 'you', \"you're\", \"you've\", \"you'll\",\n",
       "                            \"you'd\", 'your', 'yours', 'yourself', 'yourselves',\n",
       "                            'he', 'him', 'his', 'himself', 'she', \"she's\",\n",
       "                            'her', 'hers', 'herself', 'it', \"it's\", 'its',\n",
       "                            'itself', ...])</pre></div></div></div></div></div></div></div></div><div class=\"sk-item\"><div class=\"sk-estimator sk-toggleable\"><input class=\"sk-toggleable__control sk-hidden--visually\" id=\"0cc51369-8d6d-4b20-b777-5bac5bcf4101\" type=\"checkbox\" ><label class=\"sk-toggleable__label\" for=\"0cc51369-8d6d-4b20-b777-5bac5bcf4101\">LogisticRegression</label><div class=\"sk-toggleable__content\"><pre>LogisticRegression()</pre></div></div></div></div></div></div></div></div></div></div></div></div>"
      ],
      "text/plain": [
       "GridSearchCV(cv=10,\n",
       "             estimator=Pipeline(steps=[('preprocessor',\n",
       "                                        ColumnTransformer(transformers=[('cvec',\n",
       "                                                                         CountVectorizer(stop_words=['i',\n",
       "                                                                                                     'me',\n",
       "                                                                                                     'my',\n",
       "                                                                                                     'myself',\n",
       "                                                                                                     'we',\n",
       "                                                                                                     'our',\n",
       "                                                                                                     'ours',\n",
       "                                                                                                     'ourselves',\n",
       "                                                                                                     'you',\n",
       "                                                                                                     \"you're\",\n",
       "                                                                                                     \"you've\",\n",
       "                                                                                                     \"you'll\",\n",
       "                                                                                                     \"you'd\",\n",
       "                                                                                                     'your',\n",
       "                                                                                                     'yours',\n",
       "                                                                                                     'yourself',\n",
       "                                                                                                     'yourselves',\n",
       "                                                                                                     'he',\n",
       "                                                                                                     'him',\n",
       "                                                                                                     'his',\n",
       "                                                                                                     'himself',\n",
       "                                                                                                     'she',\n",
       "                                                                                                     \"she's\",\n",
       "                                                                                                     'her',\n",
       "                                                                                                     'hers',\n",
       "                                                                                                     'herself',\n",
       "                                                                                                     'it',\n",
       "                                                                                                     \"it's\",\n",
       "                                                                                                     'its',\n",
       "                                                                                                     'itself', ...]),\n",
       "                                                                         'title')])),\n",
       "                                       ('log', LogisticRegression())]),\n",
       "             param_grid={'preprocessor__cvec__max_df': [0.9, 0.95],\n",
       "                         'preprocessor__cvec__max_features': [600, 800, 1000,\n",
       "                                                              1200],\n",
       "                         'preprocessor__cvec__min_df': [2, 3, 4],\n",
       "                         'preprocessor__cvec__ngram_range': [(1, 1), (2, 2)]})"
      ]
     },
     "execution_count": 41,
     "metadata": {},
     "output_type": "execute_result"
    }
   ],
   "source": [
    "#Fit gridsearch to training data\n",
    "log_gs.fit(X_train,y_train)"
   ]
  },
  {
   "cell_type": "code",
   "execution_count": 42,
   "metadata": {},
   "outputs": [
    {
     "data": {
      "text/plain": [
       "{'preprocessor__cvec__max_df': 0.9,\n",
       " 'preprocessor__cvec__max_features': 1200,\n",
       " 'preprocessor__cvec__min_df': 3,\n",
       " 'preprocessor__cvec__ngram_range': (1, 1)}"
      ]
     },
     "execution_count": 42,
     "metadata": {},
     "output_type": "execute_result"
    }
   ],
   "source": [
    "#Return Best parameters\n",
    "log_gs.best_params_"
   ]
  },
  {
   "cell_type": "markdown",
   "metadata": {},
   "source": [
    "### 1.3 Data Set 1 Logistic Regression Model Grid Search Scores"
   ]
  },
  {
   "cell_type": "code",
   "execution_count": 43,
   "metadata": {},
   "outputs": [
    {
     "name": "stdout",
     "output_type": "stream",
     "text": [
      "Best Model Score: 0.8782\n",
      "Training Score: 0.9525\n",
      "Testing Score: 0.8624\n"
     ]
    }
   ],
   "source": [
    "log_gs_score = print_gs_scores(log_gs,X_train,X_test,y_train,y_test)"
   ]
  },
  {
   "cell_type": "code",
   "execution_count": 44,
   "metadata": {},
   "outputs": [],
   "source": [
    "log_gs_preds = log_gs.predict(X_test)"
   ]
  },
  {
   "cell_type": "markdown",
   "metadata": {},
   "source": [
    "### 1.3 Data Set 1 Logistic Regression Model Grid Search Accuracy Scores"
   ]
  },
  {
   "cell_type": "code",
   "execution_count": 45,
   "metadata": {},
   "outputs": [
    {
     "name": "stdout",
     "output_type": "stream",
     "text": [
      "True Negatives: 423\n",
      "False Positives: 47\n",
      "False Negatives: 79\n",
      "True Positives: 367\n",
      "-----------------------\n",
      "Accuracy: 0.862\n",
      "Sensitivity: 0.823\n",
      "Specificity: 0.9\n",
      "Precision: 0.886\n",
      "\n",
      "F1 score: 0.8535\n",
      "ROC AUC score: 0.8614\n"
     ]
    },
    {
     "data": {
      "text/plain": [
       "<sklearn.metrics._plot.confusion_matrix.ConfusionMatrixDisplay at 0x7fb1978cf8e0>"
      ]
     },
     "execution_count": 45,
     "metadata": {},
     "output_type": "execute_result"
    },
    {
     "data": {
      "image/png": "[encoded data removed]",
      "text/plain": [
       "<Figure size 432x288 with 2 Axes>"
      ]
     },
     "metadata": {
      "needs_background": "light"
     },
     "output_type": "display_data"
    }
   ],
   "source": [
    "#Print Accuracy Scores for log grid search\n",
    "log_gs_acc_score = print_acc_scores(y_test,log_gs_preds)\n",
    "#visualize confusion matrix\n",
    "plot_confusion_matrix(log_gs,X_test,y_test, cmap = 'Blues', values_format ='d')"
   ]
  },
  {
   "cell_type": "code",
   "execution_count": 46,
   "metadata": {},
   "outputs": [],
   "source": [
    "#extend scores list\n",
    "log_gs_score.extend(log_gs_acc_score)\n",
    "#add score as new column to scores_df\n",
    "scores_df['log_gs'] = log_gs_score"
   ]
  },
  {
   "cell_type": "markdown",
   "metadata": {},
   "source": [
    "### 1.4 Data Set 2 Logistic Regression Model Grid Search Scores CountVectorizer"
   ]
  },
  {
   "cell_type": "code",
   "execution_count": 47,
   "metadata": {},
   "outputs": [],
   "source": [
    "#Instantiate Gridsearch for Logistic Regression Data Set 2\n",
    "log_gs2 = GridSearchCV(log_pipe2, param_grid = param_grid, cv =10)"
   ]
  },
  {
   "cell_type": "code",
   "execution_count": 48,
   "metadata": {},
   "outputs": [
    {
     "data": {
      "text/html": [
       "<style>div.sk-top-container {color: black;background-color: white;}div.sk-toggleable {background-color: white;}label.sk-toggleable__label {cursor: pointer;display: block;width: 100%;margin-bottom: 0;padding: 0.2em 0.3em;box-sizing: border-box;text-align: center;}div.sk-toggleable__content {max-height: 0;max-width: 0;overflow: hidden;text-align: left;background-color: #f0f8ff;}div.sk-toggleable__content pre {margin: 0.2em;color: black;border-radius: 0.25em;background-color: #f0f8ff;}input.sk-toggleable__control:checked~div.sk-toggleable__content {max-height: 200px;max-width: 100%;overflow: auto;}div.sk-estimator input.sk-toggleable__control:checked~label.sk-toggleable__label {background-color: #d4ebff;}div.sk-label input.sk-toggleable__control:checked~label.sk-toggleable__label {background-color: #d4ebff;}input.sk-hidden--visually {border: 0;clip: rect(1px 1px 1px 1px);clip: rect(1px, 1px, 1px, 1px);height: 1px;margin: -1px;overflow: hidden;padding: 0;position: absolute;width: 1px;}div.sk-estimator {font-family: monospace;background-color: #f0f8ff;margin: 0.25em 0.25em;border: 1px dotted black;border-radius: 0.25em;box-sizing: border-box;}div.sk-estimator:hover {background-color: #d4ebff;}div.sk-parallel-item::after {content: \"\";width: 100%;border-bottom: 1px solid gray;flex-grow: 1;}div.sk-label:hover label.sk-toggleable__label {background-color: #d4ebff;}div.sk-serial::before {content: \"\";position: absolute;border-left: 1px solid gray;box-sizing: border-box;top: 2em;bottom: 0;left: 50%;}div.sk-serial {display: flex;flex-direction: column;align-items: center;background-color: white;}div.sk-item {z-index: 1;}div.sk-parallel {display: flex;align-items: stretch;justify-content: center;background-color: white;}div.sk-parallel-item {display: flex;flex-direction: column;position: relative;background-color: white;}div.sk-parallel-item:first-child::after {align-self: flex-end;width: 50%;}div.sk-parallel-item:last-child::after {align-self: flex-start;width: 50%;}div.sk-parallel-item:only-child::after {width: 0;}div.sk-dashed-wrapped {border: 1px dashed gray;margin: 0.2em;box-sizing: border-box;padding-bottom: 0.1em;background-color: white;position: relative;}div.sk-label label {font-family: monospace;font-weight: bold;background-color: white;display: inline-block;line-height: 1.2em;}div.sk-label-container {position: relative;z-index: 2;text-align: center;}div.sk-container {display: inline-block;position: relative;}</style><div class=\"sk-top-container\"><div class=\"sk-container\"><div class=\"sk-item sk-dashed-wrapped\"><div class=\"sk-label-container\"><div class=\"sk-label sk-toggleable\"><input class=\"sk-toggleable__control sk-hidden--visually\" id=\"a411f645-eda6-400e-9a8f-cc0520cc076a\" type=\"checkbox\" ><label class=\"sk-toggleable__label\" for=\"a411f645-eda6-400e-9a8f-cc0520cc076a\">GridSearchCV</label><div class=\"sk-toggleable__content\"><pre>GridSearchCV(cv=10,\n",
       "             estimator=Pipeline(steps=[('preprocessor',\n",
       "                                        ColumnTransformer(transformers=[('ss',\n",
       "                                                                         StandardScaler(),\n",
       "                                                                         ['wordcount',\n",
       "                                                                          'charcount']),\n",
       "                                                                        ('cvec',\n",
       "                                                                         CountVectorizer(stop_words=['i',\n",
       "                                                                                                     'me',\n",
       "                                                                                                     'my',\n",
       "                                                                                                     'myself',\n",
       "                                                                                                     'we',\n",
       "                                                                                                     'our',\n",
       "                                                                                                     'ours',\n",
       "                                                                                                     'ourselves',\n",
       "                                                                                                     'you',\n",
       "                                                                                                     \"you're\",\n",
       "                                                                                                     \"you've\",\n",
       "                                                                                                     \"you'll\",\n",
       "                                                                                                     \"you'd\",\n",
       "                                                                                                     'your',\n",
       "                                                                                                     'yours',\n",
       "                                                                                                     'yourself',\n",
       "                                                                                                     'yourselves',\n",
       "                                                                                                     'he',\n",
       "                                                                                                     'him',\n",
       "                                                                                                     'his',\n",
       "                                                                                                     'himself',\n",
       "                                                                                                     'she',\n",
       "                                                                                                     \"she's\",\n",
       "                                                                                                     'her',\n",
       "                                                                                                     'hers',\n",
       "                                                                                                     'herself',\n",
       "                                                                                                     'it',\n",
       "                                                                                                     \"it's\",\n",
       "                                                                                                     'its',\n",
       "                                                                                                     'itself', ...]),\n",
       "                                                                         'title')])),\n",
       "                                       ('classifier', LogisticRegression())]),\n",
       "             param_grid={'preprocessor__cvec__max_df': [0.9, 0.95],\n",
       "                         'preprocessor__cvec__max_features': [600, 800, 1000,\n",
       "                                                              1200],\n",
       "                         'preprocessor__cvec__min_df': [2, 3, 4],\n",
       "                         'preprocessor__cvec__ngram_range': [(1, 1), (2, 2)]})</pre></div></div></div><div class=\"sk-parallel\"><div class=\"sk-parallel-item\"><div class=\"sk-item\"><div class=\"sk-serial\"><div class=\"sk-item\"><div class=\"sk-serial\"><div class=\"sk-item sk-dashed-wrapped\"><div class=\"sk-label-container\"><div class=\"sk-label sk-toggleable\"><input class=\"sk-toggleable__control sk-hidden--visually\" id=\"9482698a-5efc-46a5-b69a-65b70fa38a72\" type=\"checkbox\" ><label class=\"sk-toggleable__label\" for=\"9482698a-5efc-46a5-b69a-65b70fa38a72\">preprocessor: ColumnTransformer</label><div class=\"sk-toggleable__content\"><pre>ColumnTransformer(transformers=[('ss', StandardScaler(),\n",
       "                                 ['wordcount', 'charcount']),\n",
       "                                ('cvec',\n",
       "                                 CountVectorizer(stop_words=['i', 'me', 'my',\n",
       "                                                             'myself', 'we',\n",
       "                                                             'our', 'ours',\n",
       "                                                             'ourselves', 'you',\n",
       "                                                             \"you're\", \"you've\",\n",
       "                                                             \"you'll\", \"you'd\",\n",
       "                                                             'your', 'yours',\n",
       "                                                             'yourself',\n",
       "                                                             'yourselves', 'he',\n",
       "                                                             'him', 'his',\n",
       "                                                             'himself', 'she',\n",
       "                                                             \"she's\", 'her',\n",
       "                                                             'hers', 'herself',\n",
       "                                                             'it', \"it's\",\n",
       "                                                             'its', 'itself', ...]),\n",
       "                                 'title')])</pre></div></div></div><div class=\"sk-parallel\"><div class=\"sk-parallel-item\"><div class=\"sk-item\"><div class=\"sk-label-container\"><div class=\"sk-label sk-toggleable\"><input class=\"sk-toggleable__control sk-hidden--visually\" id=\"32744d1a-0e62-4d1f-8f73-82f2ba632ca5\" type=\"checkbox\" ><label class=\"sk-toggleable__label\" for=\"32744d1a-0e62-4d1f-8f73-82f2ba632ca5\">ss</label><div class=\"sk-toggleable__content\"><pre>['wordcount', 'charcount']</pre></div></div></div><div class=\"sk-serial\"><div class=\"sk-item\"><div class=\"sk-estimator sk-toggleable\"><input class=\"sk-toggleable__control sk-hidden--visually\" id=\"d3d7c2a4-e973-433a-afab-11792ff534e6\" type=\"checkbox\" ><label class=\"sk-toggleable__label\" for=\"d3d7c2a4-e973-433a-afab-11792ff534e6\">StandardScaler</label><div class=\"sk-toggleable__content\"><pre>StandardScaler()</pre></div></div></div></div></div></div><div class=\"sk-parallel-item\"><div class=\"sk-item\"><div class=\"sk-label-container\"><div class=\"sk-label sk-toggleable\"><input class=\"sk-toggleable__control sk-hidden--visually\" id=\"04677e09-435f-427a-8512-70b452aea650\" type=\"checkbox\" ><label class=\"sk-toggleable__label\" for=\"04677e09-435f-427a-8512-70b452aea650\">cvec</label><div class=\"sk-toggleable__content\"><pre>title</pre></div></div></div><div class=\"sk-serial\"><div class=\"sk-item\"><div class=\"sk-estimator sk-toggleable\"><input class=\"sk-toggleable__control sk-hidden--visually\" id=\"e4769616-4785-4492-ac06-079f7af84eb1\" type=\"checkbox\" ><label class=\"sk-toggleable__label\" for=\"e4769616-4785-4492-ac06-079f7af84eb1\">CountVectorizer</label><div class=\"sk-toggleable__content\"><pre>CountVectorizer(stop_words=['i', 'me', 'my', 'myself', 'we', 'our', 'ours',\n",
       "                            'ourselves', 'you', \"you're\", \"you've\", \"you'll\",\n",
       "                            \"you'd\", 'your', 'yours', 'yourself', 'yourselves',\n",
       "                            'he', 'him', 'his', 'himself', 'she', \"she's\",\n",
       "                            'her', 'hers', 'herself', 'it', \"it's\", 'its',\n",
       "                            'itself', ...])</pre></div></div></div></div></div></div></div></div><div class=\"sk-item\"><div class=\"sk-estimator sk-toggleable\"><input class=\"sk-toggleable__control sk-hidden--visually\" id=\"f88cae24-274f-439f-955b-ba6e7406b654\" type=\"checkbox\" ><label class=\"sk-toggleable__label\" for=\"f88cae24-274f-439f-955b-ba6e7406b654\">LogisticRegression</label><div class=\"sk-toggleable__content\"><pre>LogisticRegression()</pre></div></div></div></div></div></div></div></div></div></div></div></div>"
      ],
      "text/plain": [
       "GridSearchCV(cv=10,\n",
       "             estimator=Pipeline(steps=[('preprocessor',\n",
       "                                        ColumnTransformer(transformers=[('ss',\n",
       "                                                                         StandardScaler(),\n",
       "                                                                         ['wordcount',\n",
       "                                                                          'charcount']),\n",
       "                                                                        ('cvec',\n",
       "                                                                         CountVectorizer(stop_words=['i',\n",
       "                                                                                                     'me',\n",
       "                                                                                                     'my',\n",
       "                                                                                                     'myself',\n",
       "                                                                                                     'we',\n",
       "                                                                                                     'our',\n",
       "                                                                                                     'ours',\n",
       "                                                                                                     'ourselves',\n",
       "                                                                                                     'you',\n",
       "                                                                                                     \"you're\",\n",
       "                                                                                                     \"you've\",\n",
       "                                                                                                     \"you'll\",\n",
       "                                                                                                     \"you'd\",\n",
       "                                                                                                     'your',\n",
       "                                                                                                     'yours',\n",
       "                                                                                                     'yourself',\n",
       "                                                                                                     'yourselves',\n",
       "                                                                                                     'he',\n",
       "                                                                                                     'him',\n",
       "                                                                                                     'his',\n",
       "                                                                                                     'himself',\n",
       "                                                                                                     'she',\n",
       "                                                                                                     \"she's\",\n",
       "                                                                                                     'her',\n",
       "                                                                                                     'hers',\n",
       "                                                                                                     'herself',\n",
       "                                                                                                     'it',\n",
       "                                                                                                     \"it's\",\n",
       "                                                                                                     'its',\n",
       "                                                                                                     'itself', ...]),\n",
       "                                                                         'title')])),\n",
       "                                       ('classifier', LogisticRegression())]),\n",
       "             param_grid={'preprocessor__cvec__max_df': [0.9, 0.95],\n",
       "                         'preprocessor__cvec__max_features': [600, 800, 1000,\n",
       "                                                              1200],\n",
       "                         'preprocessor__cvec__min_df': [2, 3, 4],\n",
       "                         'preprocessor__cvec__ngram_range': [(1, 1), (2, 2)]})"
      ]
     },
     "execution_count": 48,
     "metadata": {},
     "output_type": "execute_result"
    }
   ],
   "source": [
    "#Fit Gridsearch for data set 2 to training data\n",
    "log_gs2.fit(X2_train,y2_train)"
   ]
  },
  {
   "cell_type": "code",
   "execution_count": 49,
   "metadata": {
    "scrolled": true
   },
   "outputs": [
    {
     "data": {
      "text/plain": [
       "{'preprocessor__cvec__max_df': 0.9,\n",
       " 'preprocessor__cvec__max_features': 1200,\n",
       " 'preprocessor__cvec__min_df': 4,\n",
       " 'preprocessor__cvec__ngram_range': (1, 1)}"
      ]
     },
     "execution_count": 49,
     "metadata": {},
     "output_type": "execute_result"
    }
   ],
   "source": [
    "#Return Best Params\n",
    "log_gs2.best_params_"
   ]
  },
  {
   "cell_type": "markdown",
   "metadata": {},
   "source": [
    "### 1.4 Data 2 Logistic Regression Model Grid Search 2 Scores"
   ]
  },
  {
   "cell_type": "code",
   "execution_count": 50,
   "metadata": {},
   "outputs": [
    {
     "name": "stdout",
     "output_type": "stream",
     "text": [
      "Best Model Score: 0.8777\n",
      "Training Score: 0.9511\n",
      "Testing Score: 0.8624\n"
     ]
    }
   ],
   "source": [
    "log_gs_score2 = print_gs_scores(log_gs2,X2_train,X2_test,y2_train,y2_test)"
   ]
  },
  {
   "cell_type": "code",
   "execution_count": 51,
   "metadata": {},
   "outputs": [],
   "source": [
    "#Get predictions\n",
    "log_gs_preds2 = log_gs2.predict(X2_test)"
   ]
  },
  {
   "cell_type": "markdown",
   "metadata": {},
   "source": [
    "### 1.4 Data 2 Logistic Regression Model Grid Search 2 Accuracy Scores"
   ]
  },
  {
   "cell_type": "code",
   "execution_count": 52,
   "metadata": {},
   "outputs": [
    {
     "name": "stdout",
     "output_type": "stream",
     "text": [
      "True Negatives: 421\n",
      "False Positives: 49\n",
      "False Negatives: 77\n",
      "True Positives: 369\n",
      "-----------------------\n",
      "Accuracy: 0.862\n",
      "Sensitivity: 0.827\n",
      "Specificity: 0.896\n",
      "Precision: 0.883\n",
      "\n",
      "F1 score: 0.8542\n",
      "ROC AUC score: 0.8615\n"
     ]
    },
    {
     "data": {
      "text/plain": [
       "<sklearn.metrics._plot.confusion_matrix.ConfusionMatrixDisplay at 0x7fb1978797c0>"
      ]
     },
     "execution_count": 52,
     "metadata": {},
     "output_type": "execute_result"
    },
    {
     "data": {
      "image/png": "[encoded data removed]",
      "text/plain": [
       "<Figure size 432x288 with 2 Axes>"
      ]
     },
     "metadata": {
      "needs_background": "light"
     },
     "output_type": "display_data"
    }
   ],
   "source": [
    "#Print Accuracy scores\n",
    "log_gs_acc_score2 = print_acc_scores(y2_test,log_gs_preds2)\n",
    "#visualize confusion matrix\n",
    "plot_confusion_matrix(log_gs2,X2_test,y2_test, cmap = 'Blues', values_format ='d')"
   ]
  },
  {
   "cell_type": "code",
   "execution_count": 53,
   "metadata": {},
   "outputs": [],
   "source": [
    "log_gs_score2.extend(log_gs_acc_score2)"
   ]
  },
  {
   "cell_type": "code",
   "execution_count": 54,
   "metadata": {},
   "outputs": [],
   "source": [
    "scores_df['log_gs2'] = log_gs_score2"
   ]
  },
  {
   "cell_type": "markdown",
   "metadata": {},
   "source": [
    "From this grid search logistic regression model it can be seen that as you increase the number of features the model score increases. However, increasing the max_features by too much can cause overfitting. It can also be seen that by including word and character count as features in our model our specifity score is slightly slower here for model 1.4. This is most likely caused by the change in parameters. So there is no strong evidence that including character and word count has a strong effect on specificity and sensitivity."
   ]
  },
  {
   "cell_type": "markdown",
   "metadata": {},
   "source": [
    "### 1.5 Data 1 Standard Logistic Regression Model TfidfVectorizer"
   ]
  },
  {
   "cell_type": "code",
   "execution_count": 55,
   "metadata": {},
   "outputs": [],
   "source": [
    "tvec_log = GridSearchCV(tvec_log_pipe, param_grid = tvec_standard, cv =10)"
   ]
  },
  {
   "cell_type": "code",
   "execution_count": 56,
   "metadata": {},
   "outputs": [
    {
     "data": {
      "text/html": [
       "<style>div.sk-top-container {color: black;background-color: white;}div.sk-toggleable {background-color: white;}label.sk-toggleable__label {cursor: pointer;display: block;width: 100%;margin-bottom: 0;padding: 0.2em 0.3em;box-sizing: border-box;text-align: center;}div.sk-toggleable__content {max-height: 0;max-width: 0;overflow: hidden;text-align: left;background-color: #f0f8ff;}div.sk-toggleable__content pre {margin: 0.2em;color: black;border-radius: 0.25em;background-color: #f0f8ff;}input.sk-toggleable__control:checked~div.sk-toggleable__content {max-height: 200px;max-width: 100%;overflow: auto;}div.sk-estimator input.sk-toggleable__control:checked~label.sk-toggleable__label {background-color: #d4ebff;}div.sk-label input.sk-toggleable__control:checked~label.sk-toggleable__label {background-color: #d4ebff;}input.sk-hidden--visually {border: 0;clip: rect(1px 1px 1px 1px);clip: rect(1px, 1px, 1px, 1px);height: 1px;margin: -1px;overflow: hidden;padding: 0;position: absolute;width: 1px;}div.sk-estimator {font-family: monospace;background-color: #f0f8ff;margin: 0.25em 0.25em;border: 1px dotted black;border-radius: 0.25em;box-sizing: border-box;}div.sk-estimator:hover {background-color: #d4ebff;}div.sk-parallel-item::after {content: \"\";width: 100%;border-bottom: 1px solid gray;flex-grow: 1;}div.sk-label:hover label.sk-toggleable__label {background-color: #d4ebff;}div.sk-serial::before {content: \"\";position: absolute;border-left: 1px solid gray;box-sizing: border-box;top: 2em;bottom: 0;left: 50%;}div.sk-serial {display: flex;flex-direction: column;align-items: center;background-color: white;}div.sk-item {z-index: 1;}div.sk-parallel {display: flex;align-items: stretch;justify-content: center;background-color: white;}div.sk-parallel-item {display: flex;flex-direction: column;position: relative;background-color: white;}div.sk-parallel-item:first-child::after {align-self: flex-end;width: 50%;}div.sk-parallel-item:last-child::after {align-self: flex-start;width: 50%;}div.sk-parallel-item:only-child::after {width: 0;}div.sk-dashed-wrapped {border: 1px dashed gray;margin: 0.2em;box-sizing: border-box;padding-bottom: 0.1em;background-color: white;position: relative;}div.sk-label label {font-family: monospace;font-weight: bold;background-color: white;display: inline-block;line-height: 1.2em;}div.sk-label-container {position: relative;z-index: 2;text-align: center;}div.sk-container {display: inline-block;position: relative;}</style><div class=\"sk-top-container\"><div class=\"sk-container\"><div class=\"sk-item sk-dashed-wrapped\"><div class=\"sk-label-container\"><div class=\"sk-label sk-toggleable\"><input class=\"sk-toggleable__control sk-hidden--visually\" id=\"84626ef5-33c3-458c-8e82-dedcb8bf28ad\" type=\"checkbox\" ><label class=\"sk-toggleable__label\" for=\"84626ef5-33c3-458c-8e82-dedcb8bf28ad\">GridSearchCV</label><div class=\"sk-toggleable__content\"><pre>GridSearchCV(cv=10,\n",
       "             estimator=Pipeline(steps=[('preprocessor',\n",
       "                                        ColumnTransformer(transformers=[('tvec',\n",
       "                                                                         TfidfVectorizer(stop_words=['i',\n",
       "                                                                                                     'me',\n",
       "                                                                                                     'my',\n",
       "                                                                                                     'myself',\n",
       "                                                                                                     'we',\n",
       "                                                                                                     'our',\n",
       "                                                                                                     'ours',\n",
       "                                                                                                     'ourselves',\n",
       "                                                                                                     'you',\n",
       "                                                                                                     \"you're\",\n",
       "                                                                                                     \"you've\",\n",
       "                                                                                                     \"you'll\",\n",
       "                                                                                                     \"you'd\",\n",
       "                                                                                                     'your',\n",
       "                                                                                                     'yours',\n",
       "                                                                                                     'yourself',\n",
       "                                                                                                     'yourselves',\n",
       "                                                                                                     'he',\n",
       "                                                                                                     'him',\n",
       "                                                                                                     'his',\n",
       "                                                                                                     'himself',\n",
       "                                                                                                     'she',\n",
       "                                                                                                     \"she's\",\n",
       "                                                                                                     'her',\n",
       "                                                                                                     'hers',\n",
       "                                                                                                     'herself',\n",
       "                                                                                                     'it',\n",
       "                                                                                                     \"it's\",\n",
       "                                                                                                     'its',\n",
       "                                                                                                     'itself', ...]),\n",
       "                                                                         'title')])),\n",
       "                                       ('log', LogisticRegression())]),\n",
       "             param_grid={'preprocessor__tvec__max_df': [0.95],\n",
       "                         'preprocessor__tvec__max_features': [800],\n",
       "                         'preprocessor__tvec__min_df': [2],\n",
       "                         'preprocessor__tvec__ngram_range': [(1, 1)]})</pre></div></div></div><div class=\"sk-parallel\"><div class=\"sk-parallel-item\"><div class=\"sk-item\"><div class=\"sk-serial\"><div class=\"sk-item\"><div class=\"sk-serial\"><div class=\"sk-item sk-dashed-wrapped\"><div class=\"sk-label-container\"><div class=\"sk-label sk-toggleable\"><input class=\"sk-toggleable__control sk-hidden--visually\" id=\"9bdf3381-678d-4445-a19d-d03d23a7be6a\" type=\"checkbox\" ><label class=\"sk-toggleable__label\" for=\"9bdf3381-678d-4445-a19d-d03d23a7be6a\">preprocessor: ColumnTransformer</label><div class=\"sk-toggleable__content\"><pre>ColumnTransformer(transformers=[('tvec',\n",
       "                                 TfidfVectorizer(stop_words=['i', 'me', 'my',\n",
       "                                                             'myself', 'we',\n",
       "                                                             'our', 'ours',\n",
       "                                                             'ourselves', 'you',\n",
       "                                                             \"you're\", \"you've\",\n",
       "                                                             \"you'll\", \"you'd\",\n",
       "                                                             'your', 'yours',\n",
       "                                                             'yourself',\n",
       "                                                             'yourselves', 'he',\n",
       "                                                             'him', 'his',\n",
       "                                                             'himself', 'she',\n",
       "                                                             \"she's\", 'her',\n",
       "                                                             'hers', 'herself',\n",
       "                                                             'it', \"it's\",\n",
       "                                                             'its', 'itself', ...]),\n",
       "                                 'title')])</pre></div></div></div><div class=\"sk-parallel\"><div class=\"sk-parallel-item\"><div class=\"sk-item\"><div class=\"sk-label-container\"><div class=\"sk-label sk-toggleable\"><input class=\"sk-toggleable__control sk-hidden--visually\" id=\"9c4d522d-9c22-42f7-bf91-b47107c2fdd8\" type=\"checkbox\" ><label class=\"sk-toggleable__label\" for=\"9c4d522d-9c22-42f7-bf91-b47107c2fdd8\">tvec</label><div class=\"sk-toggleable__content\"><pre>title</pre></div></div></div><div class=\"sk-serial\"><div class=\"sk-item\"><div class=\"sk-estimator sk-toggleable\"><input class=\"sk-toggleable__control sk-hidden--visually\" id=\"67c6d0f5-f18e-408b-913b-958fa928cf3c\" type=\"checkbox\" ><label class=\"sk-toggleable__label\" for=\"67c6d0f5-f18e-408b-913b-958fa928cf3c\">TfidfVectorizer</label><div class=\"sk-toggleable__content\"><pre>TfidfVectorizer(stop_words=['i', 'me', 'my', 'myself', 'we', 'our', 'ours',\n",
       "                            'ourselves', 'you', \"you're\", \"you've\", \"you'll\",\n",
       "                            \"you'd\", 'your', 'yours', 'yourself', 'yourselves',\n",
       "                            'he', 'him', 'his', 'himself', 'she', \"she's\",\n",
       "                            'her', 'hers', 'herself', 'it', \"it's\", 'its',\n",
       "                            'itself', ...])</pre></div></div></div></div></div></div></div></div><div class=\"sk-item\"><div class=\"sk-estimator sk-toggleable\"><input class=\"sk-toggleable__control sk-hidden--visually\" id=\"0470426d-f5c8-442c-ae3d-43ff190126c3\" type=\"checkbox\" ><label class=\"sk-toggleable__label\" for=\"0470426d-f5c8-442c-ae3d-43ff190126c3\">LogisticRegression</label><div class=\"sk-toggleable__content\"><pre>LogisticRegression()</pre></div></div></div></div></div></div></div></div></div></div></div></div>"
      ],
      "text/plain": [
       "GridSearchCV(cv=10,\n",
       "             estimator=Pipeline(steps=[('preprocessor',\n",
       "                                        ColumnTransformer(transformers=[('tvec',\n",
       "                                                                         TfidfVectorizer(stop_words=['i',\n",
       "                                                                                                     'me',\n",
       "                                                                                                     'my',\n",
       "                                                                                                     'myself',\n",
       "                                                                                                     'we',\n",
       "                                                                                                     'our',\n",
       "                                                                                                     'ours',\n",
       "                                                                                                     'ourselves',\n",
       "                                                                                                     'you',\n",
       "                                                                                                     \"you're\",\n",
       "                                                                                                     \"you've\",\n",
       "                                                                                                     \"you'll\",\n",
       "                                                                                                     \"you'd\",\n",
       "                                                                                                     'your',\n",
       "                                                                                                     'yours',\n",
       "                                                                                                     'yourself',\n",
       "                                                                                                     'yourselves',\n",
       "                                                                                                     'he',\n",
       "                                                                                                     'him',\n",
       "                                                                                                     'his',\n",
       "                                                                                                     'himself',\n",
       "                                                                                                     'she',\n",
       "                                                                                                     \"she's\",\n",
       "                                                                                                     'her',\n",
       "                                                                                                     'hers',\n",
       "                                                                                                     'herself',\n",
       "                                                                                                     'it',\n",
       "                                                                                                     \"it's\",\n",
       "                                                                                                     'its',\n",
       "                                                                                                     'itself', ...]),\n",
       "                                                                         'title')])),\n",
       "                                       ('log', LogisticRegression())]),\n",
       "             param_grid={'preprocessor__tvec__max_df': [0.95],\n",
       "                         'preprocessor__tvec__max_features': [800],\n",
       "                         'preprocessor__tvec__min_df': [2],\n",
       "                         'preprocessor__tvec__ngram_range': [(1, 1)]})"
      ]
     },
     "execution_count": 56,
     "metadata": {},
     "output_type": "execute_result"
    }
   ],
   "source": [
    "tvec_log.fit(X_train,y_train)"
   ]
  },
  {
   "cell_type": "code",
   "execution_count": 57,
   "metadata": {},
   "outputs": [
    {
     "name": "stdout",
     "output_type": "stream",
     "text": [
      "Cross Validation Score: 0.8667419616964492\n"
     ]
    }
   ],
   "source": [
    "print(f'Cross Validation Score: {cross_val_score(tvec_log, X_train,y_train, cv =5).mean()}')"
   ]
  },
  {
   "cell_type": "markdown",
   "metadata": {},
   "source": [
    "### 1.5 Data Set 1 Standard Logistic Regression Model Score"
   ]
  },
  {
   "cell_type": "code",
   "execution_count": 58,
   "metadata": {},
   "outputs": [
    {
     "name": "stdout",
     "output_type": "stream",
     "text": [
      "Best Model Score: 0.8632\n",
      "Training Score: 0.9159\n",
      "Testing Score: 0.8461\n"
     ]
    }
   ],
   "source": [
    "#Print Scores\n",
    "tvec_log_score = print_gs_scores(tvec_log,X_train,X_test,y_train,y_test)"
   ]
  },
  {
   "cell_type": "code",
   "execution_count": 59,
   "metadata": {},
   "outputs": [],
   "source": [
    "#Calculate Preds\n",
    "tvec_log_preds = tvec_log.predict(X_test)"
   ]
  },
  {
   "cell_type": "markdown",
   "metadata": {},
   "source": [
    "### 1.5 Data Set 1 Standard Logistic Regression Model Accuracy Scores"
   ]
  },
  {
   "cell_type": "code",
   "execution_count": 60,
   "metadata": {},
   "outputs": [
    {
     "name": "stdout",
     "output_type": "stream",
     "text": [
      "True Negatives: 413\n",
      "False Positives: 57\n",
      "False Negatives: 84\n",
      "True Positives: 362\n",
      "-----------------------\n",
      "Accuracy: 0.846\n",
      "Sensitivity: 0.812\n",
      "Specificity: 0.879\n",
      "Precision: 0.864\n",
      "\n",
      "F1 score: 0.837\n",
      "ROC AUC score: 0.8452\n"
     ]
    },
    {
     "data": {
      "text/plain": [
       "<sklearn.metrics._plot.confusion_matrix.ConfusionMatrixDisplay at 0x7fb1978b5fa0>"
      ]
     },
     "execution_count": 60,
     "metadata": {},
     "output_type": "execute_result"
    },
    {
     "data": {
      "image/png": "[encoded data removed]",
      "text/plain": [
       "<Figure size 432x288 with 2 Axes>"
      ]
     },
     "metadata": {
      "needs_background": "light"
     },
     "output_type": "display_data"
    }
   ],
   "source": [
    "#Print Accuracy Scores\n",
    "tvec_log_acc_score = print_acc_scores(y_test,tvec_log_preds)\n",
    "#visualize confusion matrix\n",
    "plot_confusion_matrix(tvec_log,X_test,y_test, cmap = 'Blues', values_format ='d')"
   ]
  },
  {
   "cell_type": "code",
   "execution_count": 61,
   "metadata": {},
   "outputs": [],
   "source": [
    "#add accuracy scores to scores list\n",
    "tvec_log_score.extend(tvec_log_acc_score)"
   ]
  },
  {
   "cell_type": "code",
   "execution_count": 62,
   "metadata": {},
   "outputs": [],
   "source": [
    "#add scores to dataframe\n",
    "scores_df['tvec_log'] = tvec_log_score"
   ]
  },
  {
   "cell_type": "markdown",
   "metadata": {},
   "source": [
    "### 1.6 Data 2 Standard Logistic Regression Model TfidfVectorizer"
   ]
  },
  {
   "cell_type": "code",
   "execution_count": 63,
   "metadata": {},
   "outputs": [],
   "source": [
    "tvec_log2 = GridSearchCV(tvec_log_pipe2, param_grid = tvec_standard, cv =10)"
   ]
  },
  {
   "cell_type": "code",
   "execution_count": 64,
   "metadata": {},
   "outputs": [
    {
     "data": {
      "text/html": [
       "<style>div.sk-top-container {color: black;background-color: white;}div.sk-toggleable {background-color: white;}label.sk-toggleable__label {cursor: pointer;display: block;width: 100%;margin-bottom: 0;padding: 0.2em 0.3em;box-sizing: border-box;text-align: center;}div.sk-toggleable__content {max-height: 0;max-width: 0;overflow: hidden;text-align: left;background-color: #f0f8ff;}div.sk-toggleable__content pre {margin: 0.2em;color: black;border-radius: 0.25em;background-color: #f0f8ff;}input.sk-toggleable__control:checked~div.sk-toggleable__content {max-height: 200px;max-width: 100%;overflow: auto;}div.sk-estimator input.sk-toggleable__control:checked~label.sk-toggleable__label {background-color: #d4ebff;}div.sk-label input.sk-toggleable__control:checked~label.sk-toggleable__label {background-color: #d4ebff;}input.sk-hidden--visually {border: 0;clip: rect(1px 1px 1px 1px);clip: rect(1px, 1px, 1px, 1px);height: 1px;margin: -1px;overflow: hidden;padding: 0;position: absolute;width: 1px;}div.sk-estimator {font-family: monospace;background-color: #f0f8ff;margin: 0.25em 0.25em;border: 1px dotted black;border-radius: 0.25em;box-sizing: border-box;}div.sk-estimator:hover {background-color: #d4ebff;}div.sk-parallel-item::after {content: \"\";width: 100%;border-bottom: 1px solid gray;flex-grow: 1;}div.sk-label:hover label.sk-toggleable__label {background-color: #d4ebff;}div.sk-serial::before {content: \"\";position: absolute;border-left: 1px solid gray;box-sizing: border-box;top: 2em;bottom: 0;left: 50%;}div.sk-serial {display: flex;flex-direction: column;align-items: center;background-color: white;}div.sk-item {z-index: 1;}div.sk-parallel {display: flex;align-items: stretch;justify-content: center;background-color: white;}div.sk-parallel-item {display: flex;flex-direction: column;position: relative;background-color: white;}div.sk-parallel-item:first-child::after {align-self: flex-end;width: 50%;}div.sk-parallel-item:last-child::after {align-self: flex-start;width: 50%;}div.sk-parallel-item:only-child::after {width: 0;}div.sk-dashed-wrapped {border: 1px dashed gray;margin: 0.2em;box-sizing: border-box;padding-bottom: 0.1em;background-color: white;position: relative;}div.sk-label label {font-family: monospace;font-weight: bold;background-color: white;display: inline-block;line-height: 1.2em;}div.sk-label-container {position: relative;z-index: 2;text-align: center;}div.sk-container {display: inline-block;position: relative;}</style><div class=\"sk-top-container\"><div class=\"sk-container\"><div class=\"sk-item sk-dashed-wrapped\"><div class=\"sk-label-container\"><div class=\"sk-label sk-toggleable\"><input class=\"sk-toggleable__control sk-hidden--visually\" id=\"d7c1f155-adc5-4566-9420-ef9f4f457382\" type=\"checkbox\" ><label class=\"sk-toggleable__label\" for=\"d7c1f155-adc5-4566-9420-ef9f4f457382\">GridSearchCV</label><div class=\"sk-toggleable__content\"><pre>GridSearchCV(cv=10,\n",
       "             estimator=Pipeline(steps=[('preprocessor',\n",
       "                                        ColumnTransformer(transformers=[('ss',\n",
       "                                                                         StandardScaler(),\n",
       "                                                                         ['wordcount',\n",
       "                                                                          'charcount']),\n",
       "                                                                        ('tvec',\n",
       "                                                                         TfidfVectorizer(stop_words=['i',\n",
       "                                                                                                     'me',\n",
       "                                                                                                     'my',\n",
       "                                                                                                     'myself',\n",
       "                                                                                                     'we',\n",
       "                                                                                                     'our',\n",
       "                                                                                                     'ours',\n",
       "                                                                                                     'ourselves',\n",
       "                                                                                                     'you',\n",
       "                                                                                                     \"you're\",\n",
       "                                                                                                     \"you've\",\n",
       "                                                                                                     \"you'll\",\n",
       "                                                                                                     \"you'd\",\n",
       "                                                                                                     'your',\n",
       "                                                                                                     'yours',\n",
       "                                                                                                     'yourself',\n",
       "                                                                                                     'yourselves',\n",
       "                                                                                                     'he',\n",
       "                                                                                                     'him',\n",
       "                                                                                                     'his',\n",
       "                                                                                                     'himself',\n",
       "                                                                                                     'she',\n",
       "                                                                                                     \"she's\",\n",
       "                                                                                                     'her',\n",
       "                                                                                                     'hers',\n",
       "                                                                                                     'herself',\n",
       "                                                                                                     'it',\n",
       "                                                                                                     \"it's\",\n",
       "                                                                                                     'its',\n",
       "                                                                                                     'itself', ...]),\n",
       "                                                                         'title')])),\n",
       "                                       ('classifier', LogisticRegression())]),\n",
       "             param_grid={'preprocessor__tvec__max_df': [0.95],\n",
       "                         'preprocessor__tvec__max_features': [800],\n",
       "                         'preprocessor__tvec__min_df': [2],\n",
       "                         'preprocessor__tvec__ngram_range': [(1, 1)]})</pre></div></div></div><div class=\"sk-parallel\"><div class=\"sk-parallel-item\"><div class=\"sk-item\"><div class=\"sk-serial\"><div class=\"sk-item\"><div class=\"sk-serial\"><div class=\"sk-item sk-dashed-wrapped\"><div class=\"sk-label-container\"><div class=\"sk-label sk-toggleable\"><input class=\"sk-toggleable__control sk-hidden--visually\" id=\"2a3bf2f4-dc18-4542-bf96-587dafb8ff00\" type=\"checkbox\" ><label class=\"sk-toggleable__label\" for=\"2a3bf2f4-dc18-4542-bf96-587dafb8ff00\">preprocessor: ColumnTransformer</label><div class=\"sk-toggleable__content\"><pre>ColumnTransformer(transformers=[('ss', StandardScaler(),\n",
       "                                 ['wordcount', 'charcount']),\n",
       "                                ('tvec',\n",
       "                                 TfidfVectorizer(stop_words=['i', 'me', 'my',\n",
       "                                                             'myself', 'we',\n",
       "                                                             'our', 'ours',\n",
       "                                                             'ourselves', 'you',\n",
       "                                                             \"you're\", \"you've\",\n",
       "                                                             \"you'll\", \"you'd\",\n",
       "                                                             'your', 'yours',\n",
       "                                                             'yourself',\n",
       "                                                             'yourselves', 'he',\n",
       "                                                             'him', 'his',\n",
       "                                                             'himself', 'she',\n",
       "                                                             \"she's\", 'her',\n",
       "                                                             'hers', 'herself',\n",
       "                                                             'it', \"it's\",\n",
       "                                                             'its', 'itself', ...]),\n",
       "                                 'title')])</pre></div></div></div><div class=\"sk-parallel\"><div class=\"sk-parallel-item\"><div class=\"sk-item\"><div class=\"sk-label-container\"><div class=\"sk-label sk-toggleable\"><input class=\"sk-toggleable__control sk-hidden--visually\" id=\"f5982e34-bf2d-4652-86ab-35b4998a63d4\" type=\"checkbox\" ><label class=\"sk-toggleable__label\" for=\"f5982e34-bf2d-4652-86ab-35b4998a63d4\">ss</label><div class=\"sk-toggleable__content\"><pre>['wordcount', 'charcount']</pre></div></div></div><div class=\"sk-serial\"><div class=\"sk-item\"><div class=\"sk-estimator sk-toggleable\"><input class=\"sk-toggleable__control sk-hidden--visually\" id=\"6205cee3-0220-427e-b331-3edb01ad4be4\" type=\"checkbox\" ><label class=\"sk-toggleable__label\" for=\"6205cee3-0220-427e-b331-3edb01ad4be4\">StandardScaler</label><div class=\"sk-toggleable__content\"><pre>StandardScaler()</pre></div></div></div></div></div></div><div class=\"sk-parallel-item\"><div class=\"sk-item\"><div class=\"sk-label-container\"><div class=\"sk-label sk-toggleable\"><input class=\"sk-toggleable__control sk-hidden--visually\" id=\"82633dca-97df-4773-80cd-e46be36a43b3\" type=\"checkbox\" ><label class=\"sk-toggleable__label\" for=\"82633dca-97df-4773-80cd-e46be36a43b3\">tvec</label><div class=\"sk-toggleable__content\"><pre>title</pre></div></div></div><div class=\"sk-serial\"><div class=\"sk-item\"><div class=\"sk-estimator sk-toggleable\"><input class=\"sk-toggleable__control sk-hidden--visually\" id=\"54021068-4f2d-46a9-aaa1-873d528ad2b0\" type=\"checkbox\" ><label class=\"sk-toggleable__label\" for=\"54021068-4f2d-46a9-aaa1-873d528ad2b0\">TfidfVectorizer</label><div class=\"sk-toggleable__content\"><pre>TfidfVectorizer(stop_words=['i', 'me', 'my', 'myself', 'we', 'our', 'ours',\n",
       "                            'ourselves', 'you', \"you're\", \"you've\", \"you'll\",\n",
       "                            \"you'd\", 'your', 'yours', 'yourself', 'yourselves',\n",
       "                            'he', 'him', 'his', 'himself', 'she', \"she's\",\n",
       "                            'her', 'hers', 'herself', 'it', \"it's\", 'its',\n",
       "                            'itself', ...])</pre></div></div></div></div></div></div></div></div><div class=\"sk-item\"><div class=\"sk-estimator sk-toggleable\"><input class=\"sk-toggleable__control sk-hidden--visually\" id=\"abee4c5f-8b33-4d9d-8c39-c97a573b1ed6\" type=\"checkbox\" ><label class=\"sk-toggleable__label\" for=\"abee4c5f-8b33-4d9d-8c39-c97a573b1ed6\">LogisticRegression</label><div class=\"sk-toggleable__content\"><pre>LogisticRegression()</pre></div></div></div></div></div></div></div></div></div></div></div></div>"
      ],
      "text/plain": [
       "GridSearchCV(cv=10,\n",
       "             estimator=Pipeline(steps=[('preprocessor',\n",
       "                                        ColumnTransformer(transformers=[('ss',\n",
       "                                                                         StandardScaler(),\n",
       "                                                                         ['wordcount',\n",
       "                                                                          'charcount']),\n",
       "                                                                        ('tvec',\n",
       "                                                                         TfidfVectorizer(stop_words=['i',\n",
       "                                                                                                     'me',\n",
       "                                                                                                     'my',\n",
       "                                                                                                     'myself',\n",
       "                                                                                                     'we',\n",
       "                                                                                                     'our',\n",
       "                                                                                                     'ours',\n",
       "                                                                                                     'ourselves',\n",
       "                                                                                                     'you',\n",
       "                                                                                                     \"you're\",\n",
       "                                                                                                     \"you've\",\n",
       "                                                                                                     \"you'll\",\n",
       "                                                                                                     \"you'd\",\n",
       "                                                                                                     'your',\n",
       "                                                                                                     'yours',\n",
       "                                                                                                     'yourself',\n",
       "                                                                                                     'yourselves',\n",
       "                                                                                                     'he',\n",
       "                                                                                                     'him',\n",
       "                                                                                                     'his',\n",
       "                                                                                                     'himself',\n",
       "                                                                                                     'she',\n",
       "                                                                                                     \"she's\",\n",
       "                                                                                                     'her',\n",
       "                                                                                                     'hers',\n",
       "                                                                                                     'herself',\n",
       "                                                                                                     'it',\n",
       "                                                                                                     \"it's\",\n",
       "                                                                                                     'its',\n",
       "                                                                                                     'itself', ...]),\n",
       "                                                                         'title')])),\n",
       "                                       ('classifier', LogisticRegression())]),\n",
       "             param_grid={'preprocessor__tvec__max_df': [0.95],\n",
       "                         'preprocessor__tvec__max_features': [800],\n",
       "                         'preprocessor__tvec__min_df': [2],\n",
       "                         'preprocessor__tvec__ngram_range': [(1, 1)]})"
      ]
     },
     "execution_count": 64,
     "metadata": {},
     "output_type": "execute_result"
    }
   ],
   "source": [
    "tvec_log2.fit(X2_train,y2_train)"
   ]
  },
  {
   "cell_type": "code",
   "execution_count": 65,
   "metadata": {},
   "outputs": [
    {
     "name": "stdout",
     "output_type": "stream",
     "text": [
      "Cross Validation Score: 0.8656501837646025\n"
     ]
    }
   ],
   "source": [
    "print(f'Cross Validation Score: {cross_val_score(tvec_log2, X2_train,y2_train, cv =5).mean()}')"
   ]
  },
  {
   "cell_type": "markdown",
   "metadata": {},
   "source": [
    "### 1.6 Data Set 2 Standard Logistic Regression Model Score"
   ]
  },
  {
   "cell_type": "code",
   "execution_count": 66,
   "metadata": {},
   "outputs": [
    {
     "name": "stdout",
     "output_type": "stream",
     "text": [
      "Best Model Score: 0.8624\n",
      "Training Score: 0.9156\n",
      "Testing Score: 0.8461\n"
     ]
    }
   ],
   "source": [
    "#Print Scores\n",
    "tvec_log_score2 = print_gs_scores(tvec_log2,X2_train,X2_test,y2_train,y2_test)"
   ]
  },
  {
   "cell_type": "code",
   "execution_count": 67,
   "metadata": {},
   "outputs": [],
   "source": [
    "#Calculate Preds\n",
    "tvec_log_preds2 = tvec_log2.predict(X2_test)"
   ]
  },
  {
   "cell_type": "markdown",
   "metadata": {},
   "source": [
    "### 1.6 Data Set 2 Standard Logistic Regression Model Accuracy Scores"
   ]
  },
  {
   "cell_type": "code",
   "execution_count": 68,
   "metadata": {},
   "outputs": [
    {
     "name": "stdout",
     "output_type": "stream",
     "text": [
      "True Negatives: 414\n",
      "False Positives: 56\n",
      "False Negatives: 85\n",
      "True Positives: 361\n",
      "-----------------------\n",
      "Accuracy: 0.846\n",
      "Sensitivity: 0.809\n",
      "Specificity: 0.881\n",
      "Precision: 0.866\n",
      "\n",
      "F1 score: 0.8366\n",
      "ROC AUC score: 0.8451\n"
     ]
    },
    {
     "data": {
      "text/plain": [
       "<sklearn.metrics._plot.confusion_matrix.ConfusionMatrixDisplay at 0x7fb197678970>"
      ]
     },
     "execution_count": 68,
     "metadata": {},
     "output_type": "execute_result"
    },
    {
     "data": {
      "image/png": "[encoded data removed]",
      "text/plain": [
       "<Figure size 432x288 with 2 Axes>"
      ]
     },
     "metadata": {
      "needs_background": "light"
     },
     "output_type": "display_data"
    }
   ],
   "source": [
    "#Print Accuracy Scores\n",
    "tvec_log_acc_score2 = print_acc_scores(y2_test,tvec_log_preds2)\n",
    "#visualize confusion matrix\n",
    "plot_confusion_matrix(tvec_log2,X2_test,y2_test, cmap = 'Blues', values_format ='d')"
   ]
  },
  {
   "cell_type": "code",
   "execution_count": 69,
   "metadata": {},
   "outputs": [],
   "source": [
    "#add accuracy scores to scores list\n",
    "tvec_log_score2.extend(tvec_log_acc_score2)"
   ]
  },
  {
   "cell_type": "code",
   "execution_count": 70,
   "metadata": {},
   "outputs": [],
   "source": [
    "#add scores to dataframe\n",
    "scores_df['tvec_log2'] = tvec_log_score2"
   ]
  },
  {
   "cell_type": "markdown",
   "metadata": {},
   "source": [
    "Transforming the data with tfifdvectorizer lowers both our specificity and sensitivity score which is evident in the increase in both false positive and negatives. Thus, this model is probably not favorable. Again there is no evidence that character and word count have an effect on the sensitivity and specificity scores"
   ]
  },
  {
   "cell_type": "markdown",
   "metadata": {},
   "source": [
    "### 1.7 Data Set 1 Logistic Regression Model Grid Search TfidfVectorizer"
   ]
  },
  {
   "cell_type": "code",
   "execution_count": 71,
   "metadata": {},
   "outputs": [],
   "source": [
    "#instantiate log grid search\n",
    "tvec_log_gs = GridSearchCV(tvec_log_pipe, param_grid = tvec_param_grid, cv =10)"
   ]
  },
  {
   "cell_type": "code",
   "execution_count": 72,
   "metadata": {},
   "outputs": [
    {
     "data": {
      "text/html": [
       "<style>div.sk-top-container {color: black;background-color: white;}div.sk-toggleable {background-color: white;}label.sk-toggleable__label {cursor: pointer;display: block;width: 100%;margin-bottom: 0;padding: 0.2em 0.3em;box-sizing: border-box;text-align: center;}div.sk-toggleable__content {max-height: 0;max-width: 0;overflow: hidden;text-align: left;background-color: #f0f8ff;}div.sk-toggleable__content pre {margin: 0.2em;color: black;border-radius: 0.25em;background-color: #f0f8ff;}input.sk-toggleable__control:checked~div.sk-toggleable__content {max-height: 200px;max-width: 100%;overflow: auto;}div.sk-estimator input.sk-toggleable__control:checked~label.sk-toggleable__label {background-color: #d4ebff;}div.sk-label input.sk-toggleable__control:checked~label.sk-toggleable__label {background-color: #d4ebff;}input.sk-hidden--visually {border: 0;clip: rect(1px 1px 1px 1px);clip: rect(1px, 1px, 1px, 1px);height: 1px;margin: -1px;overflow: hidden;padding: 0;position: absolute;width: 1px;}div.sk-estimator {font-family: monospace;background-color: #f0f8ff;margin: 0.25em 0.25em;border: 1px dotted black;border-radius: 0.25em;box-sizing: border-box;}div.sk-estimator:hover {background-color: #d4ebff;}div.sk-parallel-item::after {content: \"\";width: 100%;border-bottom: 1px solid gray;flex-grow: 1;}div.sk-label:hover label.sk-toggleable__label {background-color: #d4ebff;}div.sk-serial::before {content: \"\";position: absolute;border-left: 1px solid gray;box-sizing: border-box;top: 2em;bottom: 0;left: 50%;}div.sk-serial {display: flex;flex-direction: column;align-items: center;background-color: white;}div.sk-item {z-index: 1;}div.sk-parallel {display: flex;align-items: stretch;justify-content: center;background-color: white;}div.sk-parallel-item {display: flex;flex-direction: column;position: relative;background-color: white;}div.sk-parallel-item:first-child::after {align-self: flex-end;width: 50%;}div.sk-parallel-item:last-child::after {align-self: flex-start;width: 50%;}div.sk-parallel-item:only-child::after {width: 0;}div.sk-dashed-wrapped {border: 1px dashed gray;margin: 0.2em;box-sizing: border-box;padding-bottom: 0.1em;background-color: white;position: relative;}div.sk-label label {font-family: monospace;font-weight: bold;background-color: white;display: inline-block;line-height: 1.2em;}div.sk-label-container {position: relative;z-index: 2;text-align: center;}div.sk-container {display: inline-block;position: relative;}</style><div class=\"sk-top-container\"><div class=\"sk-container\"><div class=\"sk-item sk-dashed-wrapped\"><div class=\"sk-label-container\"><div class=\"sk-label sk-toggleable\"><input class=\"sk-toggleable__control sk-hidden--visually\" id=\"fbefcd14-2047-44f7-9f5a-b91c22950102\" type=\"checkbox\" ><label class=\"sk-toggleable__label\" for=\"fbefcd14-2047-44f7-9f5a-b91c22950102\">GridSearchCV</label><div class=\"sk-toggleable__content\"><pre>GridSearchCV(cv=10,\n",
       "             estimator=Pipeline(steps=[('preprocessor',\n",
       "                                        ColumnTransformer(transformers=[('tvec',\n",
       "                                                                         TfidfVectorizer(stop_words=['i',\n",
       "                                                                                                     'me',\n",
       "                                                                                                     'my',\n",
       "                                                                                                     'myself',\n",
       "                                                                                                     'we',\n",
       "                                                                                                     'our',\n",
       "                                                                                                     'ours',\n",
       "                                                                                                     'ourselves',\n",
       "                                                                                                     'you',\n",
       "                                                                                                     \"you're\",\n",
       "                                                                                                     \"you've\",\n",
       "                                                                                                     \"you'll\",\n",
       "                                                                                                     \"you'd\",\n",
       "                                                                                                     'your',\n",
       "                                                                                                     'yours',\n",
       "                                                                                                     'yourself',\n",
       "                                                                                                     'yourselves',\n",
       "                                                                                                     'he',\n",
       "                                                                                                     'him',\n",
       "                                                                                                     'his',\n",
       "                                                                                                     'himself',\n",
       "                                                                                                     'she',\n",
       "                                                                                                     \"she's\",\n",
       "                                                                                                     'her',\n",
       "                                                                                                     'hers',\n",
       "                                                                                                     'herself',\n",
       "                                                                                                     'it',\n",
       "                                                                                                     \"it's\",\n",
       "                                                                                                     'its',\n",
       "                                                                                                     'itself', ...]),\n",
       "                                                                         'title')])),\n",
       "                                       ('log', LogisticRegression())]),\n",
       "             param_grid={'preprocessor__tvec__max_df': [0.9, 0.95],\n",
       "                         'preprocessor__tvec__max_features': [600, 800, 1000,\n",
       "                                                              1200],\n",
       "                         'preprocessor__tvec__min_df': [2, 3, 4],\n",
       "                         'preprocessor__tvec__ngram_range': [(1, 1), (2, 2)]})</pre></div></div></div><div class=\"sk-parallel\"><div class=\"sk-parallel-item\"><div class=\"sk-item\"><div class=\"sk-serial\"><div class=\"sk-item\"><div class=\"sk-serial\"><div class=\"sk-item sk-dashed-wrapped\"><div class=\"sk-label-container\"><div class=\"sk-label sk-toggleable\"><input class=\"sk-toggleable__control sk-hidden--visually\" id=\"e16ca326-5f15-4b7a-98a7-446a0978115d\" type=\"checkbox\" ><label class=\"sk-toggleable__label\" for=\"e16ca326-5f15-4b7a-98a7-446a0978115d\">preprocessor: ColumnTransformer</label><div class=\"sk-toggleable__content\"><pre>ColumnTransformer(transformers=[('tvec',\n",
       "                                 TfidfVectorizer(stop_words=['i', 'me', 'my',\n",
       "                                                             'myself', 'we',\n",
       "                                                             'our', 'ours',\n",
       "                                                             'ourselves', 'you',\n",
       "                                                             \"you're\", \"you've\",\n",
       "                                                             \"you'll\", \"you'd\",\n",
       "                                                             'your', 'yours',\n",
       "                                                             'yourself',\n",
       "                                                             'yourselves', 'he',\n",
       "                                                             'him', 'his',\n",
       "                                                             'himself', 'she',\n",
       "                                                             \"she's\", 'her',\n",
       "                                                             'hers', 'herself',\n",
       "                                                             'it', \"it's\",\n",
       "                                                             'its', 'itself', ...]),\n",
       "                                 'title')])</pre></div></div></div><div class=\"sk-parallel\"><div class=\"sk-parallel-item\"><div class=\"sk-item\"><div class=\"sk-label-container\"><div class=\"sk-label sk-toggleable\"><input class=\"sk-toggleable__control sk-hidden--visually\" id=\"0ab6cc05-d9ef-40bd-9999-ca77343523c7\" type=\"checkbox\" ><label class=\"sk-toggleable__label\" for=\"0ab6cc05-d9ef-40bd-9999-ca77343523c7\">tvec</label><div class=\"sk-toggleable__content\"><pre>title</pre></div></div></div><div class=\"sk-serial\"><div class=\"sk-item\"><div class=\"sk-estimator sk-toggleable\"><input class=\"sk-toggleable__control sk-hidden--visually\" id=\"3201b086-374a-4382-b903-fc4c92202f77\" type=\"checkbox\" ><label class=\"sk-toggleable__label\" for=\"3201b086-374a-4382-b903-fc4c92202f77\">TfidfVectorizer</label><div class=\"sk-toggleable__content\"><pre>TfidfVectorizer(stop_words=['i', 'me', 'my', 'myself', 'we', 'our', 'ours',\n",
       "                            'ourselves', 'you', \"you're\", \"you've\", \"you'll\",\n",
       "                            \"you'd\", 'your', 'yours', 'yourself', 'yourselves',\n",
       "                            'he', 'him', 'his', 'himself', 'she', \"she's\",\n",
       "                            'her', 'hers', 'herself', 'it', \"it's\", 'its',\n",
       "                            'itself', ...])</pre></div></div></div></div></div></div></div></div><div class=\"sk-item\"><div class=\"sk-estimator sk-toggleable\"><input class=\"sk-toggleable__control sk-hidden--visually\" id=\"7b3e60b5-2e63-48f0-8ecc-bc769ccb528e\" type=\"checkbox\" ><label class=\"sk-toggleable__label\" for=\"7b3e60b5-2e63-48f0-8ecc-bc769ccb528e\">LogisticRegression</label><div class=\"sk-toggleable__content\"><pre>LogisticRegression()</pre></div></div></div></div></div></div></div></div></div></div></div></div>"
      ],
      "text/plain": [
       "GridSearchCV(cv=10,\n",
       "             estimator=Pipeline(steps=[('preprocessor',\n",
       "                                        ColumnTransformer(transformers=[('tvec',\n",
       "                                                                         TfidfVectorizer(stop_words=['i',\n",
       "                                                                                                     'me',\n",
       "                                                                                                     'my',\n",
       "                                                                                                     'myself',\n",
       "                                                                                                     'we',\n",
       "                                                                                                     'our',\n",
       "                                                                                                     'ours',\n",
       "                                                                                                     'ourselves',\n",
       "                                                                                                     'you',\n",
       "                                                                                                     \"you're\",\n",
       "                                                                                                     \"you've\",\n",
       "                                                                                                     \"you'll\",\n",
       "                                                                                                     \"you'd\",\n",
       "                                                                                                     'your',\n",
       "                                                                                                     'yours',\n",
       "                                                                                                     'yourself',\n",
       "                                                                                                     'yourselves',\n",
       "                                                                                                     'he',\n",
       "                                                                                                     'him',\n",
       "                                                                                                     'his',\n",
       "                                                                                                     'himself',\n",
       "                                                                                                     'she',\n",
       "                                                                                                     \"she's\",\n",
       "                                                                                                     'her',\n",
       "                                                                                                     'hers',\n",
       "                                                                                                     'herself',\n",
       "                                                                                                     'it',\n",
       "                                                                                                     \"it's\",\n",
       "                                                                                                     'its',\n",
       "                                                                                                     'itself', ...]),\n",
       "                                                                         'title')])),\n",
       "                                       ('log', LogisticRegression())]),\n",
       "             param_grid={'preprocessor__tvec__max_df': [0.9, 0.95],\n",
       "                         'preprocessor__tvec__max_features': [600, 800, 1000,\n",
       "                                                              1200],\n",
       "                         'preprocessor__tvec__min_df': [2, 3, 4],\n",
       "                         'preprocessor__tvec__ngram_range': [(1, 1), (2, 2)]})"
      ]
     },
     "execution_count": 72,
     "metadata": {},
     "output_type": "execute_result"
    }
   ],
   "source": [
    "#Fit gridsearch to training data\n",
    "tvec_log_gs.fit(X_train,y_train)"
   ]
  },
  {
   "cell_type": "code",
   "execution_count": 73,
   "metadata": {},
   "outputs": [
    {
     "data": {
      "text/plain": [
       "{'preprocessor__tvec__max_df': 0.9,\n",
       " 'preprocessor__tvec__max_features': 1200,\n",
       " 'preprocessor__tvec__min_df': 3,\n",
       " 'preprocessor__tvec__ngram_range': (1, 1)}"
      ]
     },
     "execution_count": 73,
     "metadata": {},
     "output_type": "execute_result"
    }
   ],
   "source": [
    "#Return Best parameters\n",
    "tvec_log_gs.best_params_"
   ]
  },
  {
   "cell_type": "markdown",
   "metadata": {},
   "source": [
    "### 1.7 Data Set 1 Logistic Regression Model Grid Search Scores TfidfVectorizer"
   ]
  },
  {
   "cell_type": "code",
   "execution_count": 74,
   "metadata": {},
   "outputs": [
    {
     "name": "stdout",
     "output_type": "stream",
     "text": [
      "Best Model Score: 0.8777\n",
      "Training Score: 0.9328\n",
      "Testing Score: 0.8603\n"
     ]
    }
   ],
   "source": [
    "#print scores\n",
    "tvec_log_gs_score = print_gs_scores(tvec_log_gs,X_train,X_test,y_train,y_test)"
   ]
  },
  {
   "cell_type": "code",
   "execution_count": 75,
   "metadata": {},
   "outputs": [],
   "source": [
    "#calculate preds\n",
    "tvec_log_gs_preds = tvec_log_gs.predict(X_test)"
   ]
  },
  {
   "cell_type": "markdown",
   "metadata": {},
   "source": [
    "### 1.7 Data Set 1 Logistic Regression Model Grid Search Accuracy Scores TfidfVectorizer"
   ]
  },
  {
   "cell_type": "code",
   "execution_count": 76,
   "metadata": {},
   "outputs": [
    {
     "name": "stdout",
     "output_type": "stream",
     "text": [
      "True Negatives: 420\n",
      "False Positives: 50\n",
      "False Negatives: 78\n",
      "True Positives: 368\n",
      "-----------------------\n",
      "Accuracy: 0.86\n",
      "Sensitivity: 0.825\n",
      "Specificity: 0.894\n",
      "Precision: 0.88\n",
      "\n",
      "F1 score: 0.8519\n",
      "ROC AUC score: 0.8594\n"
     ]
    },
    {
     "data": {
      "text/plain": [
       "<sklearn.metrics._plot.confusion_matrix.ConfusionMatrixDisplay at 0x7fb191d77190>"
      ]
     },
     "execution_count": 76,
     "metadata": {},
     "output_type": "execute_result"
    },
    {
     "data": {
      "image/png": "[encoded data removed]",
      "text/plain": [
       "<Figure size 432x288 with 2 Axes>"
      ]
     },
     "metadata": {
      "needs_background": "light"
     },
     "output_type": "display_data"
    }
   ],
   "source": [
    "#Print Accuracy Scores for log grid search\n",
    "tvec_log_gs_acc_score = print_acc_scores(y_test,tvec_log_gs_preds)\n",
    "#visualize confusion matrix\n",
    "plot_confusion_matrix(tvec_log_gs,X_test,y_test, cmap = 'Blues', values_format ='d')"
   ]
  },
  {
   "cell_type": "code",
   "execution_count": 77,
   "metadata": {},
   "outputs": [],
   "source": [
    "#add accuracy scores to scores list\n",
    "tvec_log_gs_score.extend(tvec_log_gs_acc_score)"
   ]
  },
  {
   "cell_type": "code",
   "execution_count": 78,
   "metadata": {},
   "outputs": [],
   "source": [
    "#add scores to data frame\n",
    "scores_df['tvec_log_gs'] = tvec_log_gs_score"
   ]
  },
  {
   "cell_type": "markdown",
   "metadata": {},
   "source": [
    "### 1.8 Data Set 2 Logistic Regression Model Grid Search TfidfVectorizer"
   ]
  },
  {
   "cell_type": "code",
   "execution_count": 79,
   "metadata": {},
   "outputs": [],
   "source": [
    "#instantiate log grid search\n",
    "tvec_log_gs2 = GridSearchCV(tvec_log_pipe2, param_grid = tvec_param_grid, cv =10)"
   ]
  },
  {
   "cell_type": "code",
   "execution_count": 80,
   "metadata": {},
   "outputs": [
    {
     "data": {
      "text/html": [
       "<style>div.sk-top-container {color: black;background-color: white;}div.sk-toggleable {background-color: white;}label.sk-toggleable__label {cursor: pointer;display: block;width: 100%;margin-bottom: 0;padding: 0.2em 0.3em;box-sizing: border-box;text-align: center;}div.sk-toggleable__content {max-height: 0;max-width: 0;overflow: hidden;text-align: left;background-color: #f0f8ff;}div.sk-toggleable__content pre {margin: 0.2em;color: black;border-radius: 0.25em;background-color: #f0f8ff;}input.sk-toggleable__control:checked~div.sk-toggleable__content {max-height: 200px;max-width: 100%;overflow: auto;}div.sk-estimator input.sk-toggleable__control:checked~label.sk-toggleable__label {background-color: #d4ebff;}div.sk-label input.sk-toggleable__control:checked~label.sk-toggleable__label {background-color: #d4ebff;}input.sk-hidden--visually {border: 0;clip: rect(1px 1px 1px 1px);clip: rect(1px, 1px, 1px, 1px);height: 1px;margin: -1px;overflow: hidden;padding: 0;position: absolute;width: 1px;}div.sk-estimator {font-family: monospace;background-color: #f0f8ff;margin: 0.25em 0.25em;border: 1px dotted black;border-radius: 0.25em;box-sizing: border-box;}div.sk-estimator:hover {background-color: #d4ebff;}div.sk-parallel-item::after {content: \"\";width: 100%;border-bottom: 1px solid gray;flex-grow: 1;}div.sk-label:hover label.sk-toggleable__label {background-color: #d4ebff;}div.sk-serial::before {content: \"\";position: absolute;border-left: 1px solid gray;box-sizing: border-box;top: 2em;bottom: 0;left: 50%;}div.sk-serial {display: flex;flex-direction: column;align-items: center;background-color: white;}div.sk-item {z-index: 1;}div.sk-parallel {display: flex;align-items: stretch;justify-content: center;background-color: white;}div.sk-parallel-item {display: flex;flex-direction: column;position: relative;background-color: white;}div.sk-parallel-item:first-child::after {align-self: flex-end;width: 50%;}div.sk-parallel-item:last-child::after {align-self: flex-start;width: 50%;}div.sk-parallel-item:only-child::after {width: 0;}div.sk-dashed-wrapped {border: 1px dashed gray;margin: 0.2em;box-sizing: border-box;padding-bottom: 0.1em;background-color: white;position: relative;}div.sk-label label {font-family: monospace;font-weight: bold;background-color: white;display: inline-block;line-height: 1.2em;}div.sk-label-container {position: relative;z-index: 2;text-align: center;}div.sk-container {display: inline-block;position: relative;}</style><div class=\"sk-top-container\"><div class=\"sk-container\"><div class=\"sk-item sk-dashed-wrapped\"><div class=\"sk-label-container\"><div class=\"sk-label sk-toggleable\"><input class=\"sk-toggleable__control sk-hidden--visually\" id=\"d75c05d2-4eb0-40f2-ac44-f3908a74eb14\" type=\"checkbox\" ><label class=\"sk-toggleable__label\" for=\"d75c05d2-4eb0-40f2-ac44-f3908a74eb14\">GridSearchCV</label><div class=\"sk-toggleable__content\"><pre>GridSearchCV(cv=10,\n",
       "             estimator=Pipeline(steps=[('preprocessor',\n",
       "                                        ColumnTransformer(transformers=[('ss',\n",
       "                                                                         StandardScaler(),\n",
       "                                                                         ['wordcount',\n",
       "                                                                          'charcount']),\n",
       "                                                                        ('tvec',\n",
       "                                                                         TfidfVectorizer(stop_words=['i',\n",
       "                                                                                                     'me',\n",
       "                                                                                                     'my',\n",
       "                                                                                                     'myself',\n",
       "                                                                                                     'we',\n",
       "                                                                                                     'our',\n",
       "                                                                                                     'ours',\n",
       "                                                                                                     'ourselves',\n",
       "                                                                                                     'you',\n",
       "                                                                                                     \"you're\",\n",
       "                                                                                                     \"you've\",\n",
       "                                                                                                     \"you'll\",\n",
       "                                                                                                     \"you'd\",\n",
       "                                                                                                     'your',\n",
       "                                                                                                     'yours',\n",
       "                                                                                                     'yourself',\n",
       "                                                                                                     'yourselves',\n",
       "                                                                                                     'he',\n",
       "                                                                                                     'him',\n",
       "                                                                                                     'his',\n",
       "                                                                                                     'himself',\n",
       "                                                                                                     'she',\n",
       "                                                                                                     \"she's\",\n",
       "                                                                                                     'her',\n",
       "                                                                                                     'hers',\n",
       "                                                                                                     'herself',\n",
       "                                                                                                     'it',\n",
       "                                                                                                     \"it's\",\n",
       "                                                                                                     'its',\n",
       "                                                                                                     'itself', ...]),\n",
       "                                                                         'title')])),\n",
       "                                       ('classifier', LogisticRegression())]),\n",
       "             param_grid={'preprocessor__tvec__max_df': [0.9, 0.95],\n",
       "                         'preprocessor__tvec__max_features': [600, 800, 1000,\n",
       "                                                              1200],\n",
       "                         'preprocessor__tvec__min_df': [2, 3, 4],\n",
       "                         'preprocessor__tvec__ngram_range': [(1, 1), (2, 2)]})</pre></div></div></div><div class=\"sk-parallel\"><div class=\"sk-parallel-item\"><div class=\"sk-item\"><div class=\"sk-serial\"><div class=\"sk-item\"><div class=\"sk-serial\"><div class=\"sk-item sk-dashed-wrapped\"><div class=\"sk-label-container\"><div class=\"sk-label sk-toggleable\"><input class=\"sk-toggleable__control sk-hidden--visually\" id=\"f626a8ab-cf37-49ea-a8f1-2aa8bb1079a5\" type=\"checkbox\" ><label class=\"sk-toggleable__label\" for=\"f626a8ab-cf37-49ea-a8f1-2aa8bb1079a5\">preprocessor: ColumnTransformer</label><div class=\"sk-toggleable__content\"><pre>ColumnTransformer(transformers=[('ss', StandardScaler(),\n",
       "                                 ['wordcount', 'charcount']),\n",
       "                                ('tvec',\n",
       "                                 TfidfVectorizer(stop_words=['i', 'me', 'my',\n",
       "                                                             'myself', 'we',\n",
       "                                                             'our', 'ours',\n",
       "                                                             'ourselves', 'you',\n",
       "                                                             \"you're\", \"you've\",\n",
       "                                                             \"you'll\", \"you'd\",\n",
       "                                                             'your', 'yours',\n",
       "                                                             'yourself',\n",
       "                                                             'yourselves', 'he',\n",
       "                                                             'him', 'his',\n",
       "                                                             'himself', 'she',\n",
       "                                                             \"she's\", 'her',\n",
       "                                                             'hers', 'herself',\n",
       "                                                             'it', \"it's\",\n",
       "                                                             'its', 'itself', ...]),\n",
       "                                 'title')])</pre></div></div></div><div class=\"sk-parallel\"><div class=\"sk-parallel-item\"><div class=\"sk-item\"><div class=\"sk-label-container\"><div class=\"sk-label sk-toggleable\"><input class=\"sk-toggleable__control sk-hidden--visually\" id=\"1ce10103-5b74-41ea-9b4c-38278d895e74\" type=\"checkbox\" ><label class=\"sk-toggleable__label\" for=\"1ce10103-5b74-41ea-9b4c-38278d895e74\">ss</label><div class=\"sk-toggleable__content\"><pre>['wordcount', 'charcount']</pre></div></div></div><div class=\"sk-serial\"><div class=\"sk-item\"><div class=\"sk-estimator sk-toggleable\"><input class=\"sk-toggleable__control sk-hidden--visually\" id=\"44c8e8a6-1ce7-4b5f-9f08-4b52c3d7d6df\" type=\"checkbox\" ><label class=\"sk-toggleable__label\" for=\"44c8e8a6-1ce7-4b5f-9f08-4b52c3d7d6df\">StandardScaler</label><div class=\"sk-toggleable__content\"><pre>StandardScaler()</pre></div></div></div></div></div></div><div class=\"sk-parallel-item\"><div class=\"sk-item\"><div class=\"sk-label-container\"><div class=\"sk-label sk-toggleable\"><input class=\"sk-toggleable__control sk-hidden--visually\" id=\"4c05d10e-d7f3-47f9-82f9-d07dee3285c1\" type=\"checkbox\" ><label class=\"sk-toggleable__label\" for=\"4c05d10e-d7f3-47f9-82f9-d07dee3285c1\">tvec</label><div class=\"sk-toggleable__content\"><pre>title</pre></div></div></div><div class=\"sk-serial\"><div class=\"sk-item\"><div class=\"sk-estimator sk-toggleable\"><input class=\"sk-toggleable__control sk-hidden--visually\" id=\"09ffbced-f52d-406a-816d-d9a6a76fbd5f\" type=\"checkbox\" ><label class=\"sk-toggleable__label\" for=\"09ffbced-f52d-406a-816d-d9a6a76fbd5f\">TfidfVectorizer</label><div class=\"sk-toggleable__content\"><pre>TfidfVectorizer(stop_words=['i', 'me', 'my', 'myself', 'we', 'our', 'ours',\n",
       "                            'ourselves', 'you', \"you're\", \"you've\", \"you'll\",\n",
       "                            \"you'd\", 'your', 'yours', 'yourself', 'yourselves',\n",
       "                            'he', 'him', 'his', 'himself', 'she', \"she's\",\n",
       "                            'her', 'hers', 'herself', 'it', \"it's\", 'its',\n",
       "                            'itself', ...])</pre></div></div></div></div></div></div></div></div><div class=\"sk-item\"><div class=\"sk-estimator sk-toggleable\"><input class=\"sk-toggleable__control sk-hidden--visually\" id=\"0a5471e5-5718-4f52-ab38-47e69e01c5e0\" type=\"checkbox\" ><label class=\"sk-toggleable__label\" for=\"0a5471e5-5718-4f52-ab38-47e69e01c5e0\">LogisticRegression</label><div class=\"sk-toggleable__content\"><pre>LogisticRegression()</pre></div></div></div></div></div></div></div></div></div></div></div></div>"
      ],
      "text/plain": [
       "GridSearchCV(cv=10,\n",
       "             estimator=Pipeline(steps=[('preprocessor',\n",
       "                                        ColumnTransformer(transformers=[('ss',\n",
       "                                                                         StandardScaler(),\n",
       "                                                                         ['wordcount',\n",
       "                                                                          'charcount']),\n",
       "                                                                        ('tvec',\n",
       "                                                                         TfidfVectorizer(stop_words=['i',\n",
       "                                                                                                     'me',\n",
       "                                                                                                     'my',\n",
       "                                                                                                     'myself',\n",
       "                                                                                                     'we',\n",
       "                                                                                                     'our',\n",
       "                                                                                                     'ours',\n",
       "                                                                                                     'ourselves',\n",
       "                                                                                                     'you',\n",
       "                                                                                                     \"you're\",\n",
       "                                                                                                     \"you've\",\n",
       "                                                                                                     \"you'll\",\n",
       "                                                                                                     \"you'd\",\n",
       "                                                                                                     'your',\n",
       "                                                                                                     'yours',\n",
       "                                                                                                     'yourself',\n",
       "                                                                                                     'yourselves',\n",
       "                                                                                                     'he',\n",
       "                                                                                                     'him',\n",
       "                                                                                                     'his',\n",
       "                                                                                                     'himself',\n",
       "                                                                                                     'she',\n",
       "                                                                                                     \"she's\",\n",
       "                                                                                                     'her',\n",
       "                                                                                                     'hers',\n",
       "                                                                                                     'herself',\n",
       "                                                                                                     'it',\n",
       "                                                                                                     \"it's\",\n",
       "                                                                                                     'its',\n",
       "                                                                                                     'itself', ...]),\n",
       "                                                                         'title')])),\n",
       "                                       ('classifier', LogisticRegression())]),\n",
       "             param_grid={'preprocessor__tvec__max_df': [0.9, 0.95],\n",
       "                         'preprocessor__tvec__max_features': [600, 800, 1000,\n",
       "                                                              1200],\n",
       "                         'preprocessor__tvec__min_df': [2, 3, 4],\n",
       "                         'preprocessor__tvec__ngram_range': [(1, 1), (2, 2)]})"
      ]
     },
     "execution_count": 80,
     "metadata": {},
     "output_type": "execute_result"
    }
   ],
   "source": [
    "#Fit gridsearch to training data\n",
    "tvec_log_gs2.fit(X2_train,y2_train)"
   ]
  },
  {
   "cell_type": "code",
   "execution_count": 81,
   "metadata": {},
   "outputs": [
    {
     "data": {
      "text/plain": [
       "{'preprocessor__tvec__max_df': 0.9,\n",
       " 'preprocessor__tvec__max_features': 1000,\n",
       " 'preprocessor__tvec__min_df': 3,\n",
       " 'preprocessor__tvec__ngram_range': (1, 1)}"
      ]
     },
     "execution_count": 81,
     "metadata": {},
     "output_type": "execute_result"
    }
   ],
   "source": [
    "#Return Best parameters\n",
    "tvec_log_gs2.best_params_"
   ]
  },
  {
   "cell_type": "markdown",
   "metadata": {},
   "source": [
    "### 1.8 Data Set 2 Logistic Regression Model Grid Search Scores TfidfVectorizer"
   ]
  },
  {
   "cell_type": "code",
   "execution_count": 82,
   "metadata": {},
   "outputs": [
    {
     "name": "stdout",
     "output_type": "stream",
     "text": [
      "Best Model Score: 0.8727\n",
      "Training Score: 0.9246\n",
      "Testing Score: 0.8472\n"
     ]
    }
   ],
   "source": [
    "#print scores\n",
    "tvec_log_gs_score2 = print_gs_scores(tvec_log_gs2,X2_train,X2_test,y2_train,y2_test)"
   ]
  },
  {
   "cell_type": "code",
   "execution_count": 83,
   "metadata": {},
   "outputs": [
    {
     "name": "stderr",
     "output_type": "stream",
     "text": [
      "/Users/allenlim/opt/anaconda3/lib/python3.8/site-packages/sklearn/compose/_column_transformer.py:437: FutureWarning: Given feature/column names or counts do not match the ones for the data given during fit. This will fail from v0.24.\n",
      "  warnings.warn(\"Given feature/column names or counts do not match \"\n"
     ]
    }
   ],
   "source": [
    "#calculate preds\n",
    "tvec_log_gs_preds2 = tvec_log_gs.predict(X2_test)"
   ]
  },
  {
   "cell_type": "markdown",
   "metadata": {},
   "source": [
    "### 1.8 Data Set 2 Logistic Regression Model Grid Search Accuracy Scores TfidfVectorizer"
   ]
  },
  {
   "cell_type": "code",
   "execution_count": 84,
   "metadata": {},
   "outputs": [
    {
     "name": "stdout",
     "output_type": "stream",
     "text": [
      "True Negatives: 420\n",
      "False Positives: 50\n",
      "False Negatives: 78\n",
      "True Positives: 368\n",
      "-----------------------\n",
      "Accuracy: 0.86\n",
      "Sensitivity: 0.825\n",
      "Specificity: 0.894\n",
      "Precision: 0.88\n",
      "\n",
      "F1 score: 0.8519\n",
      "ROC AUC score: 0.8594\n"
     ]
    },
    {
     "data": {
      "text/plain": [
       "<sklearn.metrics._plot.confusion_matrix.ConfusionMatrixDisplay at 0x7fb198c4f2e0>"
      ]
     },
     "execution_count": 84,
     "metadata": {},
     "output_type": "execute_result"
    },
    {
     "data": {
      "image/png": "[encoded data removed]",
      "text/plain": [
       "<Figure size 432x288 with 2 Axes>"
      ]
     },
     "metadata": {
      "needs_background": "light"
     },
     "output_type": "display_data"
    }
   ],
   "source": [
    "#Print Accuracy Scores for log grid search\n",
    "tvec_log_gs_acc_score2 = print_acc_scores(y_test,tvec_log_gs_preds2)\n",
    "#visualize confusion matrix\n",
    "plot_confusion_matrix(tvec_log_gs2,X2_test,y2_test, cmap = 'Blues', values_format ='d')"
   ]
  },
  {
   "cell_type": "code",
   "execution_count": 85,
   "metadata": {},
   "outputs": [],
   "source": [
    "#add accuracy scores to scores list\n",
    "tvec_log_gs_score2.extend(tvec_log_gs_acc_score2)"
   ]
  },
  {
   "cell_type": "code",
   "execution_count": 86,
   "metadata": {},
   "outputs": [],
   "source": [
    "#add scores to data frame\n",
    "scores_df['tvec_log_gs2'] = tvec_log_gs_score2"
   ]
  },
  {
   "cell_type": "markdown",
   "metadata": {},
   "source": [
    "Our Grid search model for logistic regression where tfidvectorizer is used as a transformer returns a lower test score than if CountVectorizer is used. Also using GridSearch on tfidvectorizer returns a higher training score but lower test score. The number of false negatives in the gridsearch version also increase. Thus, this model may not be the most favorable. Next we shall use the Naive Bayes model and examine the results"
   ]
  },
  {
   "cell_type": "markdown",
   "metadata": {},
   "source": [
    "## Naive Bayes Model"
   ]
  },
  {
   "cell_type": "markdown",
   "metadata": {},
   "source": [
    "## Setting Up Pipelines for Naive Bayes Model"
   ]
  },
  {
   "cell_type": "code",
   "execution_count": 87,
   "metadata": {},
   "outputs": [],
   "source": [
    "#tvec naive bayes pipeline fo gridsearch\n",
    "tvec_nb_pipe_grid = Pipeline(steps =[\n",
    "    ('preprocessor', tvec_preprocessor),\n",
    "    ('nb', MultinomialNB())\n",
    "])"
   ]
  },
  {
   "cell_type": "code",
   "execution_count": 88,
   "metadata": {},
   "outputs": [],
   "source": [
    "#naive bayes pipeline for grid search\n",
    "nb_pipe_grid = Pipeline(steps =[\n",
    "    ('preprocessor', preprocessor),\n",
    "    ('nb', MultinomialNB())\n",
    "])"
   ]
  },
  {
   "cell_type": "code",
   "execution_count": 89,
   "metadata": {},
   "outputs": [],
   "source": [
    "#tvec NB pipeline for dataset\n",
    "tvec_nb_pipe = Pipeline(steps =[\n",
    "    ('preprocessor', tvec_preprocessor),\n",
    "    ('nb', MultinomialNB())\n",
    "])"
   ]
  },
  {
   "cell_type": "code",
   "execution_count": 90,
   "metadata": {},
   "outputs": [],
   "source": [
    "#NB pipeline for dataset\n",
    "nb_pipe = Pipeline(steps =[\n",
    "    ('preprocessor', preprocessor),\n",
    "    ('nb', MultinomialNB())\n",
    "])"
   ]
  },
  {
   "cell_type": "markdown",
   "metadata": {},
   "source": [
    "### 2.1 Standard Naive Bayes Model CountVectorizer"
   ]
  },
  {
   "cell_type": "code",
   "execution_count": 91,
   "metadata": {},
   "outputs": [],
   "source": [
    "#instantiate model\n",
    "nb = GridSearchCV(nb_pipe, param_grid = standard, cv =10)"
   ]
  },
  {
   "cell_type": "code",
   "execution_count": 92,
   "metadata": {},
   "outputs": [
    {
     "data": {
      "text/html": [
       "<style>div.sk-top-container {color: black;background-color: white;}div.sk-toggleable {background-color: white;}label.sk-toggleable__label {cursor: pointer;display: block;width: 100%;margin-bottom: 0;padding: 0.2em 0.3em;box-sizing: border-box;text-align: center;}div.sk-toggleable__content {max-height: 0;max-width: 0;overflow: hidden;text-align: left;background-color: #f0f8ff;}div.sk-toggleable__content pre {margin: 0.2em;color: black;border-radius: 0.25em;background-color: #f0f8ff;}input.sk-toggleable__control:checked~div.sk-toggleable__content {max-height: 200px;max-width: 100%;overflow: auto;}div.sk-estimator input.sk-toggleable__control:checked~label.sk-toggleable__label {background-color: #d4ebff;}div.sk-label input.sk-toggleable__control:checked~label.sk-toggleable__label {background-color: #d4ebff;}input.sk-hidden--visually {border: 0;clip: rect(1px 1px 1px 1px);clip: rect(1px, 1px, 1px, 1px);height: 1px;margin: -1px;overflow: hidden;padding: 0;position: absolute;width: 1px;}div.sk-estimator {font-family: monospace;background-color: #f0f8ff;margin: 0.25em 0.25em;border: 1px dotted black;border-radius: 0.25em;box-sizing: border-box;}div.sk-estimator:hover {background-color: #d4ebff;}div.sk-parallel-item::after {content: \"\";width: 100%;border-bottom: 1px solid gray;flex-grow: 1;}div.sk-label:hover label.sk-toggleable__label {background-color: #d4ebff;}div.sk-serial::before {content: \"\";position: absolute;border-left: 1px solid gray;box-sizing: border-box;top: 2em;bottom: 0;left: 50%;}div.sk-serial {display: flex;flex-direction: column;align-items: center;background-color: white;}div.sk-item {z-index: 1;}div.sk-parallel {display: flex;align-items: stretch;justify-content: center;background-color: white;}div.sk-parallel-item {display: flex;flex-direction: column;position: relative;background-color: white;}div.sk-parallel-item:first-child::after {align-self: flex-end;width: 50%;}div.sk-parallel-item:last-child::after {align-self: flex-start;width: 50%;}div.sk-parallel-item:only-child::after {width: 0;}div.sk-dashed-wrapped {border: 1px dashed gray;margin: 0.2em;box-sizing: border-box;padding-bottom: 0.1em;background-color: white;position: relative;}div.sk-label label {font-family: monospace;font-weight: bold;background-color: white;display: inline-block;line-height: 1.2em;}div.sk-label-container {position: relative;z-index: 2;text-align: center;}div.sk-container {display: inline-block;position: relative;}</style><div class=\"sk-top-container\"><div class=\"sk-container\"><div class=\"sk-item sk-dashed-wrapped\"><div class=\"sk-label-container\"><div class=\"sk-label sk-toggleable\"><input class=\"sk-toggleable__control sk-hidden--visually\" id=\"e070574c-15a3-4eb2-a296-01cfd39fd25a\" type=\"checkbox\" ><label class=\"sk-toggleable__label\" for=\"e070574c-15a3-4eb2-a296-01cfd39fd25a\">GridSearchCV</label><div class=\"sk-toggleable__content\"><pre>GridSearchCV(cv=10,\n",
       "             estimator=Pipeline(steps=[('preprocessor',\n",
       "                                        ColumnTransformer(transformers=[('cvec',\n",
       "                                                                         CountVectorizer(stop_words=['i',\n",
       "                                                                                                     'me',\n",
       "                                                                                                     'my',\n",
       "                                                                                                     'myself',\n",
       "                                                                                                     'we',\n",
       "                                                                                                     'our',\n",
       "                                                                                                     'ours',\n",
       "                                                                                                     'ourselves',\n",
       "                                                                                                     'you',\n",
       "                                                                                                     \"you're\",\n",
       "                                                                                                     \"you've\",\n",
       "                                                                                                     \"you'll\",\n",
       "                                                                                                     \"you'd\",\n",
       "                                                                                                     'your',\n",
       "                                                                                                     'yours',\n",
       "                                                                                                     'yourself',\n",
       "                                                                                                     'yourselves',\n",
       "                                                                                                     'he',\n",
       "                                                                                                     'him',\n",
       "                                                                                                     'his',\n",
       "                                                                                                     'himself',\n",
       "                                                                                                     'she',\n",
       "                                                                                                     \"she's\",\n",
       "                                                                                                     'her',\n",
       "                                                                                                     'hers',\n",
       "                                                                                                     'herself',\n",
       "                                                                                                     'it',\n",
       "                                                                                                     \"it's\",\n",
       "                                                                                                     'its',\n",
       "                                                                                                     'itself', ...]),\n",
       "                                                                         'title')])),\n",
       "                                       ('nb', MultinomialNB())]),\n",
       "             param_grid={'preprocessor__cvec__max_df': [0.95],\n",
       "                         'preprocessor__cvec__max_features': [800],\n",
       "                         'preprocessor__cvec__min_df': [2],\n",
       "                         'preprocessor__cvec__ngram_range': [(1, 1)]})</pre></div></div></div><div class=\"sk-parallel\"><div class=\"sk-parallel-item\"><div class=\"sk-item\"><div class=\"sk-serial\"><div class=\"sk-item\"><div class=\"sk-serial\"><div class=\"sk-item sk-dashed-wrapped\"><div class=\"sk-label-container\"><div class=\"sk-label sk-toggleable\"><input class=\"sk-toggleable__control sk-hidden--visually\" id=\"e747895e-d58f-4358-8e8a-6d511312f4b2\" type=\"checkbox\" ><label class=\"sk-toggleable__label\" for=\"e747895e-d58f-4358-8e8a-6d511312f4b2\">preprocessor: ColumnTransformer</label><div class=\"sk-toggleable__content\"><pre>ColumnTransformer(transformers=[('cvec',\n",
       "                                 CountVectorizer(stop_words=['i', 'me', 'my',\n",
       "                                                             'myself', 'we',\n",
       "                                                             'our', 'ours',\n",
       "                                                             'ourselves', 'you',\n",
       "                                                             \"you're\", \"you've\",\n",
       "                                                             \"you'll\", \"you'd\",\n",
       "                                                             'your', 'yours',\n",
       "                                                             'yourself',\n",
       "                                                             'yourselves', 'he',\n",
       "                                                             'him', 'his',\n",
       "                                                             'himself', 'she',\n",
       "                                                             \"she's\", 'her',\n",
       "                                                             'hers', 'herself',\n",
       "                                                             'it', \"it's\",\n",
       "                                                             'its', 'itself', ...]),\n",
       "                                 'title')])</pre></div></div></div><div class=\"sk-parallel\"><div class=\"sk-parallel-item\"><div class=\"sk-item\"><div class=\"sk-label-container\"><div class=\"sk-label sk-toggleable\"><input class=\"sk-toggleable__control sk-hidden--visually\" id=\"c9adb314-db8e-43d0-af12-f7a44ae6b6d0\" type=\"checkbox\" ><label class=\"sk-toggleable__label\" for=\"c9adb314-db8e-43d0-af12-f7a44ae6b6d0\">cvec</label><div class=\"sk-toggleable__content\"><pre>title</pre></div></div></div><div class=\"sk-serial\"><div class=\"sk-item\"><div class=\"sk-estimator sk-toggleable\"><input class=\"sk-toggleable__control sk-hidden--visually\" id=\"85f575e6-0023-4575-a621-4f78adeb6f9d\" type=\"checkbox\" ><label class=\"sk-toggleable__label\" for=\"85f575e6-0023-4575-a621-4f78adeb6f9d\">CountVectorizer</label><div class=\"sk-toggleable__content\"><pre>CountVectorizer(stop_words=['i', 'me', 'my', 'myself', 'we', 'our', 'ours',\n",
       "                            'ourselves', 'you', \"you're\", \"you've\", \"you'll\",\n",
       "                            \"you'd\", 'your', 'yours', 'yourself', 'yourselves',\n",
       "                            'he', 'him', 'his', 'himself', 'she', \"she's\",\n",
       "                            'her', 'hers', 'herself', 'it', \"it's\", 'its',\n",
       "                            'itself', ...])</pre></div></div></div></div></div></div></div></div><div class=\"sk-item\"><div class=\"sk-estimator sk-toggleable\"><input class=\"sk-toggleable__control sk-hidden--visually\" id=\"a606838f-f0ab-407d-b557-d2fac2402f84\" type=\"checkbox\" ><label class=\"sk-toggleable__label\" for=\"a606838f-f0ab-407d-b557-d2fac2402f84\">MultinomialNB</label><div class=\"sk-toggleable__content\"><pre>MultinomialNB()</pre></div></div></div></div></div></div></div></div></div></div></div></div>"
      ],
      "text/plain": [
       "GridSearchCV(cv=10,\n",
       "             estimator=Pipeline(steps=[('preprocessor',\n",
       "                                        ColumnTransformer(transformers=[('cvec',\n",
       "                                                                         CountVectorizer(stop_words=['i',\n",
       "                                                                                                     'me',\n",
       "                                                                                                     'my',\n",
       "                                                                                                     'myself',\n",
       "                                                                                                     'we',\n",
       "                                                                                                     'our',\n",
       "                                                                                                     'ours',\n",
       "                                                                                                     'ourselves',\n",
       "                                                                                                     'you',\n",
       "                                                                                                     \"you're\",\n",
       "                                                                                                     \"you've\",\n",
       "                                                                                                     \"you'll\",\n",
       "                                                                                                     \"you'd\",\n",
       "                                                                                                     'your',\n",
       "                                                                                                     'yours',\n",
       "                                                                                                     'yourself',\n",
       "                                                                                                     'yourselves',\n",
       "                                                                                                     'he',\n",
       "                                                                                                     'him',\n",
       "                                                                                                     'his',\n",
       "                                                                                                     'himself',\n",
       "                                                                                                     'she',\n",
       "                                                                                                     \"she's\",\n",
       "                                                                                                     'her',\n",
       "                                                                                                     'hers',\n",
       "                                                                                                     'herself',\n",
       "                                                                                                     'it',\n",
       "                                                                                                     \"it's\",\n",
       "                                                                                                     'its',\n",
       "                                                                                                     'itself', ...]),\n",
       "                                                                         'title')])),\n",
       "                                       ('nb', MultinomialNB())]),\n",
       "             param_grid={'preprocessor__cvec__max_df': [0.95],\n",
       "                         'preprocessor__cvec__max_features': [800],\n",
       "                         'preprocessor__cvec__min_df': [2],\n",
       "                         'preprocessor__cvec__ngram_range': [(1, 1)]})"
      ]
     },
     "execution_count": 92,
     "metadata": {},
     "output_type": "execute_result"
    }
   ],
   "source": [
    "#fit model\n",
    "nb.fit(X_train,y_train)"
   ]
  },
  {
   "cell_type": "code",
   "execution_count": 93,
   "metadata": {},
   "outputs": [
    {
     "name": "stdout",
     "output_type": "stream",
     "text": [
      "Cross Validation Score: 0.865379941702264\n"
     ]
    }
   ],
   "source": [
    "#print cv score\n",
    "print(f'Cross Validation Score: {cross_val_score(nb, X_train,y_train, cv =5).mean()}')"
   ]
  },
  {
   "cell_type": "markdown",
   "metadata": {},
   "source": [
    "### 2.1 Standard Naive Bayes Model Score CountVectorizer"
   ]
  },
  {
   "cell_type": "code",
   "execution_count": 94,
   "metadata": {},
   "outputs": [
    {
     "name": "stdout",
     "output_type": "stream",
     "text": [
      "Best Model Score: 0.8654\n",
      "Training Score: 0.8965\n",
      "Testing Score: 0.8428\n"
     ]
    }
   ],
   "source": [
    "#print scores\n",
    "nb_scores = print_gs_scores(nb,X_train,X_test,y_train,y_test)"
   ]
  },
  {
   "cell_type": "markdown",
   "metadata": {},
   "source": [
    "### 2.1 Standard Naive Bayes Model Accuracy Score CountVectorizer"
   ]
  },
  {
   "cell_type": "code",
   "execution_count": 95,
   "metadata": {},
   "outputs": [],
   "source": [
    "#calculate preds\n",
    "nb_preds = nb.predict(X_test)"
   ]
  },
  {
   "cell_type": "code",
   "execution_count": 96,
   "metadata": {},
   "outputs": [
    {
     "name": "stdout",
     "output_type": "stream",
     "text": [
      "True Negatives: 395\n",
      "False Positives: 75\n",
      "False Negatives: 69\n",
      "True Positives: 377\n",
      "-----------------------\n",
      "Accuracy: 0.843\n",
      "Sensitivity: 0.845\n",
      "Specificity: 0.84\n",
      "Precision: 0.834\n",
      "\n",
      "F1 score: 0.8396\n",
      "ROC AUC score: 0.8429\n"
     ]
    },
    {
     "data": {
      "text/plain": [
       "<sklearn.metrics._plot.confusion_matrix.ConfusionMatrixDisplay at 0x7fb197bf99d0>"
      ]
     },
     "execution_count": 96,
     "metadata": {},
     "output_type": "execute_result"
    },
    {
     "data": {
      "image/png": "[encoded data removed]",
      "text/plain": [
       "<Figure size 432x288 with 2 Axes>"
      ]
     },
     "metadata": {
      "needs_background": "light"
     },
     "output_type": "display_data"
    }
   ],
   "source": [
    "#print accuracy scores\n",
    "nb_acc_scores = print_acc_scores(y_test,nb_preds)\n",
    "#visualize confusion matrix\n",
    "plot_confusion_matrix(nb,X_test,y_test, cmap = 'Blues', values_format ='d')"
   ]
  },
  {
   "cell_type": "code",
   "execution_count": 97,
   "metadata": {},
   "outputs": [],
   "source": [
    "#add accuracy scores to scores list\n",
    "nb_scores.extend(nb_acc_scores)"
   ]
  },
  {
   "cell_type": "code",
   "execution_count": 98,
   "metadata": {},
   "outputs": [],
   "source": [
    "#add scores to dataframe\n",
    "scores_df['nb'] = nb_scores"
   ]
  },
  {
   "cell_type": "markdown",
   "metadata": {},
   "source": [
    "### 2.2 Standard Naive Bayes Model Score TfidfVectorizer"
   ]
  },
  {
   "cell_type": "code",
   "execution_count": 99,
   "metadata": {},
   "outputs": [],
   "source": [
    "#instantiate model\n",
    "tvec_nb = GridSearchCV(tvec_nb_pipe, param_grid = tvec_standard, cv =10)"
   ]
  },
  {
   "cell_type": "code",
   "execution_count": 100,
   "metadata": {},
   "outputs": [
    {
     "data": {
      "text/html": [
       "<style>div.sk-top-container {color: black;background-color: white;}div.sk-toggleable {background-color: white;}label.sk-toggleable__label {cursor: pointer;display: block;width: 100%;margin-bottom: 0;padding: 0.2em 0.3em;box-sizing: border-box;text-align: center;}div.sk-toggleable__content {max-height: 0;max-width: 0;overflow: hidden;text-align: left;background-color: #f0f8ff;}div.sk-toggleable__content pre {margin: 0.2em;color: black;border-radius: 0.25em;background-color: #f0f8ff;}input.sk-toggleable__control:checked~div.sk-toggleable__content {max-height: 200px;max-width: 100%;overflow: auto;}div.sk-estimator input.sk-toggleable__control:checked~label.sk-toggleable__label {background-color: #d4ebff;}div.sk-label input.sk-toggleable__control:checked~label.sk-toggleable__label {background-color: #d4ebff;}input.sk-hidden--visually {border: 0;clip: rect(1px 1px 1px 1px);clip: rect(1px, 1px, 1px, 1px);height: 1px;margin: -1px;overflow: hidden;padding: 0;position: absolute;width: 1px;}div.sk-estimator {font-family: monospace;background-color: #f0f8ff;margin: 0.25em 0.25em;border: 1px dotted black;border-radius: 0.25em;box-sizing: border-box;}div.sk-estimator:hover {background-color: #d4ebff;}div.sk-parallel-item::after {content: \"\";width: 100%;border-bottom: 1px solid gray;flex-grow: 1;}div.sk-label:hover label.sk-toggleable__label {background-color: #d4ebff;}div.sk-serial::before {content: \"\";position: absolute;border-left: 1px solid gray;box-sizing: border-box;top: 2em;bottom: 0;left: 50%;}div.sk-serial {display: flex;flex-direction: column;align-items: center;background-color: white;}div.sk-item {z-index: 1;}div.sk-parallel {display: flex;align-items: stretch;justify-content: center;background-color: white;}div.sk-parallel-item {display: flex;flex-direction: column;position: relative;background-color: white;}div.sk-parallel-item:first-child::after {align-self: flex-end;width: 50%;}div.sk-parallel-item:last-child::after {align-self: flex-start;width: 50%;}div.sk-parallel-item:only-child::after {width: 0;}div.sk-dashed-wrapped {border: 1px dashed gray;margin: 0.2em;box-sizing: border-box;padding-bottom: 0.1em;background-color: white;position: relative;}div.sk-label label {font-family: monospace;font-weight: bold;background-color: white;display: inline-block;line-height: 1.2em;}div.sk-label-container {position: relative;z-index: 2;text-align: center;}div.sk-container {display: inline-block;position: relative;}</style><div class=\"sk-top-container\"><div class=\"sk-container\"><div class=\"sk-item sk-dashed-wrapped\"><div class=\"sk-label-container\"><div class=\"sk-label sk-toggleable\"><input class=\"sk-toggleable__control sk-hidden--visually\" id=\"5b6bb515-aa2c-4ac2-a5e7-486b5bd95a84\" type=\"checkbox\" ><label class=\"sk-toggleable__label\" for=\"5b6bb515-aa2c-4ac2-a5e7-486b5bd95a84\">GridSearchCV</label><div class=\"sk-toggleable__content\"><pre>GridSearchCV(cv=10,\n",
       "             estimator=Pipeline(steps=[('preprocessor',\n",
       "                                        ColumnTransformer(transformers=[('tvec',\n",
       "                                                                         TfidfVectorizer(stop_words=['i',\n",
       "                                                                                                     'me',\n",
       "                                                                                                     'my',\n",
       "                                                                                                     'myself',\n",
       "                                                                                                     'we',\n",
       "                                                                                                     'our',\n",
       "                                                                                                     'ours',\n",
       "                                                                                                     'ourselves',\n",
       "                                                                                                     'you',\n",
       "                                                                                                     \"you're\",\n",
       "                                                                                                     \"you've\",\n",
       "                                                                                                     \"you'll\",\n",
       "                                                                                                     \"you'd\",\n",
       "                                                                                                     'your',\n",
       "                                                                                                     'yours',\n",
       "                                                                                                     'yourself',\n",
       "                                                                                                     'yourselves',\n",
       "                                                                                                     'he',\n",
       "                                                                                                     'him',\n",
       "                                                                                                     'his',\n",
       "                                                                                                     'himself',\n",
       "                                                                                                     'she',\n",
       "                                                                                                     \"she's\",\n",
       "                                                                                                     'her',\n",
       "                                                                                                     'hers',\n",
       "                                                                                                     'herself',\n",
       "                                                                                                     'it',\n",
       "                                                                                                     \"it's\",\n",
       "                                                                                                     'its',\n",
       "                                                                                                     'itself', ...]),\n",
       "                                                                         'title')])),\n",
       "                                       ('nb', MultinomialNB())]),\n",
       "             param_grid={'preprocessor__tvec__max_df': [0.95],\n",
       "                         'preprocessor__tvec__max_features': [800],\n",
       "                         'preprocessor__tvec__min_df': [2],\n",
       "                         'preprocessor__tvec__ngram_range': [(1, 1)]})</pre></div></div></div><div class=\"sk-parallel\"><div class=\"sk-parallel-item\"><div class=\"sk-item\"><div class=\"sk-serial\"><div class=\"sk-item\"><div class=\"sk-serial\"><div class=\"sk-item sk-dashed-wrapped\"><div class=\"sk-label-container\"><div class=\"sk-label sk-toggleable\"><input class=\"sk-toggleable__control sk-hidden--visually\" id=\"579224c0-0a69-4504-8d5a-1bb3da4e2928\" type=\"checkbox\" ><label class=\"sk-toggleable__label\" for=\"579224c0-0a69-4504-8d5a-1bb3da4e2928\">preprocessor: ColumnTransformer</label><div class=\"sk-toggleable__content\"><pre>ColumnTransformer(transformers=[('tvec',\n",
       "                                 TfidfVectorizer(stop_words=['i', 'me', 'my',\n",
       "                                                             'myself', 'we',\n",
       "                                                             'our', 'ours',\n",
       "                                                             'ourselves', 'you',\n",
       "                                                             \"you're\", \"you've\",\n",
       "                                                             \"you'll\", \"you'd\",\n",
       "                                                             'your', 'yours',\n",
       "                                                             'yourself',\n",
       "                                                             'yourselves', 'he',\n",
       "                                                             'him', 'his',\n",
       "                                                             'himself', 'she',\n",
       "                                                             \"she's\", 'her',\n",
       "                                                             'hers', 'herself',\n",
       "                                                             'it', \"it's\",\n",
       "                                                             'its', 'itself', ...]),\n",
       "                                 'title')])</pre></div></div></div><div class=\"sk-parallel\"><div class=\"sk-parallel-item\"><div class=\"sk-item\"><div class=\"sk-label-container\"><div class=\"sk-label sk-toggleable\"><input class=\"sk-toggleable__control sk-hidden--visually\" id=\"c644ade9-5431-4d8f-9aad-eb68a16631a3\" type=\"checkbox\" ><label class=\"sk-toggleable__label\" for=\"c644ade9-5431-4d8f-9aad-eb68a16631a3\">tvec</label><div class=\"sk-toggleable__content\"><pre>title</pre></div></div></div><div class=\"sk-serial\"><div class=\"sk-item\"><div class=\"sk-estimator sk-toggleable\"><input class=\"sk-toggleable__control sk-hidden--visually\" id=\"44653df2-6364-4f8f-88e7-8500c8741e2d\" type=\"checkbox\" ><label class=\"sk-toggleable__label\" for=\"44653df2-6364-4f8f-88e7-8500c8741e2d\">TfidfVectorizer</label><div class=\"sk-toggleable__content\"><pre>TfidfVectorizer(stop_words=['i', 'me', 'my', 'myself', 'we', 'our', 'ours',\n",
       "                            'ourselves', 'you', \"you're\", \"you've\", \"you'll\",\n",
       "                            \"you'd\", 'your', 'yours', 'yourself', 'yourselves',\n",
       "                            'he', 'him', 'his', 'himself', 'she', \"she's\",\n",
       "                            'her', 'hers', 'herself', 'it', \"it's\", 'its',\n",
       "                            'itself', ...])</pre></div></div></div></div></div></div></div></div><div class=\"sk-item\"><div class=\"sk-estimator sk-toggleable\"><input class=\"sk-toggleable__control sk-hidden--visually\" id=\"f595d613-174a-4d6b-99fd-8fa31569ce64\" type=\"checkbox\" ><label class=\"sk-toggleable__label\" for=\"f595d613-174a-4d6b-99fd-8fa31569ce64\">MultinomialNB</label><div class=\"sk-toggleable__content\"><pre>MultinomialNB()</pre></div></div></div></div></div></div></div></div></div></div></div></div>"
      ],
      "text/plain": [
       "GridSearchCV(cv=10,\n",
       "             estimator=Pipeline(steps=[('preprocessor',\n",
       "                                        ColumnTransformer(transformers=[('tvec',\n",
       "                                                                         TfidfVectorizer(stop_words=['i',\n",
       "                                                                                                     'me',\n",
       "                                                                                                     'my',\n",
       "                                                                                                     'myself',\n",
       "                                                                                                     'we',\n",
       "                                                                                                     'our',\n",
       "                                                                                                     'ours',\n",
       "                                                                                                     'ourselves',\n",
       "                                                                                                     'you',\n",
       "                                                                                                     \"you're\",\n",
       "                                                                                                     \"you've\",\n",
       "                                                                                                     \"you'll\",\n",
       "                                                                                                     \"you'd\",\n",
       "                                                                                                     'your',\n",
       "                                                                                                     'yours',\n",
       "                                                                                                     'yourself',\n",
       "                                                                                                     'yourselves',\n",
       "                                                                                                     'he',\n",
       "                                                                                                     'him',\n",
       "                                                                                                     'his',\n",
       "                                                                                                     'himself',\n",
       "                                                                                                     'she',\n",
       "                                                                                                     \"she's\",\n",
       "                                                                                                     'her',\n",
       "                                                                                                     'hers',\n",
       "                                                                                                     'herself',\n",
       "                                                                                                     'it',\n",
       "                                                                                                     \"it's\",\n",
       "                                                                                                     'its',\n",
       "                                                                                                     'itself', ...]),\n",
       "                                                                         'title')])),\n",
       "                                       ('nb', MultinomialNB())]),\n",
       "             param_grid={'preprocessor__tvec__max_df': [0.95],\n",
       "                         'preprocessor__tvec__max_features': [800],\n",
       "                         'preprocessor__tvec__min_df': [2],\n",
       "                         'preprocessor__tvec__ngram_range': [(1, 1)]})"
      ]
     },
     "execution_count": 100,
     "metadata": {},
     "output_type": "execute_result"
    }
   ],
   "source": [
    "#fit model\n",
    "tvec_nb.fit(X_train,y_train)"
   ]
  },
  {
   "cell_type": "code",
   "execution_count": 101,
   "metadata": {},
   "outputs": [
    {
     "name": "stdout",
     "output_type": "stream",
     "text": [
      "Cross Validation Score: 0.8610105934888438\n"
     ]
    }
   ],
   "source": [
    "#calculate cv-score\n",
    "print(f'Cross Validation Score: {cross_val_score(tvec_nb, X_train,y_train, cv =5).mean()}')"
   ]
  },
  {
   "cell_type": "markdown",
   "metadata": {},
   "source": [
    "### 2.2 Standard Naive Bayes Model Accuracy Score TfidfVectorizer"
   ]
  },
  {
   "cell_type": "code",
   "execution_count": 102,
   "metadata": {},
   "outputs": [
    {
     "name": "stdout",
     "output_type": "stream",
     "text": [
      "Best Model Score: 0.8616\n",
      "Training Score: 0.8962\n",
      "Testing Score: 0.8472\n"
     ]
    }
   ],
   "source": [
    "#print scores\n",
    "tvec_nb_scores = print_gs_scores(tvec_nb,X_train,X_test,y_train,y_test)"
   ]
  },
  {
   "cell_type": "code",
   "execution_count": 103,
   "metadata": {},
   "outputs": [],
   "source": [
    "#calculate preds\n",
    "tvec_nb_preds = tvec_nb.predict(X_test)"
   ]
  },
  {
   "cell_type": "markdown",
   "metadata": {},
   "source": [
    "### 2.2 Standard Naive Bayes Model Scores TfidfVectorizer"
   ]
  },
  {
   "cell_type": "code",
   "execution_count": 104,
   "metadata": {},
   "outputs": [
    {
     "name": "stdout",
     "output_type": "stream",
     "text": [
      "True Negatives: 400\n",
      "False Positives: 70\n",
      "False Negatives: 70\n",
      "True Positives: 376\n",
      "-----------------------\n",
      "Accuracy: 0.847\n",
      "Sensitivity: 0.843\n",
      "Specificity: 0.851\n",
      "Precision: 0.843\n",
      "\n",
      "F1 score: 0.843\n",
      "ROC AUC score: 0.8471\n"
     ]
    },
    {
     "data": {
      "text/plain": [
       "<sklearn.metrics._plot.confusion_matrix.ConfusionMatrixDisplay at 0x7fb19876a580>"
      ]
     },
     "execution_count": 104,
     "metadata": {},
     "output_type": "execute_result"
    },
    {
     "data": {
      "image/png": "[encoded data removed]",
      "text/plain": [
       "<Figure size 432x288 with 2 Axes>"
      ]
     },
     "metadata": {
      "needs_background": "light"
     },
     "output_type": "display_data"
    }
   ],
   "source": [
    "tvec_nb_acc_scores = print_acc_scores(y_test,tvec_nb_preds)\n",
    "#visualize confusion matrix\n",
    "plot_confusion_matrix(tvec_nb,X_test,y_test, cmap = 'Blues', values_format ='d')"
   ]
  },
  {
   "cell_type": "code",
   "execution_count": 105,
   "metadata": {},
   "outputs": [],
   "source": [
    "tvec_nb_scores.extend(tvec_nb_acc_scores)\n",
    "scores_df['tvec_nb'] = tvec_nb_scores"
   ]
  },
  {
   "cell_type": "markdown",
   "metadata": {},
   "source": [
    "For our standard naive bayes model, using the CountVectorizer transformation returned better results in terms of specificty and false positives. However, the numnbers are worse compared to the logisitc regression model."
   ]
  },
  {
   "cell_type": "markdown",
   "metadata": {},
   "source": [
    "### 2.3 Naive Bayes Model Grid Search Model CountVectorizer"
   ]
  },
  {
   "cell_type": "code",
   "execution_count": 106,
   "metadata": {},
   "outputs": [],
   "source": [
    "nb_gs = GridSearchCV(nb_pipe_grid, param_grid = param_grid, cv =10)"
   ]
  },
  {
   "cell_type": "code",
   "execution_count": 107,
   "metadata": {},
   "outputs": [
    {
     "data": {
      "text/html": [
       "<style>div.sk-top-container {color: black;background-color: white;}div.sk-toggleable {background-color: white;}label.sk-toggleable__label {cursor: pointer;display: block;width: 100%;margin-bottom: 0;padding: 0.2em 0.3em;box-sizing: border-box;text-align: center;}div.sk-toggleable__content {max-height: 0;max-width: 0;overflow: hidden;text-align: left;background-color: #f0f8ff;}div.sk-toggleable__content pre {margin: 0.2em;color: black;border-radius: 0.25em;background-color: #f0f8ff;}input.sk-toggleable__control:checked~div.sk-toggleable__content {max-height: 200px;max-width: 100%;overflow: auto;}div.sk-estimator input.sk-toggleable__control:checked~label.sk-toggleable__label {background-color: #d4ebff;}div.sk-label input.sk-toggleable__control:checked~label.sk-toggleable__label {background-color: #d4ebff;}input.sk-hidden--visually {border: 0;clip: rect(1px 1px 1px 1px);clip: rect(1px, 1px, 1px, 1px);height: 1px;margin: -1px;overflow: hidden;padding: 0;position: absolute;width: 1px;}div.sk-estimator {font-family: monospace;background-color: #f0f8ff;margin: 0.25em 0.25em;border: 1px dotted black;border-radius: 0.25em;box-sizing: border-box;}div.sk-estimator:hover {background-color: #d4ebff;}div.sk-parallel-item::after {content: \"\";width: 100%;border-bottom: 1px solid gray;flex-grow: 1;}div.sk-label:hover label.sk-toggleable__label {background-color: #d4ebff;}div.sk-serial::before {content: \"\";position: absolute;border-left: 1px solid gray;box-sizing: border-box;top: 2em;bottom: 0;left: 50%;}div.sk-serial {display: flex;flex-direction: column;align-items: center;background-color: white;}div.sk-item {z-index: 1;}div.sk-parallel {display: flex;align-items: stretch;justify-content: center;background-color: white;}div.sk-parallel-item {display: flex;flex-direction: column;position: relative;background-color: white;}div.sk-parallel-item:first-child::after {align-self: flex-end;width: 50%;}div.sk-parallel-item:last-child::after {align-self: flex-start;width: 50%;}div.sk-parallel-item:only-child::after {width: 0;}div.sk-dashed-wrapped {border: 1px dashed gray;margin: 0.2em;box-sizing: border-box;padding-bottom: 0.1em;background-color: white;position: relative;}div.sk-label label {font-family: monospace;font-weight: bold;background-color: white;display: inline-block;line-height: 1.2em;}div.sk-label-container {position: relative;z-index: 2;text-align: center;}div.sk-container {display: inline-block;position: relative;}</style><div class=\"sk-top-container\"><div class=\"sk-container\"><div class=\"sk-item sk-dashed-wrapped\"><div class=\"sk-label-container\"><div class=\"sk-label sk-toggleable\"><input class=\"sk-toggleable__control sk-hidden--visually\" id=\"769eb435-f770-4737-ba34-99d949e4f560\" type=\"checkbox\" ><label class=\"sk-toggleable__label\" for=\"769eb435-f770-4737-ba34-99d949e4f560\">GridSearchCV</label><div class=\"sk-toggleable__content\"><pre>GridSearchCV(cv=10,\n",
       "             estimator=Pipeline(steps=[('preprocessor',\n",
       "                                        ColumnTransformer(transformers=[('cvec',\n",
       "                                                                         CountVectorizer(stop_words=['i',\n",
       "                                                                                                     'me',\n",
       "                                                                                                     'my',\n",
       "                                                                                                     'myself',\n",
       "                                                                                                     'we',\n",
       "                                                                                                     'our',\n",
       "                                                                                                     'ours',\n",
       "                                                                                                     'ourselves',\n",
       "                                                                                                     'you',\n",
       "                                                                                                     \"you're\",\n",
       "                                                                                                     \"you've\",\n",
       "                                                                                                     \"you'll\",\n",
       "                                                                                                     \"you'd\",\n",
       "                                                                                                     'your',\n",
       "                                                                                                     'yours',\n",
       "                                                                                                     'yourself',\n",
       "                                                                                                     'yourselves',\n",
       "                                                                                                     'he',\n",
       "                                                                                                     'him',\n",
       "                                                                                                     'his',\n",
       "                                                                                                     'himself',\n",
       "                                                                                                     'she',\n",
       "                                                                                                     \"she's\",\n",
       "                                                                                                     'her',\n",
       "                                                                                                     'hers',\n",
       "                                                                                                     'herself',\n",
       "                                                                                                     'it',\n",
       "                                                                                                     \"it's\",\n",
       "                                                                                                     'its',\n",
       "                                                                                                     'itself', ...]),\n",
       "                                                                         'title')])),\n",
       "                                       ('nb', MultinomialNB())]),\n",
       "             param_grid={'preprocessor__cvec__max_df': [0.9, 0.95],\n",
       "                         'preprocessor__cvec__max_features': [600, 800, 1000,\n",
       "                                                              1200],\n",
       "                         'preprocessor__cvec__min_df': [2, 3, 4],\n",
       "                         'preprocessor__cvec__ngram_range': [(1, 1), (2, 2)]})</pre></div></div></div><div class=\"sk-parallel\"><div class=\"sk-parallel-item\"><div class=\"sk-item\"><div class=\"sk-serial\"><div class=\"sk-item\"><div class=\"sk-serial\"><div class=\"sk-item sk-dashed-wrapped\"><div class=\"sk-label-container\"><div class=\"sk-label sk-toggleable\"><input class=\"sk-toggleable__control sk-hidden--visually\" id=\"03bac228-4263-4882-8079-18a2b23d459d\" type=\"checkbox\" ><label class=\"sk-toggleable__label\" for=\"03bac228-4263-4882-8079-18a2b23d459d\">preprocessor: ColumnTransformer</label><div class=\"sk-toggleable__content\"><pre>ColumnTransformer(transformers=[('cvec',\n",
       "                                 CountVectorizer(stop_words=['i', 'me', 'my',\n",
       "                                                             'myself', 'we',\n",
       "                                                             'our', 'ours',\n",
       "                                                             'ourselves', 'you',\n",
       "                                                             \"you're\", \"you've\",\n",
       "                                                             \"you'll\", \"you'd\",\n",
       "                                                             'your', 'yours',\n",
       "                                                             'yourself',\n",
       "                                                             'yourselves', 'he',\n",
       "                                                             'him', 'his',\n",
       "                                                             'himself', 'she',\n",
       "                                                             \"she's\", 'her',\n",
       "                                                             'hers', 'herself',\n",
       "                                                             'it', \"it's\",\n",
       "                                                             'its', 'itself', ...]),\n",
       "                                 'title')])</pre></div></div></div><div class=\"sk-parallel\"><div class=\"sk-parallel-item\"><div class=\"sk-item\"><div class=\"sk-label-container\"><div class=\"sk-label sk-toggleable\"><input class=\"sk-toggleable__control sk-hidden--visually\" id=\"9052e84a-aaa1-4130-97f8-4ca5f30e969b\" type=\"checkbox\" ><label class=\"sk-toggleable__label\" for=\"9052e84a-aaa1-4130-97f8-4ca5f30e969b\">cvec</label><div class=\"sk-toggleable__content\"><pre>title</pre></div></div></div><div class=\"sk-serial\"><div class=\"sk-item\"><div class=\"sk-estimator sk-toggleable\"><input class=\"sk-toggleable__control sk-hidden--visually\" id=\"cda52c4f-380e-4be1-a2dc-5722a7303326\" type=\"checkbox\" ><label class=\"sk-toggleable__label\" for=\"cda52c4f-380e-4be1-a2dc-5722a7303326\">CountVectorizer</label><div class=\"sk-toggleable__content\"><pre>CountVectorizer(stop_words=['i', 'me', 'my', 'myself', 'we', 'our', 'ours',\n",
       "                            'ourselves', 'you', \"you're\", \"you've\", \"you'll\",\n",
       "                            \"you'd\", 'your', 'yours', 'yourself', 'yourselves',\n",
       "                            'he', 'him', 'his', 'himself', 'she', \"she's\",\n",
       "                            'her', 'hers', 'herself', 'it', \"it's\", 'its',\n",
       "                            'itself', ...])</pre></div></div></div></div></div></div></div></div><div class=\"sk-item\"><div class=\"sk-estimator sk-toggleable\"><input class=\"sk-toggleable__control sk-hidden--visually\" id=\"141e1f25-778f-4197-84e3-227d74fb235b\" type=\"checkbox\" ><label class=\"sk-toggleable__label\" for=\"141e1f25-778f-4197-84e3-227d74fb235b\">MultinomialNB</label><div class=\"sk-toggleable__content\"><pre>MultinomialNB()</pre></div></div></div></div></div></div></div></div></div></div></div></div>"
      ],
      "text/plain": [
       "GridSearchCV(cv=10,\n",
       "             estimator=Pipeline(steps=[('preprocessor',\n",
       "                                        ColumnTransformer(transformers=[('cvec',\n",
       "                                                                         CountVectorizer(stop_words=['i',\n",
       "                                                                                                     'me',\n",
       "                                                                                                     'my',\n",
       "                                                                                                     'myself',\n",
       "                                                                                                     'we',\n",
       "                                                                                                     'our',\n",
       "                                                                                                     'ours',\n",
       "                                                                                                     'ourselves',\n",
       "                                                                                                     'you',\n",
       "                                                                                                     \"you're\",\n",
       "                                                                                                     \"you've\",\n",
       "                                                                                                     \"you'll\",\n",
       "                                                                                                     \"you'd\",\n",
       "                                                                                                     'your',\n",
       "                                                                                                     'yours',\n",
       "                                                                                                     'yourself',\n",
       "                                                                                                     'yourselves',\n",
       "                                                                                                     'he',\n",
       "                                                                                                     'him',\n",
       "                                                                                                     'his',\n",
       "                                                                                                     'himself',\n",
       "                                                                                                     'she',\n",
       "                                                                                                     \"she's\",\n",
       "                                                                                                     'her',\n",
       "                                                                                                     'hers',\n",
       "                                                                                                     'herself',\n",
       "                                                                                                     'it',\n",
       "                                                                                                     \"it's\",\n",
       "                                                                                                     'its',\n",
       "                                                                                                     'itself', ...]),\n",
       "                                                                         'title')])),\n",
       "                                       ('nb', MultinomialNB())]),\n",
       "             param_grid={'preprocessor__cvec__max_df': [0.9, 0.95],\n",
       "                         'preprocessor__cvec__max_features': [600, 800, 1000,\n",
       "                                                              1200],\n",
       "                         'preprocessor__cvec__min_df': [2, 3, 4],\n",
       "                         'preprocessor__cvec__ngram_range': [(1, 1), (2, 2)]})"
      ]
     },
     "execution_count": 107,
     "metadata": {},
     "output_type": "execute_result"
    }
   ],
   "source": [
    "nb_gs.fit(X_train,y_train)"
   ]
  },
  {
   "cell_type": "code",
   "execution_count": 108,
   "metadata": {},
   "outputs": [
    {
     "data": {
      "text/plain": [
       "{'preprocessor__cvec__max_df': 0.9,\n",
       " 'preprocessor__cvec__max_features': 1200,\n",
       " 'preprocessor__cvec__min_df': 2,\n",
       " 'preprocessor__cvec__ngram_range': (1, 1)}"
      ]
     },
     "execution_count": 108,
     "metadata": {},
     "output_type": "execute_result"
    }
   ],
   "source": [
    "nb_gs.best_params_"
   ]
  },
  {
   "cell_type": "code",
   "execution_count": 109,
   "metadata": {},
   "outputs": [
    {
     "name": "stdout",
     "output_type": "stream",
     "text": [
      "Best Model Score: 0.8771\n",
      "Training Score: 0.9137\n",
      "Testing Score: 0.8526\n"
     ]
    }
   ],
   "source": [
    "nb_gs_scores = print_gs_scores(nb_gs,X_train,X_test,y_train,y_test)"
   ]
  },
  {
   "cell_type": "code",
   "execution_count": 110,
   "metadata": {},
   "outputs": [],
   "source": [
    "nb_gs_preds = nb_gs.predict(X_test)"
   ]
  },
  {
   "cell_type": "code",
   "execution_count": 111,
   "metadata": {},
   "outputs": [
    {
     "name": "stdout",
     "output_type": "stream",
     "text": [
      "True Negatives: 398\n",
      "False Positives: 72\n",
      "False Negatives: 63\n",
      "True Positives: 383\n",
      "-----------------------\n",
      "Accuracy: 0.853\n",
      "Sensitivity: 0.859\n",
      "Specificity: 0.847\n",
      "Precision: 0.842\n",
      "\n",
      "F1 score: 0.8502\n",
      "ROC AUC score: 0.8528\n"
     ]
    },
    {
     "data": {
      "text/plain": [
       "<sklearn.metrics._plot.confusion_matrix.ConfusionMatrixDisplay at 0x7fb198e82fa0>"
      ]
     },
     "execution_count": 111,
     "metadata": {},
     "output_type": "execute_result"
    },
    {
     "data": {
      "image/png": "[encoded data removed]",
      "text/plain": [
       "<Figure size 432x288 with 2 Axes>"
      ]
     },
     "metadata": {
      "needs_background": "light"
     },
     "output_type": "display_data"
    }
   ],
   "source": [
    "nb_gs_acc_scores = print_acc_scores(y_test,nb_gs_preds)\n",
    "#visualize confusion matrix\n",
    "plot_confusion_matrix(nb_gs,X_test,y_test, cmap = 'Blues', values_format ='d')"
   ]
  },
  {
   "cell_type": "code",
   "execution_count": 112,
   "metadata": {},
   "outputs": [],
   "source": [
    "nb_gs_scores.extend(nb_gs_acc_scores)\n",
    "scores_df['nb_gs'] = nb_gs_scores"
   ]
  },
  {
   "cell_type": "markdown",
   "metadata": {},
   "source": [
    "### 2.4 Naive Bayes Model Grid Search Model TfidfVectorizer"
   ]
  },
  {
   "cell_type": "code",
   "execution_count": 113,
   "metadata": {},
   "outputs": [],
   "source": [
    "tvec_nb_gs = GridSearchCV(tvec_nb_pipe_grid, param_grid = tvec_param_grid, cv =10)"
   ]
  },
  {
   "cell_type": "code",
   "execution_count": 114,
   "metadata": {},
   "outputs": [
    {
     "data": {
      "text/html": [
       "<style>div.sk-top-container {color: black;background-color: white;}div.sk-toggleable {background-color: white;}label.sk-toggleable__label {cursor: pointer;display: block;width: 100%;margin-bottom: 0;padding: 0.2em 0.3em;box-sizing: border-box;text-align: center;}div.sk-toggleable__content {max-height: 0;max-width: 0;overflow: hidden;text-align: left;background-color: #f0f8ff;}div.sk-toggleable__content pre {margin: 0.2em;color: black;border-radius: 0.25em;background-color: #f0f8ff;}input.sk-toggleable__control:checked~div.sk-toggleable__content {max-height: 200px;max-width: 100%;overflow: auto;}div.sk-estimator input.sk-toggleable__control:checked~label.sk-toggleable__label {background-color: #d4ebff;}div.sk-label input.sk-toggleable__control:checked~label.sk-toggleable__label {background-color: #d4ebff;}input.sk-hidden--visually {border: 0;clip: rect(1px 1px 1px 1px);clip: rect(1px, 1px, 1px, 1px);height: 1px;margin: -1px;overflow: hidden;padding: 0;position: absolute;width: 1px;}div.sk-estimator {font-family: monospace;background-color: #f0f8ff;margin: 0.25em 0.25em;border: 1px dotted black;border-radius: 0.25em;box-sizing: border-box;}div.sk-estimator:hover {background-color: #d4ebff;}div.sk-parallel-item::after {content: \"\";width: 100%;border-bottom: 1px solid gray;flex-grow: 1;}div.sk-label:hover label.sk-toggleable__label {background-color: #d4ebff;}div.sk-serial::before {content: \"\";position: absolute;border-left: 1px solid gray;box-sizing: border-box;top: 2em;bottom: 0;left: 50%;}div.sk-serial {display: flex;flex-direction: column;align-items: center;background-color: white;}div.sk-item {z-index: 1;}div.sk-parallel {display: flex;align-items: stretch;justify-content: center;background-color: white;}div.sk-parallel-item {display: flex;flex-direction: column;position: relative;background-color: white;}div.sk-parallel-item:first-child::after {align-self: flex-end;width: 50%;}div.sk-parallel-item:last-child::after {align-self: flex-start;width: 50%;}div.sk-parallel-item:only-child::after {width: 0;}div.sk-dashed-wrapped {border: 1px dashed gray;margin: 0.2em;box-sizing: border-box;padding-bottom: 0.1em;background-color: white;position: relative;}div.sk-label label {font-family: monospace;font-weight: bold;background-color: white;display: inline-block;line-height: 1.2em;}div.sk-label-container {position: relative;z-index: 2;text-align: center;}div.sk-container {display: inline-block;position: relative;}</style><div class=\"sk-top-container\"><div class=\"sk-container\"><div class=\"sk-item sk-dashed-wrapped\"><div class=\"sk-label-container\"><div class=\"sk-label sk-toggleable\"><input class=\"sk-toggleable__control sk-hidden--visually\" id=\"b7eac224-f250-4dc5-8f2f-c347f4ba6025\" type=\"checkbox\" ><label class=\"sk-toggleable__label\" for=\"b7eac224-f250-4dc5-8f2f-c347f4ba6025\">GridSearchCV</label><div class=\"sk-toggleable__content\"><pre>GridSearchCV(cv=10,\n",
       "             estimator=Pipeline(steps=[('preprocessor',\n",
       "                                        ColumnTransformer(transformers=[('tvec',\n",
       "                                                                         TfidfVectorizer(stop_words=['i',\n",
       "                                                                                                     'me',\n",
       "                                                                                                     'my',\n",
       "                                                                                                     'myself',\n",
       "                                                                                                     'we',\n",
       "                                                                                                     'our',\n",
       "                                                                                                     'ours',\n",
       "                                                                                                     'ourselves',\n",
       "                                                                                                     'you',\n",
       "                                                                                                     \"you're\",\n",
       "                                                                                                     \"you've\",\n",
       "                                                                                                     \"you'll\",\n",
       "                                                                                                     \"you'd\",\n",
       "                                                                                                     'your',\n",
       "                                                                                                     'yours',\n",
       "                                                                                                     'yourself',\n",
       "                                                                                                     'yourselves',\n",
       "                                                                                                     'he',\n",
       "                                                                                                     'him',\n",
       "                                                                                                     'his',\n",
       "                                                                                                     'himself',\n",
       "                                                                                                     'she',\n",
       "                                                                                                     \"she's\",\n",
       "                                                                                                     'her',\n",
       "                                                                                                     'hers',\n",
       "                                                                                                     'herself',\n",
       "                                                                                                     'it',\n",
       "                                                                                                     \"it's\",\n",
       "                                                                                                     'its',\n",
       "                                                                                                     'itself', ...]),\n",
       "                                                                         'title')])),\n",
       "                                       ('nb', MultinomialNB())]),\n",
       "             param_grid={'preprocessor__tvec__max_df': [0.9, 0.95],\n",
       "                         'preprocessor__tvec__max_features': [600, 800, 1000,\n",
       "                                                              1200],\n",
       "                         'preprocessor__tvec__min_df': [2, 3, 4],\n",
       "                         'preprocessor__tvec__ngram_range': [(1, 1), (2, 2)]})</pre></div></div></div><div class=\"sk-parallel\"><div class=\"sk-parallel-item\"><div class=\"sk-item\"><div class=\"sk-serial\"><div class=\"sk-item\"><div class=\"sk-serial\"><div class=\"sk-item sk-dashed-wrapped\"><div class=\"sk-label-container\"><div class=\"sk-label sk-toggleable\"><input class=\"sk-toggleable__control sk-hidden--visually\" id=\"c726f70a-964c-4ed6-8132-284f64edc420\" type=\"checkbox\" ><label class=\"sk-toggleable__label\" for=\"c726f70a-964c-4ed6-8132-284f64edc420\">preprocessor: ColumnTransformer</label><div class=\"sk-toggleable__content\"><pre>ColumnTransformer(transformers=[('tvec',\n",
       "                                 TfidfVectorizer(stop_words=['i', 'me', 'my',\n",
       "                                                             'myself', 'we',\n",
       "                                                             'our', 'ours',\n",
       "                                                             'ourselves', 'you',\n",
       "                                                             \"you're\", \"you've\",\n",
       "                                                             \"you'll\", \"you'd\",\n",
       "                                                             'your', 'yours',\n",
       "                                                             'yourself',\n",
       "                                                             'yourselves', 'he',\n",
       "                                                             'him', 'his',\n",
       "                                                             'himself', 'she',\n",
       "                                                             \"she's\", 'her',\n",
       "                                                             'hers', 'herself',\n",
       "                                                             'it', \"it's\",\n",
       "                                                             'its', 'itself', ...]),\n",
       "                                 'title')])</pre></div></div></div><div class=\"sk-parallel\"><div class=\"sk-parallel-item\"><div class=\"sk-item\"><div class=\"sk-label-container\"><div class=\"sk-label sk-toggleable\"><input class=\"sk-toggleable__control sk-hidden--visually\" id=\"4c25de7f-8fa7-4faf-a01c-e9c46a4ed2d2\" type=\"checkbox\" ><label class=\"sk-toggleable__label\" for=\"4c25de7f-8fa7-4faf-a01c-e9c46a4ed2d2\">tvec</label><div class=\"sk-toggleable__content\"><pre>title</pre></div></div></div><div class=\"sk-serial\"><div class=\"sk-item\"><div class=\"sk-estimator sk-toggleable\"><input class=\"sk-toggleable__control sk-hidden--visually\" id=\"54f224ec-99ce-454c-9854-ad563d844613\" type=\"checkbox\" ><label class=\"sk-toggleable__label\" for=\"54f224ec-99ce-454c-9854-ad563d844613\">TfidfVectorizer</label><div class=\"sk-toggleable__content\"><pre>TfidfVectorizer(stop_words=['i', 'me', 'my', 'myself', 'we', 'our', 'ours',\n",
       "                            'ourselves', 'you', \"you're\", \"you've\", \"you'll\",\n",
       "                            \"you'd\", 'your', 'yours', 'yourself', 'yourselves',\n",
       "                            'he', 'him', 'his', 'himself', 'she', \"she's\",\n",
       "                            'her', 'hers', 'herself', 'it', \"it's\", 'its',\n",
       "                            'itself', ...])</pre></div></div></div></div></div></div></div></div><div class=\"sk-item\"><div class=\"sk-estimator sk-toggleable\"><input class=\"sk-toggleable__control sk-hidden--visually\" id=\"1fdfac54-c138-43c8-aaab-15a8205e0a87\" type=\"checkbox\" ><label class=\"sk-toggleable__label\" for=\"1fdfac54-c138-43c8-aaab-15a8205e0a87\">MultinomialNB</label><div class=\"sk-toggleable__content\"><pre>MultinomialNB()</pre></div></div></div></div></div></div></div></div></div></div></div></div>"
      ],
      "text/plain": [
       "GridSearchCV(cv=10,\n",
       "             estimator=Pipeline(steps=[('preprocessor',\n",
       "                                        ColumnTransformer(transformers=[('tvec',\n",
       "                                                                         TfidfVectorizer(stop_words=['i',\n",
       "                                                                                                     'me',\n",
       "                                                                                                     'my',\n",
       "                                                                                                     'myself',\n",
       "                                                                                                     'we',\n",
       "                                                                                                     'our',\n",
       "                                                                                                     'ours',\n",
       "                                                                                                     'ourselves',\n",
       "                                                                                                     'you',\n",
       "                                                                                                     \"you're\",\n",
       "                                                                                                     \"you've\",\n",
       "                                                                                                     \"you'll\",\n",
       "                                                                                                     \"you'd\",\n",
       "                                                                                                     'your',\n",
       "                                                                                                     'yours',\n",
       "                                                                                                     'yourself',\n",
       "                                                                                                     'yourselves',\n",
       "                                                                                                     'he',\n",
       "                                                                                                     'him',\n",
       "                                                                                                     'his',\n",
       "                                                                                                     'himself',\n",
       "                                                                                                     'she',\n",
       "                                                                                                     \"she's\",\n",
       "                                                                                                     'her',\n",
       "                                                                                                     'hers',\n",
       "                                                                                                     'herself',\n",
       "                                                                                                     'it',\n",
       "                                                                                                     \"it's\",\n",
       "                                                                                                     'its',\n",
       "                                                                                                     'itself', ...]),\n",
       "                                                                         'title')])),\n",
       "                                       ('nb', MultinomialNB())]),\n",
       "             param_grid={'preprocessor__tvec__max_df': [0.9, 0.95],\n",
       "                         'preprocessor__tvec__max_features': [600, 800, 1000,\n",
       "                                                              1200],\n",
       "                         'preprocessor__tvec__min_df': [2, 3, 4],\n",
       "                         'preprocessor__tvec__ngram_range': [(1, 1), (2, 2)]})"
      ]
     },
     "execution_count": 114,
     "metadata": {},
     "output_type": "execute_result"
    }
   ],
   "source": [
    "tvec_nb_gs.fit(X_train,y_train)"
   ]
  },
  {
   "cell_type": "code",
   "execution_count": 115,
   "metadata": {},
   "outputs": [
    {
     "data": {
      "text/plain": [
       "{'preprocessor__tvec__max_df': 0.9,\n",
       " 'preprocessor__tvec__max_features': 1200,\n",
       " 'preprocessor__tvec__min_df': 2,\n",
       " 'preprocessor__tvec__ngram_range': (1, 1)}"
      ]
     },
     "execution_count": 115,
     "metadata": {},
     "output_type": "execute_result"
    }
   ],
   "source": [
    "tvec_nb_gs.best_params_"
   ]
  },
  {
   "cell_type": "code",
   "execution_count": 116,
   "metadata": {},
   "outputs": [
    {
     "name": "stdout",
     "output_type": "stream",
     "text": [
      "Best Model Score: 0.8717\n",
      "Training Score: 0.9189\n",
      "Testing Score: 0.8526\n"
     ]
    }
   ],
   "source": [
    "tvec_nb_gs_scores = print_gs_scores(tvec_nb_gs,X_train,X_test,y_train,y_test)"
   ]
  },
  {
   "cell_type": "code",
   "execution_count": 117,
   "metadata": {},
   "outputs": [],
   "source": [
    "tvec_nb_gs_preds = tvec_nb_gs.predict(X_test)"
   ]
  },
  {
   "cell_type": "code",
   "execution_count": 118,
   "metadata": {},
   "outputs": [
    {
     "name": "stdout",
     "output_type": "stream",
     "text": [
      "True Negatives: 399\n",
      "False Positives: 71\n",
      "False Negatives: 64\n",
      "True Positives: 382\n",
      "-----------------------\n",
      "Accuracy: 0.853\n",
      "Sensitivity: 0.857\n",
      "Specificity: 0.849\n",
      "Precision: 0.843\n",
      "\n",
      "F1 score: 0.8498\n",
      "ROC AUC score: 0.8527\n"
     ]
    },
    {
     "data": {
      "text/plain": [
       "<sklearn.metrics._plot.confusion_matrix.ConfusionMatrixDisplay at 0x7fb198e3ed00>"
      ]
     },
     "execution_count": 118,
     "metadata": {},
     "output_type": "execute_result"
    },
    {
     "data": {
      "image/png": "[encoded data removed]",
      "text/plain": [
       "<Figure size 432x288 with 2 Axes>"
      ]
     },
     "metadata": {
      "needs_background": "light"
     },
     "output_type": "display_data"
    }
   ],
   "source": [
    "tvec_nb_gs_acc_scores = print_acc_scores(y_test,tvec_nb_gs_preds)\n",
    "#visualize confusion matrix\n",
    "plot_confusion_matrix(tvec_nb_gs,X_test,y_test, cmap = 'Blues', values_format ='d')"
   ]
  },
  {
   "cell_type": "code",
   "execution_count": 119,
   "metadata": {},
   "outputs": [],
   "source": [
    "tvec_nb_gs_scores.extend(tvec_nb_gs_acc_scores)\n",
    "scores_df['tvec_nb_gs'] = tvec_nb_gs_scores"
   ]
  },
  {
   "cell_type": "markdown",
   "metadata": {},
   "source": [
    "Our Naive Bayes gridsearch model perform at about the same level in terms of specificity and sensitivity. Using grid search did not improve our model but did improve our training score. However, this is most likely due to the increase in max_features in the transformer which is a sign of overfitting"
   ]
  },
  {
   "cell_type": "markdown",
   "metadata": {},
   "source": [
    "## Random Forest Model"
   ]
  },
  {
   "cell_type": "markdown",
   "metadata": {},
   "source": [
    "## Setting Up Pipelines for Random Forest Model"
   ]
  },
  {
   "cell_type": "code",
   "execution_count": 120,
   "metadata": {},
   "outputs": [],
   "source": [
    "#tvec random forest pipeline for gridsearch\n",
    "tvec_rf_pipe_grid = Pipeline(steps =[\n",
    "    ('preprocessor', tvec_preprocessor),\n",
    "    ('rf', RandomForestClassifier())\n",
    "])"
   ]
  },
  {
   "cell_type": "code",
   "execution_count": 121,
   "metadata": {},
   "outputs": [],
   "source": [
    "#cvec random forest pipeline for gridsearch\n",
    "rf_pipe_grid = Pipeline(steps =[\n",
    "    ('preprocessor', preprocessor),\n",
    "    ('rf', RandomForestClassifier())\n",
    "])"
   ]
  },
  {
   "cell_type": "code",
   "execution_count": 122,
   "metadata": {},
   "outputs": [],
   "source": [
    "#tvec random forest pipeline for dataset\n",
    "tvec_rf_pipe = Pipeline(steps =[\n",
    "    ('preprocessor', tvec_preprocessor),\n",
    "    ('rf', RandomForestClassifier())\n",
    "])"
   ]
  },
  {
   "cell_type": "code",
   "execution_count": 123,
   "metadata": {},
   "outputs": [],
   "source": [
    "#cvec random forest pipeline for dataset\n",
    "rf_pipe = Pipeline(steps =[\n",
    "    ('preprocessor', preprocessor),\n",
    "    ('rf', RandomForestClassifier())\n",
    "])"
   ]
  },
  {
   "cell_type": "markdown",
   "metadata": {},
   "source": [
    "### Setting Up Random Forest Pipeline Parameters"
   ]
  },
  {
   "cell_type": "code",
   "execution_count": 124,
   "metadata": {},
   "outputs": [],
   "source": [
    "#cvec random forest parameters\n",
    "rf_standard ={\n",
    "    'preprocessor__cvec__max_features':[800],\n",
    "    'preprocessor__cvec__ngram_range':[(1,1)],\n",
    "    'preprocessor__cvec__max_df':[.95],\n",
    "    'preprocessor__cvec__min_df':[2],   \n",
    "}\n",
    "#tvec random forest paramters\n",
    "tvec_rf_standard ={\n",
    "    'preprocessor__tvec__max_features':[800],\n",
    "    'preprocessor__tvec__ngram_range':[(1,1)],\n",
    "    'preprocessor__tvec__max_df':[.95],\n",
    "    'preprocessor__tvec__min_df':[2],    \n",
    "}\n",
    "\n",
    "#cvec random forest parameters for grid search\n",
    "param_rf_grid = {\n",
    "    'preprocessor__cvec__max_features':[600,800,1000,1200],\n",
    "    'preprocessor__cvec__ngram_range':[(1,1),(2,2)],\n",
    "    'preprocessor__cvec__max_df':[.9,.95],\n",
    "    'preprocessor__cvec__min_df':[2,3,4],\n",
    "    'rf__n_estimators':[100,150,200,250],\n",
    "    'rf__max_depth':[None, 1,2,3,4,5]    \n",
    "}\n",
    "#tvec random forest parameters for grid search\n",
    "tvec_rf_param_grid = {\n",
    "    'preprocessor__tvec__max_features':[600,800,1000,1200],\n",
    "    'preprocessor__tvec__ngram_range':[(1,1),(2,2)],\n",
    "    'preprocessor__tvec__max_df':[.9,.95],\n",
    "    'preprocessor__tvec__min_df':[2,3,4],\n",
    "    'rf__n_estimators':[100,150,200,250],\n",
    "    'rf__max_depth':[None, 1,2,3,4,5]\n",
    "}"
   ]
  },
  {
   "cell_type": "markdown",
   "metadata": {},
   "source": [
    "### 3.1 Random Forest Model Count Vectorizer"
   ]
  },
  {
   "cell_type": "code",
   "execution_count": 125,
   "metadata": {},
   "outputs": [],
   "source": [
    "#instantiate model\n",
    "rf = GridSearchCV(rf_pipe, param_grid = rf_standard, cv =10)"
   ]
  },
  {
   "cell_type": "code",
   "execution_count": 126,
   "metadata": {},
   "outputs": [
    {
     "data": {
      "text/html": [
       "<style>div.sk-top-container {color: black;background-color: white;}div.sk-toggleable {background-color: white;}label.sk-toggleable__label {cursor: pointer;display: block;width: 100%;margin-bottom: 0;padding: 0.2em 0.3em;box-sizing: border-box;text-align: center;}div.sk-toggleable__content {max-height: 0;max-width: 0;overflow: hidden;text-align: left;background-color: #f0f8ff;}div.sk-toggleable__content pre {margin: 0.2em;color: black;border-radius: 0.25em;background-color: #f0f8ff;}input.sk-toggleable__control:checked~div.sk-toggleable__content {max-height: 200px;max-width: 100%;overflow: auto;}div.sk-estimator input.sk-toggleable__control:checked~label.sk-toggleable__label {background-color: #d4ebff;}div.sk-label input.sk-toggleable__control:checked~label.sk-toggleable__label {background-color: #d4ebff;}input.sk-hidden--visually {border: 0;clip: rect(1px 1px 1px 1px);clip: rect(1px, 1px, 1px, 1px);height: 1px;margin: -1px;overflow: hidden;padding: 0;position: absolute;width: 1px;}div.sk-estimator {font-family: monospace;background-color: #f0f8ff;margin: 0.25em 0.25em;border: 1px dotted black;border-radius: 0.25em;box-sizing: border-box;}div.sk-estimator:hover {background-color: #d4ebff;}div.sk-parallel-item::after {content: \"\";width: 100%;border-bottom: 1px solid gray;flex-grow: 1;}div.sk-label:hover label.sk-toggleable__label {background-color: #d4ebff;}div.sk-serial::before {content: \"\";position: absolute;border-left: 1px solid gray;box-sizing: border-box;top: 2em;bottom: 0;left: 50%;}div.sk-serial {display: flex;flex-direction: column;align-items: center;background-color: white;}div.sk-item {z-index: 1;}div.sk-parallel {display: flex;align-items: stretch;justify-content: center;background-color: white;}div.sk-parallel-item {display: flex;flex-direction: column;position: relative;background-color: white;}div.sk-parallel-item:first-child::after {align-self: flex-end;width: 50%;}div.sk-parallel-item:last-child::after {align-self: flex-start;width: 50%;}div.sk-parallel-item:only-child::after {width: 0;}div.sk-dashed-wrapped {border: 1px dashed gray;margin: 0.2em;box-sizing: border-box;padding-bottom: 0.1em;background-color: white;position: relative;}div.sk-label label {font-family: monospace;font-weight: bold;background-color: white;display: inline-block;line-height: 1.2em;}div.sk-label-container {position: relative;z-index: 2;text-align: center;}div.sk-container {display: inline-block;position: relative;}</style><div class=\"sk-top-container\"><div class=\"sk-container\"><div class=\"sk-item sk-dashed-wrapped\"><div class=\"sk-label-container\"><div class=\"sk-label sk-toggleable\"><input class=\"sk-toggleable__control sk-hidden--visually\" id=\"78e2f221-1fd6-43e9-bf2c-d7fb0ddb5428\" type=\"checkbox\" ><label class=\"sk-toggleable__label\" for=\"78e2f221-1fd6-43e9-bf2c-d7fb0ddb5428\">GridSearchCV</label><div class=\"sk-toggleable__content\"><pre>GridSearchCV(cv=10,\n",
       "             estimator=Pipeline(steps=[('preprocessor',\n",
       "                                        ColumnTransformer(transformers=[('cvec',\n",
       "                                                                         CountVectorizer(stop_words=['i',\n",
       "                                                                                                     'me',\n",
       "                                                                                                     'my',\n",
       "                                                                                                     'myself',\n",
       "                                                                                                     'we',\n",
       "                                                                                                     'our',\n",
       "                                                                                                     'ours',\n",
       "                                                                                                     'ourselves',\n",
       "                                                                                                     'you',\n",
       "                                                                                                     \"you're\",\n",
       "                                                                                                     \"you've\",\n",
       "                                                                                                     \"you'll\",\n",
       "                                                                                                     \"you'd\",\n",
       "                                                                                                     'your',\n",
       "                                                                                                     'yours',\n",
       "                                                                                                     'yourself',\n",
       "                                                                                                     'yourselves',\n",
       "                                                                                                     'he',\n",
       "                                                                                                     'him',\n",
       "                                                                                                     'his',\n",
       "                                                                                                     'himself',\n",
       "                                                                                                     'she',\n",
       "                                                                                                     \"she's\",\n",
       "                                                                                                     'her',\n",
       "                                                                                                     'hers',\n",
       "                                                                                                     'herself',\n",
       "                                                                                                     'it',\n",
       "                                                                                                     \"it's\",\n",
       "                                                                                                     'its',\n",
       "                                                                                                     'itself', ...]),\n",
       "                                                                         'title')])),\n",
       "                                       ('rf', RandomForestClassifier())]),\n",
       "             param_grid={'preprocessor__cvec__max_df': [0.95],\n",
       "                         'preprocessor__cvec__max_features': [800],\n",
       "                         'preprocessor__cvec__min_df': [2],\n",
       "                         'preprocessor__cvec__ngram_range': [(1, 1)]})</pre></div></div></div><div class=\"sk-parallel\"><div class=\"sk-parallel-item\"><div class=\"sk-item\"><div class=\"sk-serial\"><div class=\"sk-item\"><div class=\"sk-serial\"><div class=\"sk-item sk-dashed-wrapped\"><div class=\"sk-label-container\"><div class=\"sk-label sk-toggleable\"><input class=\"sk-toggleable__control sk-hidden--visually\" id=\"6ba832f2-fe28-4ee1-bd6d-24c9d031e84d\" type=\"checkbox\" ><label class=\"sk-toggleable__label\" for=\"6ba832f2-fe28-4ee1-bd6d-24c9d031e84d\">preprocessor: ColumnTransformer</label><div class=\"sk-toggleable__content\"><pre>ColumnTransformer(transformers=[('cvec',\n",
       "                                 CountVectorizer(stop_words=['i', 'me', 'my',\n",
       "                                                             'myself', 'we',\n",
       "                                                             'our', 'ours',\n",
       "                                                             'ourselves', 'you',\n",
       "                                                             \"you're\", \"you've\",\n",
       "                                                             \"you'll\", \"you'd\",\n",
       "                                                             'your', 'yours',\n",
       "                                                             'yourself',\n",
       "                                                             'yourselves', 'he',\n",
       "                                                             'him', 'his',\n",
       "                                                             'himself', 'she',\n",
       "                                                             \"she's\", 'her',\n",
       "                                                             'hers', 'herself',\n",
       "                                                             'it', \"it's\",\n",
       "                                                             'its', 'itself', ...]),\n",
       "                                 'title')])</pre></div></div></div><div class=\"sk-parallel\"><div class=\"sk-parallel-item\"><div class=\"sk-item\"><div class=\"sk-label-container\"><div class=\"sk-label sk-toggleable\"><input class=\"sk-toggleable__control sk-hidden--visually\" id=\"6222cb57-bede-4a66-9e54-0556a55d2e2f\" type=\"checkbox\" ><label class=\"sk-toggleable__label\" for=\"6222cb57-bede-4a66-9e54-0556a55d2e2f\">cvec</label><div class=\"sk-toggleable__content\"><pre>title</pre></div></div></div><div class=\"sk-serial\"><div class=\"sk-item\"><div class=\"sk-estimator sk-toggleable\"><input class=\"sk-toggleable__control sk-hidden--visually\" id=\"41be8006-b0e0-4e2b-9929-dcd8a77bc9bc\" type=\"checkbox\" ><label class=\"sk-toggleable__label\" for=\"41be8006-b0e0-4e2b-9929-dcd8a77bc9bc\">CountVectorizer</label><div class=\"sk-toggleable__content\"><pre>CountVectorizer(stop_words=['i', 'me', 'my', 'myself', 'we', 'our', 'ours',\n",
       "                            'ourselves', 'you', \"you're\", \"you've\", \"you'll\",\n",
       "                            \"you'd\", 'your', 'yours', 'yourself', 'yourselves',\n",
       "                            'he', 'him', 'his', 'himself', 'she', \"she's\",\n",
       "                            'her', 'hers', 'herself', 'it', \"it's\", 'its',\n",
       "                            'itself', ...])</pre></div></div></div></div></div></div></div></div><div class=\"sk-item\"><div class=\"sk-estimator sk-toggleable\"><input class=\"sk-toggleable__control sk-hidden--visually\" id=\"0efd9d65-ed55-4f61-b5d1-5ae7259216dc\" type=\"checkbox\" ><label class=\"sk-toggleable__label\" for=\"0efd9d65-ed55-4f61-b5d1-5ae7259216dc\">RandomForestClassifier</label><div class=\"sk-toggleable__content\"><pre>RandomForestClassifier()</pre></div></div></div></div></div></div></div></div></div></div></div></div>"
      ],
      "text/plain": [
       "GridSearchCV(cv=10,\n",
       "             estimator=Pipeline(steps=[('preprocessor',\n",
       "                                        ColumnTransformer(transformers=[('cvec',\n",
       "                                                                         CountVectorizer(stop_words=['i',\n",
       "                                                                                                     'me',\n",
       "                                                                                                     'my',\n",
       "                                                                                                     'myself',\n",
       "                                                                                                     'we',\n",
       "                                                                                                     'our',\n",
       "                                                                                                     'ours',\n",
       "                                                                                                     'ourselves',\n",
       "                                                                                                     'you',\n",
       "                                                                                                     \"you're\",\n",
       "                                                                                                     \"you've\",\n",
       "                                                                                                     \"you'll\",\n",
       "                                                                                                     \"you'd\",\n",
       "                                                                                                     'your',\n",
       "                                                                                                     'yours',\n",
       "                                                                                                     'yourself',\n",
       "                                                                                                     'yourselves',\n",
       "                                                                                                     'he',\n",
       "                                                                                                     'him',\n",
       "                                                                                                     'his',\n",
       "                                                                                                     'himself',\n",
       "                                                                                                     'she',\n",
       "                                                                                                     \"she's\",\n",
       "                                                                                                     'her',\n",
       "                                                                                                     'hers',\n",
       "                                                                                                     'herself',\n",
       "                                                                                                     'it',\n",
       "                                                                                                     \"it's\",\n",
       "                                                                                                     'its',\n",
       "                                                                                                     'itself', ...]),\n",
       "                                                                         'title')])),\n",
       "                                       ('rf', RandomForestClassifier())]),\n",
       "             param_grid={'preprocessor__cvec__max_df': [0.95],\n",
       "                         'preprocessor__cvec__max_features': [800],\n",
       "                         'preprocessor__cvec__min_df': [2],\n",
       "                         'preprocessor__cvec__ngram_range': [(1, 1)]})"
      ]
     },
     "execution_count": 126,
     "metadata": {},
     "output_type": "execute_result"
    }
   ],
   "source": [
    "#fit model\n",
    "rf.fit(X_train,y_train)"
   ]
  },
  {
   "cell_type": "code",
   "execution_count": 127,
   "metadata": {},
   "outputs": [
    {
     "name": "stdout",
     "output_type": "stream",
     "text": [
      "Cross Validation Score: 0.8427112920179815\n"
     ]
    }
   ],
   "source": [
    "#print cv score\n",
    "print(f'Cross Validation Score: {cross_val_score(rf, X_train,y_train, cv =5).mean()}')"
   ]
  },
  {
   "cell_type": "markdown",
   "metadata": {},
   "source": [
    "### 3.1 Random Forest Model Score CountVectorizer"
   ]
  },
  {
   "cell_type": "code",
   "execution_count": 128,
   "metadata": {},
   "outputs": [
    {
     "name": "stdout",
     "output_type": "stream",
     "text": [
      "Best Model Score: 0.8413\n",
      "Training Score: 0.9902\n",
      "Testing Score: 0.8221\n"
     ]
    }
   ],
   "source": [
    "#print score\n",
    "rf_scores = print_gs_scores(rf,X_train,X_test,y_train,y_test)"
   ]
  },
  {
   "cell_type": "markdown",
   "metadata": {},
   "source": [
    "### 3.1 Random Forest Model Accuracy Score CountVectorizer"
   ]
  },
  {
   "cell_type": "code",
   "execution_count": 129,
   "metadata": {},
   "outputs": [],
   "source": [
    "#calculate preds\n",
    "rf_preds = rf.predict(X_test)"
   ]
  },
  {
   "cell_type": "code",
   "execution_count": 130,
   "metadata": {},
   "outputs": [
    {
     "name": "stdout",
     "output_type": "stream",
     "text": [
      "True Negatives: 380\n",
      "False Positives: 90\n",
      "False Negatives: 73\n",
      "True Positives: 373\n",
      "-----------------------\n",
      "Accuracy: 0.822\n",
      "Sensitivity: 0.836\n",
      "Specificity: 0.809\n",
      "Precision: 0.806\n",
      "\n",
      "F1 score: 0.8207\n",
      "ROC AUC score: 0.8224\n"
     ]
    },
    {
     "data": {
      "text/plain": [
       "<sklearn.metrics._plot.confusion_matrix.ConfusionMatrixDisplay at 0x7fb1994424c0>"
      ]
     },
     "execution_count": 130,
     "metadata": {},
     "output_type": "execute_result"
    },
    {
     "data": {
      "image/png": "[encoded data removed]",
      "text/plain": [
       "<Figure size 432x288 with 2 Axes>"
      ]
     },
     "metadata": {
      "needs_background": "light"
     },
     "output_type": "display_data"
    }
   ],
   "source": [
    "#print accuracy scores\n",
    "rf_acc_scores = print_acc_scores(y_test,rf_preds)\n",
    "#visualize confusion matrix\n",
    "plot_confusion_matrix(rf,X_test,y_test, cmap = 'Blues', values_format ='d')"
   ]
  },
  {
   "cell_type": "code",
   "execution_count": 131,
   "metadata": {},
   "outputs": [],
   "source": [
    "#add accuracy score to score list\n",
    "rf_scores.extend(rf_acc_scores)"
   ]
  },
  {
   "cell_type": "code",
   "execution_count": 132,
   "metadata": {},
   "outputs": [],
   "source": [
    "#add scores to dataframe\n",
    "scores_df['rf'] = rf_scores"
   ]
  },
  {
   "cell_type": "markdown",
   "metadata": {},
   "source": [
    "### 3.2 Random Forest Model Count TfidfVectorizer"
   ]
  },
  {
   "cell_type": "code",
   "execution_count": 133,
   "metadata": {},
   "outputs": [],
   "source": [
    "#instantiate model\n",
    "tvec_rf = GridSearchCV(tvec_rf_pipe, param_grid = tvec_rf_standard, cv =10)"
   ]
  },
  {
   "cell_type": "code",
   "execution_count": 134,
   "metadata": {},
   "outputs": [
    {
     "data": {
      "text/html": [
       "<style>div.sk-top-container {color: black;background-color: white;}div.sk-toggleable {background-color: white;}label.sk-toggleable__label {cursor: pointer;display: block;width: 100%;margin-bottom: 0;padding: 0.2em 0.3em;box-sizing: border-box;text-align: center;}div.sk-toggleable__content {max-height: 0;max-width: 0;overflow: hidden;text-align: left;background-color: #f0f8ff;}div.sk-toggleable__content pre {margin: 0.2em;color: black;border-radius: 0.25em;background-color: #f0f8ff;}input.sk-toggleable__control:checked~div.sk-toggleable__content {max-height: 200px;max-width: 100%;overflow: auto;}div.sk-estimator input.sk-toggleable__control:checked~label.sk-toggleable__label {background-color: #d4ebff;}div.sk-label input.sk-toggleable__control:checked~label.sk-toggleable__label {background-color: #d4ebff;}input.sk-hidden--visually {border: 0;clip: rect(1px 1px 1px 1px);clip: rect(1px, 1px, 1px, 1px);height: 1px;margin: -1px;overflow: hidden;padding: 0;position: absolute;width: 1px;}div.sk-estimator {font-family: monospace;background-color: #f0f8ff;margin: 0.25em 0.25em;border: 1px dotted black;border-radius: 0.25em;box-sizing: border-box;}div.sk-estimator:hover {background-color: #d4ebff;}div.sk-parallel-item::after {content: \"\";width: 100%;border-bottom: 1px solid gray;flex-grow: 1;}div.sk-label:hover label.sk-toggleable__label {background-color: #d4ebff;}div.sk-serial::before {content: \"\";position: absolute;border-left: 1px solid gray;box-sizing: border-box;top: 2em;bottom: 0;left: 50%;}div.sk-serial {display: flex;flex-direction: column;align-items: center;background-color: white;}div.sk-item {z-index: 1;}div.sk-parallel {display: flex;align-items: stretch;justify-content: center;background-color: white;}div.sk-parallel-item {display: flex;flex-direction: column;position: relative;background-color: white;}div.sk-parallel-item:first-child::after {align-self: flex-end;width: 50%;}div.sk-parallel-item:last-child::after {align-self: flex-start;width: 50%;}div.sk-parallel-item:only-child::after {width: 0;}div.sk-dashed-wrapped {border: 1px dashed gray;margin: 0.2em;box-sizing: border-box;padding-bottom: 0.1em;background-color: white;position: relative;}div.sk-label label {font-family: monospace;font-weight: bold;background-color: white;display: inline-block;line-height: 1.2em;}div.sk-label-container {position: relative;z-index: 2;text-align: center;}div.sk-container {display: inline-block;position: relative;}</style><div class=\"sk-top-container\"><div class=\"sk-container\"><div class=\"sk-item sk-dashed-wrapped\"><div class=\"sk-label-container\"><div class=\"sk-label sk-toggleable\"><input class=\"sk-toggleable__control sk-hidden--visually\" id=\"6195bd29-a448-4e09-a9e2-d8eda79673a5\" type=\"checkbox\" ><label class=\"sk-toggleable__label\" for=\"6195bd29-a448-4e09-a9e2-d8eda79673a5\">GridSearchCV</label><div class=\"sk-toggleable__content\"><pre>GridSearchCV(cv=10,\n",
       "             estimator=Pipeline(steps=[('preprocessor',\n",
       "                                        ColumnTransformer(transformers=[('tvec',\n",
       "                                                                         TfidfVectorizer(stop_words=['i',\n",
       "                                                                                                     'me',\n",
       "                                                                                                     'my',\n",
       "                                                                                                     'myself',\n",
       "                                                                                                     'we',\n",
       "                                                                                                     'our',\n",
       "                                                                                                     'ours',\n",
       "                                                                                                     'ourselves',\n",
       "                                                                                                     'you',\n",
       "                                                                                                     \"you're\",\n",
       "                                                                                                     \"you've\",\n",
       "                                                                                                     \"you'll\",\n",
       "                                                                                                     \"you'd\",\n",
       "                                                                                                     'your',\n",
       "                                                                                                     'yours',\n",
       "                                                                                                     'yourself',\n",
       "                                                                                                     'yourselves',\n",
       "                                                                                                     'he',\n",
       "                                                                                                     'him',\n",
       "                                                                                                     'his',\n",
       "                                                                                                     'himself',\n",
       "                                                                                                     'she',\n",
       "                                                                                                     \"she's\",\n",
       "                                                                                                     'her',\n",
       "                                                                                                     'hers',\n",
       "                                                                                                     'herself',\n",
       "                                                                                                     'it',\n",
       "                                                                                                     \"it's\",\n",
       "                                                                                                     'its',\n",
       "                                                                                                     'itself', ...]),\n",
       "                                                                         'title')])),\n",
       "                                       ('rf', RandomForestClassifier())]),\n",
       "             param_grid={'preprocessor__tvec__max_df': [0.95],\n",
       "                         'preprocessor__tvec__max_features': [800],\n",
       "                         'preprocessor__tvec__min_df': [2],\n",
       "                         'preprocessor__tvec__ngram_range': [(1, 1)]})</pre></div></div></div><div class=\"sk-parallel\"><div class=\"sk-parallel-item\"><div class=\"sk-item\"><div class=\"sk-serial\"><div class=\"sk-item\"><div class=\"sk-serial\"><div class=\"sk-item sk-dashed-wrapped\"><div class=\"sk-label-container\"><div class=\"sk-label sk-toggleable\"><input class=\"sk-toggleable__control sk-hidden--visually\" id=\"8df70428-87aa-477d-b3d3-094fb7c4634a\" type=\"checkbox\" ><label class=\"sk-toggleable__label\" for=\"8df70428-87aa-477d-b3d3-094fb7c4634a\">preprocessor: ColumnTransformer</label><div class=\"sk-toggleable__content\"><pre>ColumnTransformer(transformers=[('tvec',\n",
       "                                 TfidfVectorizer(stop_words=['i', 'me', 'my',\n",
       "                                                             'myself', 'we',\n",
       "                                                             'our', 'ours',\n",
       "                                                             'ourselves', 'you',\n",
       "                                                             \"you're\", \"you've\",\n",
       "                                                             \"you'll\", \"you'd\",\n",
       "                                                             'your', 'yours',\n",
       "                                                             'yourself',\n",
       "                                                             'yourselves', 'he',\n",
       "                                                             'him', 'his',\n",
       "                                                             'himself', 'she',\n",
       "                                                             \"she's\", 'her',\n",
       "                                                             'hers', 'herself',\n",
       "                                                             'it', \"it's\",\n",
       "                                                             'its', 'itself', ...]),\n",
       "                                 'title')])</pre></div></div></div><div class=\"sk-parallel\"><div class=\"sk-parallel-item\"><div class=\"sk-item\"><div class=\"sk-label-container\"><div class=\"sk-label sk-toggleable\"><input class=\"sk-toggleable__control sk-hidden--visually\" id=\"88b9a8ec-cfb7-453a-97de-6794caabe464\" type=\"checkbox\" ><label class=\"sk-toggleable__label\" for=\"88b9a8ec-cfb7-453a-97de-6794caabe464\">tvec</label><div class=\"sk-toggleable__content\"><pre>title</pre></div></div></div><div class=\"sk-serial\"><div class=\"sk-item\"><div class=\"sk-estimator sk-toggleable\"><input class=\"sk-toggleable__control sk-hidden--visually\" id=\"e67bce8c-3b65-4779-84c3-ec1de7d8f4d8\" type=\"checkbox\" ><label class=\"sk-toggleable__label\" for=\"e67bce8c-3b65-4779-84c3-ec1de7d8f4d8\">TfidfVectorizer</label><div class=\"sk-toggleable__content\"><pre>TfidfVectorizer(stop_words=['i', 'me', 'my', 'myself', 'we', 'our', 'ours',\n",
       "                            'ourselves', 'you', \"you're\", \"you've\", \"you'll\",\n",
       "                            \"you'd\", 'your', 'yours', 'yourself', 'yourselves',\n",
       "                            'he', 'him', 'his', 'himself', 'she', \"she's\",\n",
       "                            'her', 'hers', 'herself', 'it', \"it's\", 'its',\n",
       "                            'itself', ...])</pre></div></div></div></div></div></div></div></div><div class=\"sk-item\"><div class=\"sk-estimator sk-toggleable\"><input class=\"sk-toggleable__control sk-hidden--visually\" id=\"547dd1ba-82f1-45f5-9d1b-89db47cc600d\" type=\"checkbox\" ><label class=\"sk-toggleable__label\" for=\"547dd1ba-82f1-45f5-9d1b-89db47cc600d\">RandomForestClassifier</label><div class=\"sk-toggleable__content\"><pre>RandomForestClassifier()</pre></div></div></div></div></div></div></div></div></div></div></div></div>"
      ],
      "text/plain": [
       "GridSearchCV(cv=10,\n",
       "             estimator=Pipeline(steps=[('preprocessor',\n",
       "                                        ColumnTransformer(transformers=[('tvec',\n",
       "                                                                         TfidfVectorizer(stop_words=['i',\n",
       "                                                                                                     'me',\n",
       "                                                                                                     'my',\n",
       "                                                                                                     'myself',\n",
       "                                                                                                     'we',\n",
       "                                                                                                     'our',\n",
       "                                                                                                     'ours',\n",
       "                                                                                                     'ourselves',\n",
       "                                                                                                     'you',\n",
       "                                                                                                     \"you're\",\n",
       "                                                                                                     \"you've\",\n",
       "                                                                                                     \"you'll\",\n",
       "                                                                                                     \"you'd\",\n",
       "                                                                                                     'your',\n",
       "                                                                                                     'yours',\n",
       "                                                                                                     'yourself',\n",
       "                                                                                                     'yourselves',\n",
       "                                                                                                     'he',\n",
       "                                                                                                     'him',\n",
       "                                                                                                     'his',\n",
       "                                                                                                     'himself',\n",
       "                                                                                                     'she',\n",
       "                                                                                                     \"she's\",\n",
       "                                                                                                     'her',\n",
       "                                                                                                     'hers',\n",
       "                                                                                                     'herself',\n",
       "                                                                                                     'it',\n",
       "                                                                                                     \"it's\",\n",
       "                                                                                                     'its',\n",
       "                                                                                                     'itself', ...]),\n",
       "                                                                         'title')])),\n",
       "                                       ('rf', RandomForestClassifier())]),\n",
       "             param_grid={'preprocessor__tvec__max_df': [0.95],\n",
       "                         'preprocessor__tvec__max_features': [800],\n",
       "                         'preprocessor__tvec__min_df': [2],\n",
       "                         'preprocessor__tvec__ngram_range': [(1, 1)]})"
      ]
     },
     "execution_count": 134,
     "metadata": {},
     "output_type": "execute_result"
    }
   ],
   "source": [
    "#fit model\n",
    "tvec_rf.fit(X_train,y_train)"
   ]
  },
  {
   "cell_type": "code",
   "execution_count": 135,
   "metadata": {},
   "outputs": [
    {
     "name": "stdout",
     "output_type": "stream",
     "text": [
      "Cross Validation Score: 0.8544509799536302\n"
     ]
    }
   ],
   "source": [
    "print(f'Cross Validation Score: {cross_val_score(tvec_rf, X_train,y_train, cv =5).mean()}')"
   ]
  },
  {
   "cell_type": "markdown",
   "metadata": {},
   "source": [
    "### 3.2 Random Forest Model Score TfidfVectorizer"
   ]
  },
  {
   "cell_type": "code",
   "execution_count": 136,
   "metadata": {},
   "outputs": [
    {
     "name": "stdout",
     "output_type": "stream",
     "text": [
      "Best Model Score: 0.8569\n",
      "Training Score: 0.9899\n",
      "Testing Score: 0.8428\n"
     ]
    }
   ],
   "source": [
    "tvec_rf_scores = print_gs_scores(tvec_rf,X_train,X_test,y_train,y_test)"
   ]
  },
  {
   "cell_type": "markdown",
   "metadata": {},
   "source": [
    "### 3.2 Random Forest Model Accuracy Score TfidfVectorizer"
   ]
  },
  {
   "cell_type": "code",
   "execution_count": 137,
   "metadata": {},
   "outputs": [],
   "source": [
    "#calculate preds\n",
    "tvec_rf_preds = tvec_rf.predict(X_test)"
   ]
  },
  {
   "cell_type": "code",
   "execution_count": 138,
   "metadata": {},
   "outputs": [
    {
     "name": "stdout",
     "output_type": "stream",
     "text": [
      "True Negatives: 404\n",
      "False Positives: 66\n",
      "False Negatives: 78\n",
      "True Positives: 368\n",
      "-----------------------\n",
      "Accuracy: 0.843\n",
      "Sensitivity: 0.825\n",
      "Specificity: 0.86\n",
      "Precision: 0.848\n",
      "\n",
      "F1 score: 0.8364\n",
      "ROC AUC score: 0.8423\n"
     ]
    },
    {
     "data": {
      "text/plain": [
       "<sklearn.metrics._plot.confusion_matrix.ConfusionMatrixDisplay at 0x7fb198548070>"
      ]
     },
     "execution_count": 138,
     "metadata": {},
     "output_type": "execute_result"
    },
    {
     "data": {
      "image/png": "[encoded data removed]",
      "text/plain": [
       "<Figure size 432x288 with 2 Axes>"
      ]
     },
     "metadata": {
      "needs_background": "light"
     },
     "output_type": "display_data"
    }
   ],
   "source": [
    "#print accuracy scores\n",
    "tvec_rf_acc_scores = print_acc_scores(y_test,tvec_rf_preds)\n",
    "#visualize confusion matrix\n",
    "plot_confusion_matrix(tvec_rf,X_test,y_test, cmap = 'Blues', values_format ='d')"
   ]
  },
  {
   "cell_type": "code",
   "execution_count": 139,
   "metadata": {},
   "outputs": [],
   "source": [
    "tvec_rf_scores.extend(tvec_rf_acc_scores)"
   ]
  },
  {
   "cell_type": "code",
   "execution_count": 140,
   "metadata": {},
   "outputs": [],
   "source": [
    "scores_df['tvec_rf'] = tvec_rf_scores"
   ]
  },
  {
   "cell_type": "markdown",
   "metadata": {},
   "source": [
    "The random forest models without grid search performed quite poorly compared to the logistic regression model. However random forest using tfidfvectorizer as a transformer does much better in terms of specificity. This is reflected in the score and the false positive values. Furthermore, the difference between the train and test score is too large which is a sign of overfitting. Thus, this model is not favorable when optimizing for specificity. It is quite apparent that random forest model does not return favorable results and will not be used over logistic regression so a grid search model of it will not be performed"
   ]
  },
  {
   "cell_type": "code",
   "execution_count": 141,
   "metadata": {},
   "outputs": [],
   "source": [
    "#round values in scores data frame\n",
    "scores_df = scores_df.round(3)"
   ]
  },
  {
   "cell_type": "code",
   "execution_count": 142,
   "metadata": {},
   "outputs": [],
   "source": [
    "scores_df.to_csv(r'./data/scores.csv')"
   ]
  },
  {
   "cell_type": "code",
   "execution_count": 143,
   "metadata": {},
   "outputs": [
    {
     "data": {
      "text/html": [
       "<div>\n",
       "<style scoped>\n",
       "    .dataframe tbody tr th:only-of-type {\n",
       "        vertical-align: middle;\n",
       "    }\n",
       "\n",
       "    .dataframe tbody tr th {\n",
       "        vertical-align: top;\n",
       "    }\n",
       "\n",
       "    .dataframe thead th {\n",
       "        text-align: right;\n",
       "    }\n",
       "</style>\n",
       "<table border=\"1\" class=\"dataframe\">\n",
       "  <thead>\n",
       "    <tr style=\"text-align: right;\">\n",
       "      <th></th>\n",
       "      <th>log</th>\n",
       "      <th>log2</th>\n",
       "      <th>log_gs</th>\n",
       "      <th>log_gs2</th>\n",
       "      <th>tvec_log</th>\n",
       "      <th>tvec_log2</th>\n",
       "      <th>tvec_log_gs</th>\n",
       "      <th>tvec_log_gs2</th>\n",
       "      <th>nb</th>\n",
       "      <th>tvec_nb</th>\n",
       "      <th>nb_gs</th>\n",
       "      <th>tvec_nb_gs</th>\n",
       "      <th>rf</th>\n",
       "      <th>tvec_rf</th>\n",
       "    </tr>\n",
       "  </thead>\n",
       "  <tbody>\n",
       "    <tr>\n",
       "      <th>BestModelScore</th>\n",
       "      <td>0.872</td>\n",
       "      <td>0.871</td>\n",
       "      <td>0.878</td>\n",
       "      <td>0.878</td>\n",
       "      <td>0.863</td>\n",
       "      <td>0.862</td>\n",
       "      <td>0.878</td>\n",
       "      <td>0.873</td>\n",
       "      <td>0.865</td>\n",
       "      <td>0.862</td>\n",
       "      <td>0.877</td>\n",
       "      <td>0.872</td>\n",
       "      <td>0.841</td>\n",
       "      <td>0.857</td>\n",
       "    </tr>\n",
       "    <tr>\n",
       "      <th>TrainScore</th>\n",
       "      <td>0.931</td>\n",
       "      <td>0.930</td>\n",
       "      <td>0.952</td>\n",
       "      <td>0.951</td>\n",
       "      <td>0.916</td>\n",
       "      <td>0.916</td>\n",
       "      <td>0.933</td>\n",
       "      <td>0.925</td>\n",
       "      <td>0.897</td>\n",
       "      <td>0.896</td>\n",
       "      <td>0.914</td>\n",
       "      <td>0.919</td>\n",
       "      <td>0.990</td>\n",
       "      <td>0.990</td>\n",
       "    </tr>\n",
       "    <tr>\n",
       "      <th>TestScore</th>\n",
       "      <td>0.849</td>\n",
       "      <td>0.856</td>\n",
       "      <td>0.862</td>\n",
       "      <td>0.862</td>\n",
       "      <td>0.846</td>\n",
       "      <td>0.846</td>\n",
       "      <td>0.860</td>\n",
       "      <td>0.847</td>\n",
       "      <td>0.843</td>\n",
       "      <td>0.847</td>\n",
       "      <td>0.853</td>\n",
       "      <td>0.853</td>\n",
       "      <td>0.822</td>\n",
       "      <td>0.843</td>\n",
       "    </tr>\n",
       "    <tr>\n",
       "      <th>TrueNeg</th>\n",
       "      <td>419.000</td>\n",
       "      <td>420.000</td>\n",
       "      <td>423.000</td>\n",
       "      <td>421.000</td>\n",
       "      <td>413.000</td>\n",
       "      <td>414.000</td>\n",
       "      <td>420.000</td>\n",
       "      <td>420.000</td>\n",
       "      <td>395.000</td>\n",
       "      <td>400.000</td>\n",
       "      <td>398.000</td>\n",
       "      <td>399.000</td>\n",
       "      <td>380.000</td>\n",
       "      <td>404.000</td>\n",
       "    </tr>\n",
       "    <tr>\n",
       "      <th>FalsePos</th>\n",
       "      <td>51.000</td>\n",
       "      <td>50.000</td>\n",
       "      <td>47.000</td>\n",
       "      <td>49.000</td>\n",
       "      <td>57.000</td>\n",
       "      <td>56.000</td>\n",
       "      <td>50.000</td>\n",
       "      <td>50.000</td>\n",
       "      <td>75.000</td>\n",
       "      <td>70.000</td>\n",
       "      <td>72.000</td>\n",
       "      <td>71.000</td>\n",
       "      <td>90.000</td>\n",
       "      <td>66.000</td>\n",
       "    </tr>\n",
       "    <tr>\n",
       "      <th>FalseNeg</th>\n",
       "      <td>87.000</td>\n",
       "      <td>82.000</td>\n",
       "      <td>79.000</td>\n",
       "      <td>77.000</td>\n",
       "      <td>84.000</td>\n",
       "      <td>85.000</td>\n",
       "      <td>78.000</td>\n",
       "      <td>78.000</td>\n",
       "      <td>69.000</td>\n",
       "      <td>70.000</td>\n",
       "      <td>63.000</td>\n",
       "      <td>64.000</td>\n",
       "      <td>73.000</td>\n",
       "      <td>78.000</td>\n",
       "    </tr>\n",
       "    <tr>\n",
       "      <th>TruePos</th>\n",
       "      <td>359.000</td>\n",
       "      <td>364.000</td>\n",
       "      <td>367.000</td>\n",
       "      <td>369.000</td>\n",
       "      <td>362.000</td>\n",
       "      <td>361.000</td>\n",
       "      <td>368.000</td>\n",
       "      <td>368.000</td>\n",
       "      <td>377.000</td>\n",
       "      <td>376.000</td>\n",
       "      <td>383.000</td>\n",
       "      <td>382.000</td>\n",
       "      <td>373.000</td>\n",
       "      <td>368.000</td>\n",
       "    </tr>\n",
       "    <tr>\n",
       "      <th>Accuracy</th>\n",
       "      <td>0.849</td>\n",
       "      <td>0.856</td>\n",
       "      <td>0.862</td>\n",
       "      <td>0.862</td>\n",
       "      <td>0.846</td>\n",
       "      <td>0.846</td>\n",
       "      <td>0.860</td>\n",
       "      <td>0.860</td>\n",
       "      <td>0.843</td>\n",
       "      <td>0.847</td>\n",
       "      <td>0.853</td>\n",
       "      <td>0.853</td>\n",
       "      <td>0.822</td>\n",
       "      <td>0.843</td>\n",
       "    </tr>\n",
       "    <tr>\n",
       "      <th>Sensitivity</th>\n",
       "      <td>0.805</td>\n",
       "      <td>0.816</td>\n",
       "      <td>0.823</td>\n",
       "      <td>0.827</td>\n",
       "      <td>0.812</td>\n",
       "      <td>0.809</td>\n",
       "      <td>0.825</td>\n",
       "      <td>0.825</td>\n",
       "      <td>0.845</td>\n",
       "      <td>0.843</td>\n",
       "      <td>0.859</td>\n",
       "      <td>0.857</td>\n",
       "      <td>0.836</td>\n",
       "      <td>0.825</td>\n",
       "    </tr>\n",
       "    <tr>\n",
       "      <th>Specificity</th>\n",
       "      <td>0.891</td>\n",
       "      <td>0.894</td>\n",
       "      <td>0.900</td>\n",
       "      <td>0.896</td>\n",
       "      <td>0.879</td>\n",
       "      <td>0.881</td>\n",
       "      <td>0.894</td>\n",
       "      <td>0.894</td>\n",
       "      <td>0.840</td>\n",
       "      <td>0.851</td>\n",
       "      <td>0.847</td>\n",
       "      <td>0.849</td>\n",
       "      <td>0.809</td>\n",
       "      <td>0.860</td>\n",
       "    </tr>\n",
       "    <tr>\n",
       "      <th>Precision</th>\n",
       "      <td>0.876</td>\n",
       "      <td>0.879</td>\n",
       "      <td>0.886</td>\n",
       "      <td>0.883</td>\n",
       "      <td>0.864</td>\n",
       "      <td>0.866</td>\n",
       "      <td>0.880</td>\n",
       "      <td>0.880</td>\n",
       "      <td>0.834</td>\n",
       "      <td>0.843</td>\n",
       "      <td>0.842</td>\n",
       "      <td>0.843</td>\n",
       "      <td>0.806</td>\n",
       "      <td>0.848</td>\n",
       "    </tr>\n",
       "    <tr>\n",
       "      <th>F1</th>\n",
       "      <td>0.839</td>\n",
       "      <td>0.847</td>\n",
       "      <td>0.853</td>\n",
       "      <td>0.854</td>\n",
       "      <td>0.837</td>\n",
       "      <td>0.837</td>\n",
       "      <td>0.852</td>\n",
       "      <td>0.852</td>\n",
       "      <td>0.840</td>\n",
       "      <td>0.843</td>\n",
       "      <td>0.850</td>\n",
       "      <td>0.850</td>\n",
       "      <td>0.821</td>\n",
       "      <td>0.836</td>\n",
       "    </tr>\n",
       "    <tr>\n",
       "      <th>ROCAUC</th>\n",
       "      <td>0.848</td>\n",
       "      <td>0.855</td>\n",
       "      <td>0.861</td>\n",
       "      <td>0.862</td>\n",
       "      <td>0.845</td>\n",
       "      <td>0.845</td>\n",
       "      <td>0.859</td>\n",
       "      <td>0.859</td>\n",
       "      <td>0.843</td>\n",
       "      <td>0.847</td>\n",
       "      <td>0.853</td>\n",
       "      <td>0.853</td>\n",
       "      <td>0.822</td>\n",
       "      <td>0.842</td>\n",
       "    </tr>\n",
       "  </tbody>\n",
       "</table>\n",
       "</div>"
      ],
      "text/plain": [
       "                    log     log2   log_gs  log_gs2  tvec_log  tvec_log2  \\\n",
       "BestModelScore    0.872    0.871    0.878    0.878     0.863      0.862   \n",
       "TrainScore        0.931    0.930    0.952    0.951     0.916      0.916   \n",
       "TestScore         0.849    0.856    0.862    0.862     0.846      0.846   \n",
       "TrueNeg         419.000  420.000  423.000  421.000   413.000    414.000   \n",
       "FalsePos         51.000   50.000   47.000   49.000    57.000     56.000   \n",
       "FalseNeg         87.000   82.000   79.000   77.000    84.000     85.000   \n",
       "TruePos         359.000  364.000  367.000  369.000   362.000    361.000   \n",
       "Accuracy          0.849    0.856    0.862    0.862     0.846      0.846   \n",
       "Sensitivity       0.805    0.816    0.823    0.827     0.812      0.809   \n",
       "Specificity       0.891    0.894    0.900    0.896     0.879      0.881   \n",
       "Precision         0.876    0.879    0.886    0.883     0.864      0.866   \n",
       "F1                0.839    0.847    0.853    0.854     0.837      0.837   \n",
       "ROCAUC            0.848    0.855    0.861    0.862     0.845      0.845   \n",
       "\n",
       "                tvec_log_gs  tvec_log_gs2       nb  tvec_nb    nb_gs  \\\n",
       "BestModelScore        0.878         0.873    0.865    0.862    0.877   \n",
       "TrainScore            0.933         0.925    0.897    0.896    0.914   \n",
       "TestScore             0.860         0.847    0.843    0.847    0.853   \n",
       "TrueNeg             420.000       420.000  395.000  400.000  398.000   \n",
       "FalsePos             50.000        50.000   75.000   70.000   72.000   \n",
       "FalseNeg             78.000        78.000   69.000   70.000   63.000   \n",
       "TruePos             368.000       368.000  377.000  376.000  383.000   \n",
       "Accuracy              0.860         0.860    0.843    0.847    0.853   \n",
       "Sensitivity           0.825         0.825    0.845    0.843    0.859   \n",
       "Specificity           0.894         0.894    0.840    0.851    0.847   \n",
       "Precision             0.880         0.880    0.834    0.843    0.842   \n",
       "F1                    0.852         0.852    0.840    0.843    0.850   \n",
       "ROCAUC                0.859         0.859    0.843    0.847    0.853   \n",
       "\n",
       "                tvec_nb_gs       rf  tvec_rf  \n",
       "BestModelScore       0.872    0.841    0.857  \n",
       "TrainScore           0.919    0.990    0.990  \n",
       "TestScore            0.853    0.822    0.843  \n",
       "TrueNeg            399.000  380.000  404.000  \n",
       "FalsePos            71.000   90.000   66.000  \n",
       "FalseNeg            64.000   73.000   78.000  \n",
       "TruePos            382.000  373.000  368.000  \n",
       "Accuracy             0.853    0.822    0.843  \n",
       "Sensitivity          0.857    0.836    0.825  \n",
       "Specificity          0.849    0.809    0.860  \n",
       "Precision            0.843    0.806    0.848  \n",
       "F1                   0.850    0.821    0.836  \n",
       "ROCAUC               0.853    0.822    0.842  "
      ]
     },
     "execution_count": 143,
     "metadata": {},
     "output_type": "execute_result"
    }
   ],
   "source": [
    "scores_df"
   ]
  },
  {
   "cell_type": "markdown",
   "metadata": {},
   "source": [
    "## Conclusion"
   ]
  },
  {
   "cell_type": "markdown",
   "metadata": {},
   "source": [
    "The main goal of this project was to build a model that could differentiate the headlines of satirical news and real news. In order to find the best model, it was important to run different version of the model with different transformations and features. Ideally we wanted to optimize for both specificity and sensitity to reduce both of the false positive and negatives. However, since it is more important to reduce the satire that is being mistaken for real news, minimizing false positives was favorable over optimizing for both.\n",
    "\n",
    "From our models it can be seen that model 1.3 Logistic Regression using grid search and countvectorizer transformer performed the best out of all the model since it minimized fale postitives and maximized specificty as a result. Including character and word count as features in the model did not seem to improve or worsen the models in any way.\n",
    "\n",
    "Thus we should use a logistic regression model with grid search as our model to classify our titles to our subreddits. There is still a lot of room for improvement though. \n",
    "\n",
    "Future recommendations would include collecting more data to have a larger data set to work with, including the contents of the article as features and possibly article length and word count as well. Also collecting more data from other satirical news articles would help improve our model as well. The distribution of the articles in terms of the content was definitely slightly biased since posts from r/worldnews included articles from many different news sources while posts from r/TheOnion were exclusively from the onion.\n",
    "\n",
    "There definitely is a different kind of danger involved with categorizing news as satire but not to the degree that categorizing satire as news has considering the statistics of how quickly misinformation spreads."
   ]
  },
  {
   "cell_type": "code",
   "execution_count": null,
   "metadata": {},
   "outputs": [],
   "source": []
  }
 ],
 "metadata": {
  "kernelspec": {
   "display_name": "Python 3",
   "language": "python",
   "name": "python3"
  },
  "language_info": {
   "codemirror_mode": {
    "name": "ipython",
    "version": 3
   },
   "file_extension": ".py",
   "mimetype": "text/x-python",
   "name": "python",
   "nbconvert_exporter": "python",
   "pygments_lexer": "ipython3",
   "version": "3.8.5"
  }
 },
 "nbformat": 4,
 "nbformat_minor": 4
}
