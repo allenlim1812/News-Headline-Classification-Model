{
 "cells": [
  {
   "cell_type": "code",
   "execution_count": 1,
   "metadata": {},
   "outputs": [],
   "source": [
    "import requests\n",
    "import json\n",
    "import pandas as pd\n",
    "import time\n",
    "import json\n",
    "import numpy as np\n",
    "import random"
   ]
  },
  {
   "cell_type": "code",
   "execution_count": 2,
   "metadata": {},
   "outputs": [],
   "source": [
    "#write function to return posts to delete\n",
    "def has_deleted(post):\n",
    "    if 'removed_by_category' in post:\n",
    "        return True\n",
    "    else:\n",
    "        return False"
   ]
  },
  {
   "cell_type": "code",
   "execution_count": 3,
   "metadata": {},
   "outputs": [],
   "source": [
    "#write function to delete posts from the has_deleted function\n",
    "def remove_deleted_posts(posts):\n",
    "    #start loop from the last index so the \n",
    "    for i in reversed(range(len(posts)-1)):\n",
    "        if has_deleted(posts[i]):\n",
    "            del posts[i]"
   ]
  },
  {
   "cell_type": "code",
   "execution_count": 4,
   "metadata": {},
   "outputs": [],
   "source": [
    "#function takes in subreddit name\n",
    "def scrape_reddit(subreddit,num_posts):\n",
    "    scraped_posts = [] #initialize empty list to store scraped posts\n",
    "    url = \"https://api.pushshift.io/reddit/search/submission\"\n",
    "    #set parameters\n",
    "    params = {\n",
    "            'subreddit': subreddit,\n",
    "            'size': 100,\n",
    "            'before': None\n",
    "        }\n",
    "    while len(scraped_posts) < num_posts:\n",
    "        res = requests.get(url,params) #create request\n",
    "        print(f'Status Code {res.status_code}') #print status code\n",
    "        if res.status_code == 200:\n",
    "            data = res.json() #Extract json data\n",
    "            posts = data['data'] #extract post data from json data\n",
    "            remove_deleted_posts(posts) #remove posts from list that have been deleted\n",
    "            print(f'No. of posts scraped ={len(posts)}')\n",
    "            scraped_posts.extend(posts)\n",
    "            print(f'Total No. of posts scraped = {len(scraped_posts)}')\n",
    "            print('----------------')\n",
    "            #change before parameter of params to the last post in the scraped post list\n",
    "            params['before'] = scraped_posts[-1].get('created_utc')\n",
    "            time.sleep(random.randint(0,5)) #randomize sleep time to not get blacklisted\n",
    "        else:\n",
    "            time.sleep(random.randint(0,5))\n",
    "            pass\n",
    "    return scraped_posts\n",
    "    "
   ]
  }
 ],
 "metadata": {
  "kernelspec": {
   "display_name": "Python 3",
   "language": "python",
   "name": "python3"
  },
  "language_info": {
   "codemirror_mode": {
    "name": "ipython",
    "version": 3
   },
   "file_extension": ".py",
   "mimetype": "text/x-python",
   "name": "python",
   "nbconvert_exporter": "python",
   "pygments_lexer": "ipython3",
   "version": "3.8.5"
  }
 },
 "nbformat": 4,
 "nbformat_minor": 4
}
